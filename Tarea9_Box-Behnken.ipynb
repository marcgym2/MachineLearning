{
  "cells": [
    {
      "cell_type": "markdown",
      "metadata": {
        "id": "view-in-github",
        "colab_type": "text"
      },
      "source": [
        "<a href=\"https://colab.research.google.com/github/marcgym2/MachineLearning/blob/main/Tarea9_Box-Behnken.ipynb\" target=\"_parent\"><img src=\"https://colab.research.google.com/assets/colab-badge.svg\" alt=\"Open In Colab\"/></a>"
      ]
    },
    {
      "cell_type": "markdown",
      "metadata": {
        "id": "7B7c_3XyQ4SW"
      },
      "source": [
        "\n",
        "## Tarea 9 (10 puntos)\n",
        "- Realizar un diseño de experimentos para tu problema de estudio en la que indiques los niveles y tratamientos de interés.\n",
        "- Reporta en la metodología de tu artículo el diseño de experimentos que realizaste."
      ]
    },
    {
      "cell_type": "code",
      "source": [
        "!pip install pydoe2"
      ],
      "metadata": {
        "id": "bIx21HoJOyUB",
        "outputId": "9158c8d7-a521-4657-cd66-b6c44bbed8d6",
        "colab": {
          "base_uri": "https://localhost:8080/"
        }
      },
      "execution_count": 24,
      "outputs": [
        {
          "output_type": "stream",
          "name": "stdout",
          "text": [
            "Looking in indexes: https://pypi.org/simple, https://us-python.pkg.dev/colab-wheels/public/simple/\n",
            "Collecting pydoe2\n",
            "  Downloading pyDOE2-1.3.0.tar.gz (19 kB)\n",
            "  Preparing metadata (setup.py) ... \u001b[?25l\u001b[?25hdone\n",
            "Requirement already satisfied: numpy in /usr/local/lib/python3.9/dist-packages (from pydoe2) (1.22.4)\n",
            "Requirement already satisfied: scipy in /usr/local/lib/python3.9/dist-packages (from pydoe2) (1.10.1)\n",
            "Building wheels for collected packages: pydoe2\n",
            "  Building wheel for pydoe2 (setup.py) ... \u001b[?25l\u001b[?25hdone\n",
            "  Created wheel for pydoe2: filename=pyDOE2-1.3.0-py3-none-any.whl size=25537 sha256=e7518ab58bb6e8ea3d3c537c4c765cfb276e2da54f8f8f3160e72c615f57d15f\n",
            "  Stored in directory: /root/.cache/pip/wheels/a7/56/10/2dcc175569666fb8af5c210980eb5833befd399780e71e6749\n",
            "Successfully built pydoe2\n",
            "Installing collected packages: pydoe2\n",
            "Successfully installed pydoe2-1.3.0\n"
          ]
        }
      ]
    },
    {
      "cell_type": "code",
      "execution_count": 27,
      "metadata": {
        "id": "SUYBpNA1VdcJ"
      },
      "outputs": [],
      "source": [
        "import numpy as np\n",
        "import pandas as pd\n",
        "from sklearn.preprocessing import MinMaxScaler\n",
        "from tensorflow.keras.models import Sequential\n",
        "from tensorflow.keras.layers import Dense, Dropout\n",
        "from tensorflow.keras import regularizers\n",
        "import tensorflow as tf\n",
        "from pyDOE2 import bbdesign"
      ]
    },
    {
      "cell_type": "code",
      "source": [
        "# Cargar dataset\n",
        "from google.colab import drive\n",
        "drive.mount(\"/content/drive\")\n",
        "df_measures = pd.read_csv(\"/content/drive/MyDrive/Colab Notebooks/measures_v2.csv\")"
      ],
      "metadata": {
        "id": "qDKCf2LFOhY-",
        "outputId": "58f197c6-bf01-4288-ec2a-7871c8390671",
        "colab": {
          "base_uri": "https://localhost:8080/"
        }
      },
      "execution_count": 4,
      "outputs": [
        {
          "output_type": "stream",
          "name": "stdout",
          "text": [
            "Mounted at /content/drive\n"
          ]
        }
      ]
    },
    {
      "cell_type": "code",
      "source": [
        "# Definir variables independientes y dependientes\n",
        "x_vars = [\"u_q\", \"coolant\", \"ambient\", \"u_d\", \"motor_speed\", \"i_q\", \"i_d\"]\n",
        "y_vars = [\"pm\", \"torque\", \"stator_yoke\", \"stator_tooth\", \"stator_winding\"]\n",
        "x_levels = [-1, 1] # Niveles codificados de las variables independientes"
      ],
      "metadata": {
        "id": "FBAgagzkO7C7"
      },
      "execution_count": 28,
      "outputs": []
    },
    {
      "cell_type": "code",
      "source": [
        "# DOE Definir el diseño óptimo de Box-Behnken\n",
        "bb_design = bbdesign(len(x_vars), center=1)"
      ],
      "metadata": {
        "id": "Bdgfvh6FO-Lc"
      },
      "execution_count": 29,
      "outputs": []
    },
    {
      "cell_type": "code",
      "source": [
        "# Transformar los valores de las variables independientes a sus valores reales\n",
        "bb_design = np.multiply(bb_design, (np.max(df_measures[x_vars].values, axis=0) - \n",
        "                                    np.min(df_measures[x_vars].values, axis=0))) / 2 + \\\n",
        "                                    (np.max(df_measures[x_vars].values, axis=0) + \n",
        "                                     np.min(df_measures[x_vars].values, axis=0)) / 2\n"
      ],
      "metadata": {
        "id": "A90-kjbLPxe5"
      },
      "execution_count": 30,
      "outputs": []
    },
    {
      "cell_type": "code",
      "source": [
        "# Escalar los datos\n",
        "scaler = MinMaxScaler(feature_range=(0, 1))\n",
        "df_measures[x_vars + y_vars] = scaler.fit_transform(df_measures[x_vars + y_vars])\n"
      ],
      "metadata": {
        "id": "bIV-67irT67J"
      },
      "execution_count": 31,
      "outputs": []
    },
    {
      "cell_type": "code",
      "source": [
        "# Dividir los datos en conjunto de entrenamiento y prueba\n",
        "train_size = int(len(df_measures) * 0.7)\n",
        "train_set = df_measures.iloc[:train_size]\n",
        "test_set = df_measures.iloc[train_size:]"
      ],
      "metadata": {
        "id": "bLXLdGQpT9oV"
      },
      "execution_count": 32,
      "outputs": []
    },
    {
      "cell_type": "code",
      "source": [
        "# Definir el modelo de red neuronal\n",
        "model = Sequential()\n",
        "\n",
        "# Añadir las capas ocultas\n",
        "model.add(Dense(128, input_dim=len(x_vars), activation='relu'))\n",
        "model.add(Dropout(0.2))\n",
        "model.add(Dense(64, activation='relu'))\n",
        "model.add(Dropout(0.2))\n",
        "model.add(Dense(32, activation='relu'))\n",
        "model.add(Dropout(0.2))\n"
      ],
      "metadata": {
        "id": "BW7Nbp92UA4Y"
      },
      "execution_count": 33,
      "outputs": []
    },
    {
      "cell_type": "code",
      "source": [
        "# Añadir la capa de salida\n",
        "model.add(Dense(len(y_vars), activation='linear', \n",
        "                kernel_regularizer=regularizers.L1L2(l1=1e-5, l2=1e-4)))\n"
      ],
      "metadata": {
        "id": "Axijz6zNUEO-"
      },
      "execution_count": 34,
      "outputs": []
    },
    {
      "cell_type": "code",
      "source": [
        "# Definir el optimizador y la función de pérdida\n",
        "opt = tf.keras.optimizers.Adam(learning_rate=0.001)\n",
        "model.compile(loss='mse', optimizer=opt)\n"
      ],
      "metadata": {
        "id": "2pfyki1XUHa5"
      },
      "execution_count": 35,
      "outputs": []
    },
    {
      "cell_type": "code",
      "source": [
        "# Entrenar el modelo\n",
        "history = model.fit(train_set[x_vars], train_set[y_vars],\n",
        "                    validation_data=(test_set[x_vars], test_set[y_vars]),\n",
        "                    epochs=50, batch_size=128)\n"
      ],
      "metadata": {
        "id": "c_iAlrSlUJVA",
        "outputId": "1808d11c-2ce4-4784-98fc-19cb88f35f78",
        "colab": {
          "base_uri": "https://localhost:8080/"
        }
      },
      "execution_count": 39,
      "outputs": [
        {
          "output_type": "stream",
          "name": "stdout",
          "text": [
            "Epoch 1/50\n",
            "7278/7278 [==============================] - 30s 4ms/step - loss: 0.0074 - val_loss: 0.0095\n",
            "Epoch 2/50\n",
            "7278/7278 [==============================] - 32s 4ms/step - loss: 0.0073 - val_loss: 0.0095\n",
            "Epoch 3/50\n",
            "7278/7278 [==============================] - 32s 4ms/step - loss: 0.0073 - val_loss: 0.0096\n",
            "Epoch 4/50\n",
            "7278/7278 [==============================] - 27s 4ms/step - loss: 0.0072 - val_loss: 0.0095\n",
            "Epoch 5/50\n",
            "7278/7278 [==============================] - 30s 4ms/step - loss: 0.0072 - val_loss: 0.0095\n",
            "Epoch 6/50\n",
            "7278/7278 [==============================] - 35s 5ms/step - loss: 0.0071 - val_loss: 0.0096\n",
            "Epoch 7/50\n",
            "7278/7278 [==============================] - 28s 4ms/step - loss: 0.0071 - val_loss: 0.0096\n",
            "Epoch 8/50\n",
            "7278/7278 [==============================] - 26s 4ms/step - loss: 0.0071 - val_loss: 0.0096\n",
            "Epoch 9/50\n",
            "7278/7278 [==============================] - 27s 4ms/step - loss: 0.0071 - val_loss: 0.0096\n",
            "Epoch 10/50\n",
            "7278/7278 [==============================] - 31s 4ms/step - loss: 0.0070 - val_loss: 0.0096\n",
            "Epoch 11/50\n",
            "7278/7278 [==============================] - 28s 4ms/step - loss: 0.0070 - val_loss: 0.0097\n",
            "Epoch 12/50\n",
            "7278/7278 [==============================] - 28s 4ms/step - loss: 0.0070 - val_loss: 0.0095\n",
            "Epoch 13/50\n",
            "7278/7278 [==============================] - 26s 4ms/step - loss: 0.0070 - val_loss: 0.0092\n",
            "Epoch 14/50\n",
            "7278/7278 [==============================] - 26s 4ms/step - loss: 0.0070 - val_loss: 0.0098\n",
            "Epoch 15/50\n",
            "7278/7278 [==============================] - 26s 4ms/step - loss: 0.0069 - val_loss: 0.0095\n",
            "Epoch 16/50\n",
            "7278/7278 [==============================] - 30s 4ms/step - loss: 0.0069 - val_loss: 0.0096\n",
            "Epoch 17/50\n",
            "7278/7278 [==============================] - 26s 4ms/step - loss: 0.0069 - val_loss: 0.0095\n",
            "Epoch 18/50\n",
            "7278/7278 [==============================] - 30s 4ms/step - loss: 0.0069 - val_loss: 0.0098\n",
            "Epoch 19/50\n",
            "7278/7278 [==============================] - 29s 4ms/step - loss: 0.0069 - val_loss: 0.0097\n",
            "Epoch 20/50\n",
            "7278/7278 [==============================] - 31s 4ms/step - loss: 0.0069 - val_loss: 0.0096\n",
            "Epoch 21/50\n",
            "7278/7278 [==============================] - 32s 4ms/step - loss: 0.0069 - val_loss: 0.0096\n",
            "Epoch 22/50\n",
            "7278/7278 [==============================] - 30s 4ms/step - loss: 0.0068 - val_loss: 0.0098\n",
            "Epoch 23/50\n",
            "7278/7278 [==============================] - 27s 4ms/step - loss: 0.0068 - val_loss: 0.0095\n",
            "Epoch 24/50\n",
            "7278/7278 [==============================] - 26s 4ms/step - loss: 0.0068 - val_loss: 0.0096\n",
            "Epoch 25/50\n",
            "7278/7278 [==============================] - 31s 4ms/step - loss: 0.0068 - val_loss: 0.0097\n",
            "Epoch 26/50\n",
            "7278/7278 [==============================] - 25s 3ms/step - loss: 0.0068 - val_loss: 0.0098\n",
            "Epoch 27/50\n",
            "7278/7278 [==============================] - 30s 4ms/step - loss: 0.0068 - val_loss: 0.0098\n",
            "Epoch 28/50\n",
            "7278/7278 [==============================] - 30s 4ms/step - loss: 0.0068 - val_loss: 0.0099\n",
            "Epoch 29/50\n",
            "7278/7278 [==============================] - 29s 4ms/step - loss: 0.0068 - val_loss: 0.0096\n",
            "Epoch 30/50\n",
            "7278/7278 [==============================] - 26s 4ms/step - loss: 0.0068 - val_loss: 0.0097\n",
            "Epoch 31/50\n",
            "7278/7278 [==============================] - 29s 4ms/step - loss: 0.0067 - val_loss: 0.0097\n",
            "Epoch 32/50\n",
            "7278/7278 [==============================] - 30s 4ms/step - loss: 0.0067 - val_loss: 0.0096\n",
            "Epoch 33/50\n",
            "7278/7278 [==============================] - 29s 4ms/step - loss: 0.0067 - val_loss: 0.0095\n",
            "Epoch 34/50\n",
            "7278/7278 [==============================] - 30s 4ms/step - loss: 0.0067 - val_loss: 0.0099\n",
            "Epoch 35/50\n",
            "7278/7278 [==============================] - 30s 4ms/step - loss: 0.0067 - val_loss: 0.0097\n",
            "Epoch 36/50\n",
            "7278/7278 [==============================] - 27s 4ms/step - loss: 0.0067 - val_loss: 0.0096\n",
            "Epoch 37/50\n",
            "7278/7278 [==============================] - 27s 4ms/step - loss: 0.0067 - val_loss: 0.0097\n",
            "Epoch 38/50\n",
            "7278/7278 [==============================] - 30s 4ms/step - loss: 0.0067 - val_loss: 0.0095\n",
            "Epoch 39/50\n",
            "7278/7278 [==============================] - 26s 4ms/step - loss: 0.0067 - val_loss: 0.0096\n",
            "Epoch 40/50\n",
            "7278/7278 [==============================] - 26s 4ms/step - loss: 0.0067 - val_loss: 0.0094\n",
            "Epoch 41/50\n",
            "7278/7278 [==============================] - 26s 4ms/step - loss: 0.0067 - val_loss: 0.0094\n",
            "Epoch 42/50\n",
            "7278/7278 [==============================] - 26s 4ms/step - loss: 0.0067 - val_loss: 0.0095\n",
            "Epoch 43/50\n",
            "7278/7278 [==============================] - 26s 4ms/step - loss: 0.0066 - val_loss: 0.0095\n",
            "Epoch 44/50\n",
            "7278/7278 [==============================] - 30s 4ms/step - loss: 0.0066 - val_loss: 0.0096\n",
            "Epoch 45/50\n",
            "7278/7278 [==============================] - 25s 3ms/step - loss: 0.0066 - val_loss: 0.0097\n",
            "Epoch 46/50\n",
            "7278/7278 [==============================] - 26s 4ms/step - loss: 0.0066 - val_loss: 0.0097\n",
            "Epoch 47/50\n",
            "7278/7278 [==============================] - 26s 4ms/step - loss: 0.0066 - val_loss: 0.0100\n",
            "Epoch 48/50\n",
            "7278/7278 [==============================] - 31s 4ms/step - loss: 0.0066 - val_loss: 0.0098\n",
            "Epoch 49/50\n",
            "7278/7278 [==============================] - 28s 4ms/step - loss: 0.0066 - val_loss: 0.0094\n",
            "Epoch 50/50\n",
            "7278/7278 [==============================] - 31s 4ms/step - loss: 0.0066 - val_loss: 0.0093\n"
          ]
        }
      ]
    },
    {
      "cell_type": "code",
      "source": [
        "# Obtener las predicciones en el conjunto de prueba\n",
        "predictions = model.predict(test_set[x_vars])"
      ],
      "metadata": {
        "id": "x5UPpyxhYqbR",
        "outputId": "b827f0ce-3678-492e-87cd-c3de500fdf58",
        "colab": {
          "base_uri": "https://localhost:8080/"
        }
      },
      "execution_count": 40,
      "outputs": [
        {
          "output_type": "stream",
          "name": "stdout",
          "text": [
            "12477/12477 [==============================] - 14s 1ms/step\n"
          ]
        }
      ]
    },
    {
      "cell_type": "code",
      "source": [
        "# Calcular las métricas de evaluación en el conjunto de prueba\n",
        "mse = np.mean(np.square(predictions - test_set[y_vars]))\n",
        "rmse = np.sqrt(mse)\n",
        "mae = np.mean(np.abs(predictions - test_set[y_vars]))\n",
        "r2 = 1 - (np.sum(np.square(predictions - test_set[y_vars])) / \n",
        "          np.sum(np.square(test_set[y_vars] - np.mean(test_set[y_vars], axis=0))))\n",
        "\n",
        "print(\"RMSE en el conjunto de prueba:\", rmse)\n",
        "print(\"R^2 en el conjunto de prueba:\", r2)\n",
        "print(\"MAE en el conjunto de prueba:\", mae)\n",
        "print(\"MSE en el conjunto de prueba:\", mse)"
      ],
      "metadata": {
        "id": "-L7XAu8TYs3t",
        "outputId": "b09d6003-07fd-45b6-8d50-f4fa317dc392",
        "colab": {
          "base_uri": "https://localhost:8080/"
        }
      },
      "execution_count": 41,
      "outputs": [
        {
          "output_type": "stream",
          "name": "stdout",
          "text": [
            "RMSE en el conjunto de prueba: pm                0.109551\n",
            "torque            0.026524\n",
            "stator_yoke       0.087089\n",
            "stator_tooth      0.111636\n",
            "stator_winding    0.116257\n",
            "dtype: float64\n",
            "R^2 en el conjunto de prueba: pm                0.473920\n",
            "torque            0.969545\n",
            "stator_yoke       0.850503\n",
            "stator_tooth      0.735437\n",
            "stator_winding    0.654852\n",
            "dtype: float64\n",
            "MAE en el conjunto de prueba: pm                0.085861\n",
            "torque            0.019625\n",
            "stator_yoke       0.067936\n",
            "stator_tooth      0.088294\n",
            "stator_winding    0.093604\n",
            "dtype: float64\n",
            "MSE en el conjunto de prueba: pm                0.012001\n",
            "torque            0.000704\n",
            "stator_yoke       0.007585\n",
            "stator_tooth      0.012463\n",
            "stator_winding    0.013516\n",
            "dtype: float64\n"
          ]
        },
        {
          "output_type": "stream",
          "name": "stderr",
          "text": [
            "/usr/local/lib/python3.9/dist-packages/numpy/core/fromnumeric.py:3472: FutureWarning: In a future version, DataFrame.mean(axis=None) will return a scalar mean over the entire DataFrame. To retain the old behavior, use 'frame.mean(axis=0)' or just 'frame.mean()'\n",
            "  return mean(axis=axis, dtype=dtype, out=out, **kwargs)\n",
            "/usr/local/lib/python3.9/dist-packages/numpy/core/fromnumeric.py:3472: FutureWarning: In a future version, DataFrame.mean(axis=None) will return a scalar mean over the entire DataFrame. To retain the old behavior, use 'frame.mean(axis=0)' or just 'frame.mean()'\n",
            "  return mean(axis=axis, dtype=dtype, out=out, **kwargs)\n"
          ]
        }
      ]
    }
  ],
  "metadata": {
    "colab": {
      "provenance": [],
      "authorship_tag": "ABX9TyPp1VF4hlGjhfZL1mDNIOlH",
      "include_colab_link": true
    },
    "kernelspec": {
      "display_name": "Python 3",
      "name": "python3"
    },
    "language_info": {
      "name": "python"
    }
  },
  "nbformat": 4,
  "nbformat_minor": 0
}