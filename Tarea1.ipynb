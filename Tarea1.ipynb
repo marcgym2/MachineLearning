{
  "nbformat": 4,
  "nbformat_minor": 0,
  "metadata": {
    "colab": {
      "provenance": [],
      "authorship_tag": "ABX9TyPHRDTLq6nnj8TSBDWg0wSJ",
      "include_colab_link": true
    },
    "kernelspec": {
      "name": "python3",
      "display_name": "Python 3"
    },
    "language_info": {
      "name": "python"
    }
  },
  "cells": [
    {
      "cell_type": "markdown",
      "metadata": {
        "id": "view-in-github",
        "colab_type": "text"
      },
      "source": [
        "<a href=\"https://colab.research.google.com/github/marcgym2/MachineLearning/blob/main/Tarea1.ipynb\" target=\"_parent\"><img src=\"https://colab.research.google.com/assets/colab-badge.svg\" alt=\"Open In Colab\"/></a>"
      ]
    },
    {
      "cell_type": "markdown",
      "source": [
        "# Tarea 1 \n",
        "\n",
        "8 puntos\n",
        "1. Definir un conjunto de datos sobre el que se trabajará durante el curso \n",
        "\n",
        "2. Justificar su elección\n",
        "\n",
        "3. Establecer objetivos a lograr en el curso\n",
        "\n",
        "4. Subir explicación en el repositorio en un cuaderno de Jupyter"
      ],
      "metadata": {
        "id": "uxlEK0qC9X2k"
      }
    },
    {
      "cell_type": "markdown",
      "source": [
        "## Respuestas\n",
        "\n",
        "El conjunto de datos ha trabajar durante el curso es el llamado \"[Electric Motor Temperature](https://www.kaggle.com/datasets/wkirgsn/electric-motor-temperature?datasetId=236410&sortBy=voteCount)\". Fue compilado por [LEA department](https://ei.uni-paderborn.de/en/lea/) de la Paderborn University. Este comprende varios datos de sensores recopilados de un motor síncrono de imanes permanentes (PMSM) desplegado en un banco de pruebas. El PMSM representa un modelo prototipo de un OEM alemán. \n",
        "\n",
        "Todas las grabaciones se muestrean a 2 Hz. El conjunto de datos consta de varias sesiones de medición, que se pueden distinguir entre sí por la columna \"profile_id\". Una sesión de medición puede durar entre una y seis horas.\n",
        "Las corrientes en las coordenadas d/q (columnas \"i_d\" e i_q\") y las tensiones en las coordenadas d/q (columnas \"u_d\" y \"u_q\") son el resultado de una estrategia de control estándar que intenta seguir la velocidad y el par de referencia .\n",
        "Las columnas \"motor_speed\" y \"torque\" son las cantidades resultantes logradas por esa estrategia, derivadas de las corrientes y voltajes establecidos.\n",
        "\n",
        "\n",
        "El objetivo principal ha lograr con el presente conjunto de datos es crear un modelo de alto rendimiento utilizando técnicas de aprendizaje automático para detectar anomalías, predicción y la prevención proactiva de fallas. Dada la necesidad del sector manufacturero de científicos de datos en el análisis del Internet de las Cosas.\n"
      ],
      "metadata": {
        "id": "9uLMNtCK9i1_"
      }
    }
  ]
}