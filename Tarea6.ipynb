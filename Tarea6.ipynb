{
  "nbformat": 4,
  "nbformat_minor": 0,
  "metadata": {
    "colab": {
      "provenance": [],
      "authorship_tag": "ABX9TyOZ7oroK/bsTeiLW026cTXV",
      "include_colab_link": true
    },
    "kernelspec": {
      "name": "python3",
      "display_name": "Python 3"
    },
    "language_info": {
      "name": "python"
    }
  },
  "cells": [
    {
      "cell_type": "markdown",
      "metadata": {
        "id": "view-in-github",
        "colab_type": "text"
      },
      "source": [
        "<a href=\"https://colab.research.google.com/github/marcgym2/MachineLearning/blob/main/Tarea6.ipynb\" target=\"_parent\"><img src=\"https://colab.research.google.com/assets/colab-badge.svg\" alt=\"Open In Colab\"/></a>"
      ]
    },
    {
      "cell_type": "markdown",
      "source": [
        "## Tarea (10 puntos)\n",
        "\n",
        "- Investigar sobre algoritmos supervisados que puedan aplicarse a tu problema. Da un panorama sobre el modelo matemático que emplean y explica por qué conviene utilizarlo\n",
        "- Investigar sobre métricas para analizar los errores de tus datos y discutirla (generalmente se usan MAE, MAPE, RMSE, MSE...)\n",
        "- Aplicar al menos un algoritmo supervisado a tus datos para predecir alguna variable (puede ser interpolación o extrapolación)\n",
        "- Actualiza literatura relacionada, metodología, resultados y discusión en tu artículo\n",
        "- Sube el código de tu tarea, los archivos de Latex y el PDF del artículo en tu repositorio, claramente diferenciados"
      ],
      "metadata": {
        "id": "7B7c_3XyQ4SW"
      }
    },
    {
      "cell_type": "markdown",
      "source": [
        "Dado que desea predecir el torque, una variable continua, se pueden considerar varios algoritmos supervisados para abordar el problema:\n",
        "\n",
        "- Regresión lineal: Técnica comúnmente utilizada para problemas de predicción de variables continuas. La regresión lineal puede ser una buena opción para predecir el torque si la relación entre las variables de entrada y el torque puede modelarse de manera lineal. El modelo toma la forma de una ecuación lineal de la forma: $$y = b_0 + b_1 x_1 + b_2 x_2 + ... + b_n x_n$$\n",
        "\n",
        "  donde $y$ es la variable de salida que se desea predecir, $x_1, x_2, ..., x_n$ son las variables de entrada, y $b_0, b_1, b_2, ..., b_n$ son los coeficientes que se ajustan durante el entrenamiento del modelo.\n",
        "\n",
        "- Regresión de árbol de decisión: La regresión de árbol de decisión utiliza un modelo matemático que se basa en una estructura de árbol. Cada nodo en el árbol representa una variable de entrada y cada borde representa una regla de decisión que divide el espacio de entrada en regiones cada vez más pequeñas. La predicción se realiza siguiendo el camino a través del árbol hasta que se llega a una hoja que proporciona la predicción.\n",
        "- Random Forest: Random Forest utiliza múltiples árboles de decisión y combina sus predicciones para obtener una predicción más precisa. Cada árbol en el bosque se construye de manera similar a la regresión de árbol de decisión descrita anteriormente.\n",
        "- Redes neuronales: Las redes neuronales utilizan un modelo matemático que está inspirado en la forma en que funciona el cerebro. Las redes neuronales consisten en capas de neuronas artificiales, donde cada neurona toma las entradas de las neuronas de la capa anterior y produce una salida que se alimenta en las neuronas de la capa siguiente. Las neuronas están conectadas por pesos que se ajustan durante el entrenamiento de la red. La salida final de la red es una combinación no lineal de las entradas y los pesos."
      ],
      "metadata": {
        "id": "GMBrKgbzS-oL"
      }
    },
    {
      "cell_type": "markdown",
      "source": [
        "Se decide utilizar el de árbol de decisión ya que pueden ser rápidos y eficientes en términos de recursos computacionales. Además, los árboles de decisión proporcionan una representación gráfica del modelo resultante, lo que puede ser útil para interpretar los resultados"
      ],
      "metadata": {
        "id": "dAgrdyGVYg9-"
      }
    },
    {
      "cell_type": "code",
      "source": [
        "import pandas as pd\n",
        "from sklearn.tree import DecisionTreeRegressor\n",
        "from sklearn.model_selection import train_test_split\n",
        "from sklearn.metrics import mean_squared_error, r2_score\n",
        "from sklearn.preprocessing import MinMaxScaler\n",
        "\n",
        "# Cargar los datos\n",
        "from google.colab import drive\n",
        "drive.mount(\"/content/drive\")\n",
        "df_measures = pd.read_csv(\"/content/drive/MyDrive/Colab Notebooks/measures_v2.csv\")"
      ],
      "metadata": {
        "colab": {
          "base_uri": "https://localhost:8080/"
        },
        "id": "SUYBpNA1VdcJ",
        "outputId": "644ca129-6ebd-4653-c627-7e129bb8aa89"
      },
      "execution_count": 2,
      "outputs": [
        {
          "output_type": "stream",
          "name": "stdout",
          "text": [
            "Drive already mounted at /content/drive; to attempt to forcibly remount, call drive.mount(\"/content/drive\", force_remount=True).\n"
          ]
        }
      ]
    },
    {
      "cell_type": "code",
      "source": [
        "# Separar las variables independientes (X) y la variable dependiente (y)\n",
        "X = df_measures.drop(['torque'], axis=1)\n",
        "y = df_measures['torque']"
      ],
      "metadata": {
        "id": "02Iax5J6W0GP"
      },
      "execution_count": 3,
      "outputs": []
    },
    {
      "cell_type": "code",
      "source": [
        "# Normalizar los datos\n",
        "scaler = MinMaxScaler()\n",
        "X_scaled = scaler.fit_transform(X)"
      ],
      "metadata": {
        "id": "90GHd-urW_iY"
      },
      "execution_count": 4,
      "outputs": []
    },
    {
      "cell_type": "code",
      "source": [
        "# Separar los datos en conjuntos de entrenamiento y prueba\n",
        "X_train, X_test, y_train, y_test = train_test_split(X_scaled, y, test_size=0.2, random_state=42)"
      ],
      "metadata": {
        "id": "O0Fnt0h6XA6E"
      },
      "execution_count": 5,
      "outputs": []
    },
    {
      "cell_type": "code",
      "source": [
        "# Crear el modelo de árbol de decisión\n",
        "tree = DecisionTreeRegressor(random_state=42)"
      ],
      "metadata": {
        "id": "7GjjgbxeXESx"
      },
      "execution_count": 27,
      "outputs": []
    },
    {
      "cell_type": "code",
      "source": [
        "# Entrenar el modelo\n",
        "tree.fit(X_train, y_train)"
      ],
      "metadata": {
        "colab": {
          "base_uri": "https://localhost:8080/"
        },
        "id": "I_y_uBlBXHoO",
        "outputId": "b4dcbc37-7663-4dcc-f457-b1b2f0ce1afa"
      },
      "execution_count": 28,
      "outputs": [
        {
          "output_type": "execute_result",
          "data": {
            "text/plain": [
              "DecisionTreeRegressor(random_state=42)"
            ]
          },
          "metadata": {},
          "execution_count": 28
        }
      ]
    },
    {
      "cell_type": "code",
      "source": [
        "# Realizar predicciones con el conjunto de prueba\n",
        "y_pred = tree.predict(X_test)"
      ],
      "metadata": {
        "id": "Hp8KDUs0XIyM"
      },
      "execution_count": 39,
      "outputs": []
    },
    {
      "cell_type": "code",
      "source": [
        "# Calcular las métricas de error\n",
        "mse = mean_squared_error(y_test, y_pred)\n",
        "r2 = r2_score(y_test, y_pred)\n",
        "\n",
        "print(\"Mean Squared Error (MSE): {:.2f}\".format(mse))\n",
        "print(\"Coefficient of determination (R^2): {:.2f}\".format(r2))"
      ],
      "metadata": {
        "colab": {
          "base_uri": "https://localhost:8080/"
        },
        "id": "JMJOOHjmXKMC",
        "outputId": "60b4076b-c040-4838-c40a-a34183044a19"
      },
      "execution_count": 30,
      "outputs": [
        {
          "output_type": "stream",
          "name": "stdout",
          "text": [
            "Mean Squared Error (MSE): 0.39\n",
            "Coefficient of determination (R^2): 1.00\n"
          ]
        }
      ]
    },
    {
      "cell_type": "markdown",
      "source": [
        "Un **MSE (Mean Squared Error) de 0.39** indica que, en promedio, el modelo tiene un error cuadrático medio de 0.39 unidades al predecir la variable de interés. Un MSE bajo indica que el modelo tiene una buena capacidad de predicción, ya que los errores en las predicciones son relativamente pequeños.\n",
        "\n",
        "Por otro lado, un **$R2$ (coeficiente de determinación) de 1** indica que el modelo se ajusta perfectamente a los datos y es capaz de explicar el 100% de la variabilidad en la variable de interés. Es decir, todas las variaciones observadas en los datos se explican por el modelo, lo que sugiere que el modelo es altamente preciso y adecuado para las predicciones.\n",
        "\n",
        "Sin embargo, es importante tener en cuenta que un $R2$ de 1 puede ser una señal de sobreajuste del modelo a los datos,"
      ],
      "metadata": {
        "id": "hSTSH-RAYJtu"
      }
    },
    {
      "cell_type": "code",
      "source": [
        "import matplotlib.pyplot as plt\n",
        "\n",
        "plt.scatter(y_test, y_pred)\n",
        "plt.plot([y_test.min(), y_test.max()], [y_test.min(), y_test.max()], 'k--', lw=4)\n",
        "plt.xlabel('Medido')\n",
        "plt.ylabel('Pronosticado')\n",
        "plt.show()"
      ],
      "metadata": {
        "colab": {
          "base_uri": "https://localhost:8080/",
          "height": 298
        },
        "id": "H4gs6NjRY7he",
        "outputId": "472603c7-455f-4da2-e374-56ec08f86544"
      },
      "execution_count": 36,
      "outputs": [
        {
          "output_type": "display_data",
          "data": {
            "text/plain": [
              "<Figure size 432x288 with 1 Axes>"
            ],
            "image/png": "[encoded data removed]"
          },
          "metadata": {}
        }
      ]
    },
    {
      "cell_type": "code",
      "source": [
        "import numpy as np\n",
        "\n",
        "plt.bar(['MSE', 'R2'], [mse, r2])\n",
        "plt.ylim(0, np.max([mse, r2])*1.1)\n",
        "plt.ylabel('Puntuación')\n",
        "plt.show()"
      ],
      "metadata": {
        "colab": {
          "base_uri": "https://localhost:8080/",
          "height": 276
        },
        "id": "OC-FJGpJdhXk",
        "outputId": "6fd2e017-6414-4e61-941e-2e23dbbed1c3"
      },
      "execution_count": 37,
      "outputs": [
        {
          "output_type": "display_data",
          "data": {
            "text/plain": [
              "<Figure size 432x288 with 1 Axes>"
            ],
            "image/png": "[encoded data removed]"
          },
          "metadata": {}
        }
      ]
    }
  ]
}