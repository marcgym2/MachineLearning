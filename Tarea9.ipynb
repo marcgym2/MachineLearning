{
  "cells": [
    {
      "cell_type": "markdown",
      "metadata": {
        "id": "view-in-github",
        "colab_type": "text"
      },
      "source": [
        "<a href=\"https://colab.research.google.com/github/marcgym2/MachineLearning/blob/main/DOE.ipynb\" target=\"_parent\"><img src=\"https://colab.research.google.com/assets/colab-badge.svg\" alt=\"Open In Colab\"/></a>"
      ]
    },
    {
      "cell_type": "markdown",
      "metadata": {
        "id": "7B7c_3XyQ4SW"
      },
      "source": [
        "## Tarea 8 (10 puntos)\n",
        "- Revisa en la literatura las métricas de desempeño que se utilizan en tu problema.\n",
        "- Elige al menos una métrica para aplicar a tus modelos.\n",
        "- Reporta estos hallazgos en el marco teórico de tu artículo.\n",
        "\n",
        "## Tarea 9 (10 puntos)\n",
        "- Realizar un diseño de experimentos para tu problema de estudio en la que indiques los niveles y tratamientos de interés.\n",
        "- Reporta en la metodología de tu artículo el diseño de experimentos que realizaste."
      ]
    },
    {
      "cell_type": "markdown",
      "source": [
        "Los diseños factoriales completos $2^k$ son diseños experimentales que permiten evaluar el efecto de k factores, cada uno con dos niveles, sobre una o más respuestas. Estos diseños tienen las siguientes características:\n",
        "\n",
        "Consisten en $2^k$ ensayos, uno por cada combinación posible de los niveles de los factores.\n",
        "Permiten estimar los efectos principales de cada factor y las interacciones entre ellos.\n",
        "Son eficientes para explorar una zona del espacio experimental y encontrar una dirección para la optimización.\n",
        "Son adecuados para factores cuantitativos o cualitativos.\n",
        "\n",
        "El resultado de un DOE de 2k es un modelo lineal que relaciona la respuesta con los factores y sus interacciones. El modelo se puede expresar como:\n",
        "\n",
        "$y = b0 + b1x1 + b2x2 + … + bkxk + b12x1x2 + b13x1x3 + … + bk-1,kxk-1xk$\n",
        "\n",
        "donde y es la respuesta, x1, x2, …, xk son los factores codificados en -1 y +1 según sus niveles, b0 es el término constante, b1, b2, …, bk son los coeficientes de los efectos principales, y b12, b13, …, bk-1,k son los coeficientes de las interacciones.\n",
        "\n",
        "El modelo se puede estimar usando el método de mínimos cuadrados ordinarios (OLS), que minimiza la suma de los cuadrados de los residuos entre los valores observados y los predichos. Los coeficientes se pueden calcular usando la siguiente fórmula:\n",
        "\n",
        "$b = (X’X)^-1 X’y$\n",
        "\n",
        "donde X es la matriz de diseño que contiene las combinaciones de los niveles de los factores, y y es el vector de las respuestas observadas.\n",
        "\n",
        "El modelo se puede evaluar usando diferentes medidas de ajuste, como el coeficiente de determinación (R^2), el error estándar de la estimación (SEE), el análisis de varianza (ANOVA) o los gráficos de residuos. Estas medidas permiten verificar la calidad del modelo, la significancia de los efectos y la presencia de posibles violaciones de los supuestos\n"
      ],
      "metadata": {
        "id": "AM2Pd2IhCugX"
      }
    },
    {
      "cell_type": "code",
      "execution_count": 3,
      "metadata": {
        "colab": {
          "base_uri": "https://localhost:8080/"
        },
        "id": "SUYBpNA1VdcJ",
        "outputId": "29f38260-4261-4ccf-c909-0201f2a5d959"
      },
      "outputs": [
        {
          "output_type": "stream",
          "name": "stdout",
          "text": [
            "Drive already mounted at /content/drive; to attempt to forcibly remount, call drive.mount(\"/content/drive\", force_remount=True).\n"
          ]
        }
      ],
      "source": [
        "# Importar librerías\n",
        "import pandas as pd\n",
        "import numpy as np\n",
        "import statsmodels.api as sm\n",
        "from statsmodels.formula.api import ols\n",
        "# Cargar los datos\n",
        "from google.colab import drive\n",
        "drive.mount(\"/content/drive\")\n",
        "df_measures = pd.read_csv(\"/content/drive/MyDrive/Colab Notebooks/measures_v2.csv\")"
      ]
    },
    {
      "cell_type": "code",
      "source": [
        "# Definir las variables independientes y dependientes\n",
        "x_vars = [\"u_q\", \"coolant\", \"ambient\", \"u_d\", \"motor_speed\", \"i_q\", \"i_d\"]\n",
        "y_vars = [\"pm\", \"torque\", \"stator_yoke\", \"stator_tooth\", \"stator_winding\"]"
      ],
      "metadata": {
        "id": "lFB8EJYh_0MU"
      },
      "execution_count": 4,
      "outputs": []
    },
    {
      "cell_type": "code",
      "source": [
        "# Crear un diseño factorial completo 2^k con k = len(x_vars)\n",
        "# Se eligen dos valores diferentes para cada y_var y se realizan las combinaciones\n",
        "x_levels = [-1, 1] # Niveles codificados de las variables independientes\n",
        "x_comb = np.array(np.meshgrid(*[x_levels]*len(x_vars))).T.reshape(-1,len(x_vars)) # Combinaciones de los niveles\n",
        "df_doe = pd.DataFrame(x_comb, columns=x_vars) "
      ],
      "metadata": {
        "id": "zrHJnbrZAJQg"
      },
      "execution_count": 5,
      "outputs": []
    },
    {
      "cell_type": "code",
      "source": [
        "# Asignar los valores reales de las variables independientes según los niveles codificados\n",
        "for x in x_vars:\n",
        "    df_doe[x] = df_doe[x].map({-1: df_measures[x].min(), 1: df_measures[x].max()})"
      ],
      "metadata": {
        "id": "87xrULkLAMaS"
      },
      "execution_count": 6,
      "outputs": []
    },
    {
      "cell_type": "code",
      "source": [
        "# Generar los datos experimentales para las variables dependientes usando una muestra aleatoria del dataset original\n",
        "np.random.seed(42) \n",
        "df_doe[y_vars] = df_measures[y_vars].sample(n=len(df_doe), replace=True).reset_index(drop=True)"
      ],
      "metadata": {
        "id": "zXSVe19bAO7Q"
      },
      "execution_count": 7,
      "outputs": []
    },
    {
      "cell_type": "code",
      "source": [
        "# Ajustar un modelo lineal para cada variable dependiente usando el método de mínimos cuadrados ordinarios (OLS)\n",
        "models = {} # Diccionario para guardar los modelos ajustados\n",
        "for y in y_vars:\n",
        "    formula = y + \" ~ \" + \" + \".join(x_vars) # Fórmula del modelo\n",
        "    model = ols(formula, data=df_doe).fit() # Ajustar el modelo\n",
        "    models[y] = model # Guardar el modelo en el diccionario\n"
      ],
      "metadata": {
        "id": "McuUuXp6ART1"
      },
      "execution_count": 8,
      "outputs": []
    },
    {
      "cell_type": "markdown",
      "source": [
        "Resumen de los modelos ajustados\n",
        "- Model: Es el método de estimación de los coeficientes del modelo lineal. En este caso, es OLS (Ordinary Least Squares), que consiste en minimizar la suma de los cuadrados de los errores.\n",
        "- Method: Es el algoritmo numérico que se usa para resolver el problema de optimización. En este caso, es Least Squares, que es el mismo que OLS.\n",
        "- P>|t|: Es el valor p asociado al estadístico t de cada coeficiente, que mide la probabilidad de obtener un valor tan o más extremo que el observado si la hipótesis nula fuera cierta. La hipótesis nula es que el coeficiente es igual a cero.\n",
        "- Covariance Type: Es el tipo de matriz de covarianza que se usa para estimar la varianza de los coeficientes. En este caso, es nonrobust, que significa que no se corrige por posibles heterocedasticidad o autocorrelación\n",
        "- R-squared: Es una medida de bondad de ajuste del modelo lineal, que indica la proporción de variación de la respuesta que se explica por los factores. Su valor varía entre 0 y 1, y cuanto más cercano a 1, mejor es el ajuste del modelo. En este caso, es muy bajo."
      ],
      "metadata": {
        "id": "SSG1V5jVEGtX"
      }
    },
    {
      "cell_type": "code",
      "source": [
        "# Mostrar un resumen de los modelos ajustados\n",
        "for y in y_vars:\n",
        "    print(f\"Modelo para {y}:\")\n",
        "    print(models[y].summary())\n",
        "    print()"
      ],
      "metadata": {
        "id": "6v1hQ6RDATwn",
        "outputId": "8e70085f-4b3a-477b-d23a-b416c0c8d520",
        "colab": {
          "base_uri": "https://localhost:8080/"
        }
      },
      "execution_count": 9,
      "outputs": [
        {
          "output_type": "stream",
          "name": "stdout",
          "text": [
            "Modelo para pm:\n",
            "                            OLS Regression Results                            \n",
            "==============================================================================\n",
            "Dep. Variable:                     pm   R-squared:                       0.070\n",
            "Model:                            OLS   Adj. R-squared:                  0.015\n",
            "Method:                 Least Squares   F-statistic:                     1.285\n",
            "Date:                Mon, 13 Mar 2023   Prob (F-statistic):              0.263\n",
            "Time:                        03:26:23   Log-Likelihood:                -552.14\n",
            "No. Observations:                 128   AIC:                             1120.\n",
            "Df Residuals:                     120   BIC:                             1143.\n",
            "Df Model:                           7                                         \n",
            "Covariance Type:            nonrobust                                         \n",
            "===============================================================================\n",
            "                  coef    std err          t      P>|t|      [0.025      0.975]\n",
            "-------------------------------------------------------------------------------\n",
            "Intercept      59.1380      4.685     12.623      0.000      49.862      68.414\n",
            "u_q             0.0162      0.021      0.779      0.438      -0.025       0.058\n",
            "coolant        -0.0681      0.036     -1.877      0.063      -0.140       0.004\n",
            "ambient        -0.0601      0.150     -0.400      0.690      -0.358       0.238\n",
            "u_d            -0.0055      0.013     -0.437      0.663      -0.030       0.019\n",
            "motor_speed   1.92e-05      0.001      0.037      0.971      -0.001       0.001\n",
            "i_q             0.0089      0.006      1.602      0.112      -0.002       0.020\n",
            "i_d            -0.0166      0.012     -1.396      0.165      -0.040       0.007\n",
            "==============================================================================\n",
            "Omnibus:                       14.396   Durbin-Watson:                   2.344\n",
            "Prob(Omnibus):                  0.001   Jarque-Bera (JB):                4.651\n",
            "Skew:                           0.026   Prob(JB):                       0.0977\n",
            "Kurtosis:                       2.068   Cond. No.                     1.21e+04\n",
            "==============================================================================\n",
            "\n",
            "Notes:\n",
            "[1] Standard Errors assume that the covariance matrix of the errors is correctly specified.\n",
            "[2] The condition number is large, 1.21e+04. This might indicate that there are\n",
            "strong multicollinearity or other numerical problems.\n",
            "\n",
            "Modelo para torque:\n",
            "                            OLS Regression Results                            \n",
            "==============================================================================\n",
            "Dep. Variable:                 torque   R-squared:                       0.088\n",
            "Model:                            OLS   Adj. R-squared:                  0.035\n",
            "Method:                 Least Squares   F-statistic:                     1.649\n",
            "Date:                Mon, 13 Mar 2023   Prob (F-statistic):              0.128\n",
            "Time:                        03:26:23   Log-Likelihood:                -717.59\n",
            "No. Observations:                 128   AIC:                             1451.\n",
            "Df Residuals:                     120   BIC:                             1474.\n",
            "Df Model:                           7                                         \n",
            "Covariance Type:            nonrobust                                         \n",
            "===============================================================================\n",
            "                  coef    std err          t      P>|t|      [0.025      0.975]\n",
            "-------------------------------------------------------------------------------\n",
            "Intercept      16.0271     17.063      0.939      0.349     -17.757      49.811\n",
            "u_q             0.1805      0.076      2.378      0.019       0.030       0.331\n",
            "coolant        -0.1163      0.132     -0.880      0.380      -0.378       0.145\n",
            "ambient        -0.1495      0.548     -0.273      0.786      -1.235       0.936\n",
            "u_d             0.0545      0.046      1.192      0.236      -0.036       0.145\n",
            "motor_speed     0.0010      0.002      0.546      0.586      -0.003       0.005\n",
            "i_q             0.0095      0.020      0.469      0.640      -0.031       0.049\n",
            "i_d            -0.0762      0.043     -1.762      0.081      -0.162       0.009\n",
            "==============================================================================\n",
            "Omnibus:                        0.155   Durbin-Watson:                   2.151\n",
            "Prob(Omnibus):                  0.925   Jarque-Bera (JB):                0.097\n",
            "Skew:                          -0.066   Prob(JB):                        0.953\n",
            "Kurtosis:                       2.975   Cond. No.                     1.21e+04\n",
            "==============================================================================\n",
            "\n",
            "Notes:\n",
            "[1] Standard Errors assume that the covariance matrix of the errors is correctly specified.\n",
            "[2] The condition number is large, 1.21e+04. This might indicate that there are\n",
            "strong multicollinearity or other numerical problems.\n",
            "\n",
            "Modelo para stator_yoke:\n",
            "                            OLS Regression Results                            \n",
            "==============================================================================\n",
            "Dep. Variable:            stator_yoke   R-squared:                       0.062\n",
            "Model:                            OLS   Adj. R-squared:                  0.008\n",
            "Method:                 Least Squares   F-statistic:                     1.143\n",
            "Date:                Mon, 13 Mar 2023   Prob (F-statistic):              0.341\n",
            "Time:                        03:26:23   Log-Likelihood:                -581.44\n",
            "No. Observations:                 128   AIC:                             1179.\n",
            "Df Residuals:                     120   BIC:                             1202.\n",
            "Df Model:                           7                                         \n",
            "Covariance Type:            nonrobust                                         \n",
            "===============================================================================\n",
            "                  coef    std err          t      P>|t|      [0.025      0.975]\n",
            "-------------------------------------------------------------------------------\n",
            "Intercept      47.0268      5.890      7.984      0.000      35.365      58.689\n",
            "u_q            -0.0050      0.026     -0.190      0.849      -0.057       0.047\n",
            "coolant        -0.0595      0.046     -1.305      0.194      -0.150       0.031\n",
            "ambient        -0.0374      0.189     -0.198      0.844      -0.412       0.337\n",
            "u_d            -0.0038      0.016     -0.242      0.809      -0.035       0.027\n",
            "motor_speed     0.0012      0.001      1.850      0.067    -8.6e-05       0.003\n",
            "i_q             0.0067      0.007      0.962      0.338      -0.007       0.021\n",
            "i_d            -0.0201      0.015     -1.348      0.180      -0.050       0.009\n",
            "==============================================================================\n",
            "Omnibus:                       11.427   Durbin-Watson:                   2.252\n",
            "Prob(Omnibus):                  0.003   Jarque-Bera (JB):                9.159\n",
            "Skew:                           0.555   Prob(JB):                       0.0103\n",
            "Kurtosis:                       2.302   Cond. No.                     1.21e+04\n",
            "==============================================================================\n",
            "\n",
            "Notes:\n",
            "[1] Standard Errors assume that the covariance matrix of the errors is correctly specified.\n",
            "[2] The condition number is large, 1.21e+04. This might indicate that there are\n",
            "strong multicollinearity or other numerical problems.\n",
            "\n",
            "Modelo para stator_tooth:\n",
            "                            OLS Regression Results                            \n",
            "==============================================================================\n",
            "Dep. Variable:           stator_tooth   R-squared:                       0.076\n",
            "Model:                            OLS   Adj. R-squared:                  0.022\n",
            "Method:                 Least Squares   F-statistic:                     1.412\n",
            "Date:                Mon, 13 Mar 2023   Prob (F-statistic):              0.206\n",
            "Time:                        03:26:23   Log-Likelihood:                -595.08\n",
            "No. Observations:                 128   AIC:                             1206.\n",
            "Df Residuals:                     120   BIC:                             1229.\n",
            "Df Model:                           7                                         \n",
            "Covariance Type:            nonrobust                                         \n",
            "===============================================================================\n",
            "                  coef    std err          t      P>|t|      [0.025      0.975]\n",
            "-------------------------------------------------------------------------------\n",
            "Intercept      56.7058      6.552      8.654      0.000      43.733      69.679\n",
            "u_q             0.0028      0.029      0.097      0.923      -0.055       0.061\n",
            "coolant        -0.0947      0.051     -1.866      0.064      -0.195       0.006\n",
            "ambient        -0.0290      0.210     -0.138      0.891      -0.446       0.388\n",
            "u_d            -0.0050      0.018     -0.283      0.778      -0.040       0.030\n",
            "motor_speed     0.0011      0.001      1.556      0.122      -0.000       0.003\n",
            "i_q             0.0116      0.008      1.498      0.137      -0.004       0.027\n",
            "i_d            -0.0212      0.017     -1.277      0.204      -0.054       0.012\n",
            "==============================================================================\n",
            "Omnibus:                       17.171   Durbin-Watson:                   2.303\n",
            "Prob(Omnibus):                  0.000   Jarque-Bera (JB):                6.489\n",
            "Skew:                           0.283   Prob(JB):                       0.0390\n",
            "Kurtosis:                       2.053   Cond. No.                     1.21e+04\n",
            "==============================================================================\n",
            "\n",
            "Notes:\n",
            "[1] Standard Errors assume that the covariance matrix of the errors is correctly specified.\n",
            "[2] The condition number is large, 1.21e+04. This might indicate that there are\n",
            "strong multicollinearity or other numerical problems.\n",
            "\n",
            "Modelo para stator_winding:\n",
            "                            OLS Regression Results                            \n",
            "==============================================================================\n",
            "Dep. Variable:         stator_winding   R-squared:                       0.091\n",
            "Model:                            OLS   Adj. R-squared:                  0.038\n",
            "Method:                 Least Squares   F-statistic:                     1.716\n",
            "Date:                Mon, 13 Mar 2023   Prob (F-statistic):              0.111\n",
            "Time:                        03:26:23   Log-Likelihood:                -621.32\n",
            "No. Observations:                 128   AIC:                             1259.\n",
            "Df Residuals:                     120   BIC:                             1281.\n",
            "Df Model:                           7                                         \n",
            "Covariance Type:            nonrobust                                         \n",
            "===============================================================================\n",
            "                  coef    std err          t      P>|t|      [0.025      0.975]\n",
            "-------------------------------------------------------------------------------\n",
            "Intercept      66.5092      8.043      8.269      0.000      50.584      82.435\n",
            "u_q             0.0145      0.036      0.405      0.686      -0.056       0.085\n",
            "coolant        -0.1334      0.062     -2.143      0.034      -0.257      -0.010\n",
            "ambient        -0.0275      0.258     -0.106      0.915      -0.539       0.484\n",
            "u_d            -0.0072      0.022     -0.336      0.738      -0.050       0.035\n",
            "motor_speed     0.0013      0.001      1.424      0.157      -0.001       0.003\n",
            "i_q             0.0180      0.010      1.891      0.061      -0.001       0.037\n",
            "i_d            -0.0252      0.020     -1.238      0.218      -0.066       0.015\n",
            "==============================================================================\n",
            "Omnibus:                       19.214   Durbin-Watson:                   2.339\n",
            "Prob(Omnibus):                  0.000   Jarque-Bera (JB):                6.385\n",
            "Skew:                           0.241   Prob(JB):                       0.0411\n",
            "Kurtosis:                       2.018   Cond. No.                     1.21e+04\n",
            "==============================================================================\n",
            "\n",
            "Notes:\n",
            "[1] Standard Errors assume that the covariance matrix of the errors is correctly specified.\n",
            "[2] The condition number is large, 1.21e+04. This might indicate that there are\n",
            "strong multicollinearity or other numerical problems.\n",
            "\n"
          ]
        }
      ]
    }
  ],
  "metadata": {
    "colab": {
      "provenance": [],
      "authorship_tag": "ABX9TyM6h5Wkaqps6SOxCPVxBdHF",
      "include_colab_link": true
    },
    "kernelspec": {
      "display_name": "Python 3",
      "name": "python3"
    },
    "language_info": {
      "name": "python"
    }
  },
  "nbformat": 4,
  "nbformat_minor": 0
}
