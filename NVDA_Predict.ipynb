{
 "cells": [
  {
   "cell_type": "code",
   "execution_count": 97,
   "id": "57e68960-edaa-473d-a01f-4a083aa05b24",
   "metadata": {
    "tags": []
   },
   "outputs": [],
   "source": [
    "from keras.models import Sequential\n",
    "from keras.layers import Dense\n",
    "import numpy as np\n",
    "import pandas as pd\n",
    "import requests\n",
    "from io import StringIO\n",
    "from sklearn.preprocessing import MinMaxScaler"
   ]
  },
  {
   "cell_type": "code",
   "execution_count": 32,
   "id": "9310dc43-5a6c-44fc-8c76-a6b913198076",
   "metadata": {
    "tags": []
   },
   "outputs": [],
   "source": [
    "with open('/Users/marcgrayson/Downloads/alphavantage_API.rtf', 'r') as file:\n",
    "    api_key = file.read().strip()"
   ]
  },
  {
   "cell_type": "code",
   "execution_count": 48,
   "id": "0869949d-0a19-411e-aec7-6772642d5197",
   "metadata": {
    "tags": []
   },
   "outputs": [
    {
     "name": "stdout",
     "output_type": "stream",
     "text": [
      "    timestamp    open    high       low   close  adjusted_close    volume  \\\n",
      "0  2023-06-02  400.97  405.00  390.5801  393.27          393.27  48273121   \n",
      "1  2023-06-01  384.89  400.50  383.4000  397.70          397.70  63587295   \n",
      "2  2023-05-31  394.88  402.95  378.2200  378.34          378.34  99882681   \n",
      "3  2023-05-30  405.95  419.38  399.4900  401.11          401.11  92340110   \n",
      "4  2023-05-26  378.90  391.70  375.5000  389.46          389.46  71439676   \n",
      "\n",
      "   dividend_amount  split_coefficient  \n",
      "0              0.0                1.0  \n",
      "1              0.0                1.0  \n",
      "2              0.0                1.0  \n",
      "3              0.0                1.0  \n",
      "4              0.0                1.0  \n"
     ]
    }
   ],
   "source": [
    "url = 'https://www.alphavantage.co/query'\n",
    "parametros = {\n",
    "    'function': 'TIME_SERIES_DAILY_ADJUSTED',\n",
    "    'symbol': 'NVDA',\n",
    "    'outputsize': 'full', # historical data \n",
    "    'datatype': 'csv',\n",
    "    'apikey': api_key\n",
    "}\n",
    "\n",
    "r = requests.get(url, params=parametros)\n",
    "df = pd.read_csv(StringIO(r.text))\n",
    "\n",
    "print(df.head())"
   ]
  },
  {
   "cell_type": "code",
   "execution_count": 79,
   "id": "9645ec29-122a-460c-8f92-58111792529e",
   "metadata": {
    "tags": []
   },
   "outputs": [],
   "source": [
    "df = df[['timestamp', 'open']]\n",
    "df = df.sort_values('timestamp')"
   ]
  },
  {
   "cell_type": "code",
   "execution_count": 80,
   "id": "855e8f8a-1741-4857-9d13-a5cacdaf5bda",
   "metadata": {
    "tags": []
   },
   "outputs": [
    {
     "name": "stdout",
     "output_type": "stream",
     "text": [
      "       timestamp    open\n",
      "5934  1999-11-01   21.75\n",
      "5933  1999-11-02   23.94\n",
      "5932  1999-11-03   26.00\n",
      "5931  1999-11-04   27.75\n",
      "5930  1999-11-05   30.00\n",
      "...          ...     ...\n",
      "4     2023-05-26  378.90\n",
      "3     2023-05-30  405.95\n",
      "2     2023-05-31  394.88\n",
      "1     2023-06-01  384.89\n",
      "0     2023-06-02  400.97\n",
      "\n",
      "[5935 rows x 2 columns]\n"
     ]
    }
   ],
   "source": [
    "print(df)"
   ]
  },
  {
   "cell_type": "code",
   "execution_count": 85,
   "id": "688802d8-4f06-4f2f-bef0-e56a3cc3dc03",
   "metadata": {
    "tags": []
   },
   "outputs": [],
   "source": [
    "def DescomponerSerie(serie, longitud):\n",
    "    X, y = list(), list()\n",
    "    for i in range(len(serie)):\n",
    "        final = i + longitud\n",
    "        if final > len(serie) - 1:\n",
    "            break\n",
    "        historia_x, target_y = serie[i:final], serie[final]\n",
    "        X.append(historia_x)\n",
    "        y.append(target_y)\n",
    "    return np.array(X), np.array(y)"
   ]
  },
  {
   "cell_type": "code",
   "execution_count": 86,
   "id": "e3ac0af4-26f0-4993-82f1-009ff44bd2d4",
   "metadata": {
    "tags": []
   },
   "outputs": [],
   "source": [
    "SecuenciaStock = list(df[\"open\"])"
   ]
  },
  {
   "cell_type": "code",
   "execution_count": 99,
   "id": "dc6aab5c-68cd-4eb4-8cff-87f0e7b7f87b",
   "metadata": {
    "tags": []
   },
   "outputs": [],
   "source": [
    "SecuenciaStock = df[\"open\"].values.reshape(-1, 1)\n",
    "\n",
    "# Normalizar los datos\n",
    "scaler = MinMaxScaler(feature_range=(0, 1))\n",
    "SecuenciaStock = scaler.fit_transform(SecuenciaStock)"
   ]
  },
  {
   "cell_type": "code",
   "execution_count": 100,
   "id": "0b477a4a-cd3a-44cb-8a98-a4bb49806a51",
   "metadata": {
    "tags": []
   },
   "outputs": [
    {
     "name": "stdout",
     "output_type": "stream",
     "text": [
      "X: [[[0.01901852]\n",
      "  [0.021663  ]\n",
      "  [0.02415051]]\n",
      "\n",
      " [[0.021663  ]\n",
      "  [0.02415051]\n",
      "  [0.02626368]]\n",
      "\n",
      " [[0.02415051]\n",
      "  [0.02626368]\n",
      "  [0.02898061]]\n",
      "\n",
      " ...\n",
      "\n",
      " [[0.45792982]\n",
      "  [0.45028618]\n",
      "  [0.48294974]]\n",
      "\n",
      " [[0.45028618]\n",
      "  [0.48294974]\n",
      "  [0.46958244]]\n",
      "\n",
      " [[0.48294974]\n",
      "  [0.46958244]\n",
      "  [0.45751926]]]\n",
      "y: [[0.02626368]\n",
      " [0.02898061]\n",
      " [0.02581689]\n",
      " ...\n",
      " [0.46958244]\n",
      " [0.45751926]\n",
      " [0.47693627]]\n"
     ]
    }
   ],
   "source": [
    "X, y = DescomponerSerie(SecuenciaStock, 3)\n",
    "print(\"X:\", X)\n",
    "print(\"y:\", y)"
   ]
  },
  {
   "cell_type": "code",
   "execution_count": 170,
   "id": "2d151947-fc49-487c-83ae-cbb310451e68",
   "metadata": {
    "tags": []
   },
   "outputs": [],
   "source": [
    "model = Sequential()\n",
    "model.add(Dense(5, activation='relu', input_dim=3))\n",
    "model.add(Dense(1))\n",
    "model.compile(loss='mean_squared_error', optimizer='adam')\n"
   ]
  },
  {
   "cell_type": "code",
   "execution_count": 171,
   "id": "131c82a8-638d-4d0f-bab4-be7465e12bfc",
   "metadata": {
    "tags": []
   },
   "outputs": [
    {
     "name": "stdout",
     "output_type": "stream",
     "text": [
      "Epoch 1/50\n",
      "119/119 [==============================] - 0s 303us/step - loss: 0.0045\n",
      "Epoch 2/50\n",
      "119/119 [==============================] - 0s 295us/step - loss: 6.8292e-04\n",
      "Epoch 3/50\n",
      "119/119 [==============================] - 0s 300us/step - loss: 2.2090e-04\n",
      "Epoch 4/50\n",
      "119/119 [==============================] - 0s 297us/step - loss: 1.7630e-04\n",
      "Epoch 5/50\n",
      "119/119 [==============================] - 0s 299us/step - loss: 1.6790e-04\n",
      "Epoch 6/50\n",
      "119/119 [==============================] - 0s 297us/step - loss: 1.6288e-04\n",
      "Epoch 7/50\n",
      "119/119 [==============================] - 0s 296us/step - loss: 1.5863e-04\n",
      "Epoch 8/50\n",
      "119/119 [==============================] - 0s 292us/step - loss: 1.5854e-04\n",
      "Epoch 9/50\n",
      "119/119 [==============================] - 0s 289us/step - loss: 1.5396e-04\n",
      "Epoch 10/50\n",
      "119/119 [==============================] - 0s 283us/step - loss: 1.5436e-04\n",
      "Epoch 11/50\n",
      "119/119 [==============================] - 0s 288us/step - loss: 1.5313e-04\n",
      "Epoch 12/50\n",
      "119/119 [==============================] - 0s 294us/step - loss: 1.5412e-04\n",
      "Epoch 13/50\n",
      "119/119 [==============================] - 0s 292us/step - loss: 1.5192e-04\n",
      "Epoch 14/50\n",
      "119/119 [==============================] - 0s 297us/step - loss: 1.5155e-04\n",
      "Epoch 15/50\n",
      "119/119 [==============================] - 0s 291us/step - loss: 1.4989e-04\n",
      "Epoch 16/50\n",
      "119/119 [==============================] - 0s 287us/step - loss: 1.4778e-04\n",
      "Epoch 17/50\n",
      "119/119 [==============================] - 0s 287us/step - loss: 1.4493e-04\n",
      "Epoch 18/50\n",
      "119/119 [==============================] - 0s 290us/step - loss: 1.4926e-04\n",
      "Epoch 19/50\n",
      "119/119 [==============================] - 0s 294us/step - loss: 1.4515e-04\n",
      "Epoch 20/50\n",
      "119/119 [==============================] - 0s 333us/step - loss: 1.4558e-04\n",
      "Epoch 21/50\n",
      "119/119 [==============================] - 0s 298us/step - loss: 1.4494e-04\n",
      "Epoch 22/50\n",
      "119/119 [==============================] - 0s 301us/step - loss: 1.4287e-04\n",
      "Epoch 23/50\n",
      "119/119 [==============================] - 0s 299us/step - loss: 1.4204e-04\n",
      "Epoch 24/50\n",
      "119/119 [==============================] - 0s 311us/step - loss: 1.4138e-04\n",
      "Epoch 25/50\n",
      "119/119 [==============================] - 0s 313us/step - loss: 1.4071e-04\n",
      "Epoch 26/50\n",
      "119/119 [==============================] - 0s 298us/step - loss: 1.4365e-04\n",
      "Epoch 27/50\n",
      "119/119 [==============================] - 0s 298us/step - loss: 1.3689e-04\n",
      "Epoch 28/50\n",
      "119/119 [==============================] - 0s 293us/step - loss: 1.4203e-04\n",
      "Epoch 29/50\n",
      "119/119 [==============================] - 0s 295us/step - loss: 1.4018e-04\n",
      "Epoch 30/50\n",
      "119/119 [==============================] - 0s 298us/step - loss: 1.3959e-04\n",
      "Epoch 31/50\n",
      "119/119 [==============================] - 0s 293us/step - loss: 1.3769e-04\n",
      "Epoch 32/50\n",
      "119/119 [==============================] - 0s 293us/step - loss: 1.3702e-04\n",
      "Epoch 33/50\n",
      "119/119 [==============================] - 0s 299us/step - loss: 1.3913e-04\n",
      "Epoch 34/50\n",
      "119/119 [==============================] - 0s 289us/step - loss: 1.3804e-04\n",
      "Epoch 35/50\n",
      "119/119 [==============================] - 0s 298us/step - loss: 1.3263e-04\n",
      "Epoch 36/50\n",
      "119/119 [==============================] - 0s 294us/step - loss: 1.3766e-04\n",
      "Epoch 37/50\n",
      "119/119 [==============================] - 0s 284us/step - loss: 1.3670e-04\n",
      "Epoch 38/50\n",
      "119/119 [==============================] - 0s 296us/step - loss: 1.3618e-04\n",
      "Epoch 39/50\n",
      "119/119 [==============================] - 0s 300us/step - loss: 1.3363e-04\n",
      "Epoch 40/50\n",
      "119/119 [==============================] - 0s 292us/step - loss: 1.3749e-04\n",
      "Epoch 41/50\n",
      "119/119 [==============================] - 0s 304us/step - loss: 1.3572e-04\n",
      "Epoch 42/50\n",
      "119/119 [==============================] - 0s 294us/step - loss: 1.3434e-04\n",
      "Epoch 43/50\n",
      "119/119 [==============================] - 0s 303us/step - loss: 1.3662e-04\n",
      "Epoch 44/50\n",
      "119/119 [==============================] - 0s 288us/step - loss: 1.3363e-04\n",
      "Epoch 45/50\n",
      "119/119 [==============================] - 0s 293us/step - loss: 1.3422e-04\n",
      "Epoch 46/50\n",
      "119/119 [==============================] - 0s 299us/step - loss: 1.3353e-04\n",
      "Epoch 47/50\n",
      "119/119 [==============================] - 0s 293us/step - loss: 1.3430e-04\n",
      "Epoch 48/50\n",
      "119/119 [==============================] - 0s 297us/step - loss: 1.3264e-04\n",
      "Epoch 49/50\n",
      "119/119 [==============================] - 0s 298us/step - loss: 1.3268e-04\n",
      "Epoch 50/50\n",
      "119/119 [==============================] - 0s 294us/step - loss: 1.3301e-04\n"
     ]
    },
    {
     "data": {
      "text/plain": [
       "<keras.callbacks.History at 0x2941a5e40>"
      ]
     },
     "execution_count": 171,
     "metadata": {},
     "output_type": "execute_result"
    }
   ],
   "source": [
    "model.fit(X, y, epochs=50, batch_size=50)"
   ]
  },
  {
   "cell_type": "code",
   "execution_count": 168,
   "id": "f7ebf122-1a1d-4029-9c4d-d0eaf3220364",
   "metadata": {
    "tags": []
   },
   "outputs": [
    {
     "name": "stdout",
     "output_type": "stream",
     "text": [
      "1/1 [==============================] - 0s 16ms/step\n",
      "1/1 [==============================] - 0s 9ms/step\n",
      "1/1 [==============================] - 0s 7ms/step\n",
      "1/1 [==============================] - 0s 7ms/step\n",
      "1/1 [==============================] - 0s 7ms/step\n",
      "1/1 [==============================] - 0s 8ms/step\n",
      "1/1 [==============================] - 0s 7ms/step\n",
      "1/1 [==============================] - 0s 8ms/step\n",
      "1/1 [==============================] - 0s 7ms/step\n",
      "1/1 [==============================] - 0s 7ms/step\n",
      "1/1 [==============================] - 0s 7ms/step\n",
      "1/1 [==============================] - 0s 7ms/step\n",
      "predictions: [[395.4152 ]\n",
      " [393.36624]\n",
      " [397.22845]\n",
      " [396.17963]\n",
      " [395.93002]\n",
      " [397.02115]\n",
      " [396.99777]\n",
      " [397.157  ]\n",
      " [397.62067]\n",
      " [397.83182]\n",
      " [398.08505]\n",
      " [398.40778]]\n"
     ]
    }
   ],
   "source": [
    "# Obtener las últimas 3 observaciones de los datos originales para hacer la primera predicción\n",
    "input_data = SecuenciaStock[-3:]\n",
    "\n",
    "predictions = []\n",
    "\n",
    "# Hacer 12 predicciones\n",
    "for _ in range(12):\n",
    "    prediction = model.predict(input_data.reshape(1, -1))\n",
    "    predictions.append(prediction[0, 0])\n",
    "\n",
    "    # Actualizar los datos de entrada para incluir la nueva predicción y excluir el valor más antiguo\n",
    "    input_data = np.append(input_data[1:], prediction)\n",
    "\n",
    "# Desnormalizar las predicciones\n",
    "predictions = scaler.inverse_transform(np.array(predictions).reshape(-1, 1))\n",
    "\n",
    "print(\"predictions:\", predictions)\n"
   ]
  },
  {
   "cell_type": "code",
   "execution_count": 181,
   "id": "b177cace-c42a-4864-8ad6-5178a74e93b8",
   "metadata": {
    "tags": []
   },
   "outputs": [
    {
     "name": "stdout",
     "output_type": "stream",
     "text": [
      "1/1 [==============================] - 0s 44ms/step\n",
      "1/1 [==============================] - 0s 8ms/step\n",
      "1/1 [==============================] - 0s 11ms/step\n",
      "1/1 [==============================] - 0s 9ms/step\n",
      "1/1 [==============================] - 0s 12ms/step\n"
     ]
    },
    {
     "name": "stderr",
     "output_type": "stream",
     "text": [
      "/var/folders/h9/4sh2_tlj0m7d6g2nzdl9fs_w0000gn/T/ipykernel_21220/1875901436.py:27: FutureWarning: The behavior of `series[i:j]` with an integer-dtype index is deprecated. In a future version, this will be treated as *label-based* indexing, consistent with e.g. `series[i]` lookups. To retain the old behavior, use `series.iloc[i:j]`. To get the future behavior, use `series.loc[i:j]`.\n",
      "  plt.plot(pd.to_datetime(df['timestamp'][:20]), df['open'][:20], label='Original data')\n",
      "/var/folders/h9/4sh2_tlj0m7d6g2nzdl9fs_w0000gn/T/ipykernel_21220/1875901436.py:27: FutureWarning: The behavior of `series[i:j]` with an integer-dtype index is deprecated. In a future version, this will be treated as *label-based* indexing, consistent with e.g. `series[i]` lookups. To retain the old behavior, use `series.iloc[i:j]`. To get the future behavior, use `series.loc[i:j]`.\n",
      "  plt.plot(pd.to_datetime(df['timestamp'][:20]), df['open'][:20], label='Original data')\n"
     ]
    },
    {
     "data": {
      "image/png": "[encoded data removed]",
      "text/plain": [
       "<Figure size 1000x600 with 1 Axes>"
      ]
     },
     "metadata": {},
     "output_type": "display_data"
    }
   ],
   "source": [
    "import matplotlib.pyplot as plt\n",
    "import pandas as pd\n",
    "\n",
    "# Assuming model is already defined and trained\n",
    "inputs = [X[i:i+1].reshape(1, -1) for i in range(0, 20, 4)]\n",
    "\n",
    "predictions = []\n",
    "\n",
    "for input in inputs:\n",
    "    pred = model.predict(input)\n",
    "    predictions.append(pred[0])\n",
    "\n",
    "# Apply inverse transformation to predictions\n",
    "predictions_inv = scaler.inverse_transform(predictions)\n",
    "\n",
    "# Create a DataFrame for the predictions\n",
    "predictions_df = pd.DataFrame(predictions_inv, columns=['open'])\n",
    "\n",
    "# Get the timestamps corresponding to the inputs\n",
    "prediction_timestamps = df['timestamp'].values[3:20:4]  # Start from the fourth value and increase by 4\n",
    "\n",
    "# Assign the timestamps to the predictions DataFrame\n",
    "predictions_df.index = pd.to_datetime(prediction_timestamps)\n",
    "\n",
    "# Plot the original data and the predictions\n",
    "plt.figure(figsize=(10, 6))\n",
    "plt.plot(pd.to_datetime(df['timestamp'][:20]), df['open'][:20], label='Original data')\n",
    "plt.plot(predictions_df.index, predictions_df['open'], label='Predictions')\n",
    "plt.xlabel('Date')\n",
    "plt.ylabel('Open')\n",
    "plt.legend()\n",
    "plt.show()\n"
   ]
  },
  {
   "cell_type": "code",
   "execution_count": 176,
   "id": "cc837abd-4946-41ce-b91f-1dec9c4149f0",
   "metadata": {
    "tags": []
   },
   "outputs": [
    {
     "name": "stdout",
     "output_type": "stream",
     "text": [
      "1/1 [==============================] - 0s 11ms/step\n",
      "1/1 [==============================] - 0s 8ms/step\n",
      "1/1 [==============================] - 0s 7ms/step\n",
      "1/1 [==============================] - 0s 8ms/step\n",
      "1/1 [==============================] - 0s 8ms/step\n",
      "1/1 [==============================] - 0s 9ms/step\n",
      "1/1 [==============================] - 0s 8ms/step\n",
      "1/1 [==============================] - 0s 8ms/step\n",
      "1/1 [==============================] - 0s 8ms/step\n",
      "1/1 [==============================] - 0s 9ms/step\n",
      "1/1 [==============================] - 0s 8ms/step\n",
      "1/1 [==============================] - 0s 9ms/step\n",
      "1/1 [==============================] - 0s 7ms/step\n",
      "Predictions: [[27.82926254]\n",
      " [29.64860993]\n",
      " [31.63509363]\n",
      " [30.87552054]\n",
      " [29.82236061]\n",
      " [31.228248  ]\n",
      " [30.45852506]\n",
      " [32.4418003 ]\n",
      " [34.82467743]\n",
      " [34.29239319]\n",
      " [35.94927505]\n",
      " [38.59399373]\n",
      " [41.12507724]]\n"
     ]
    }
   ],
   "source": [
    "inputs = [X[i:i+1].reshape(1, -1) for i in range(13)]\n",
    "\n",
    "predictions = []\n",
    "\n",
    "for input in inputs:\n",
    "    pred = model.predict(input)\n",
    "    predictions.append(pred[0])\n",
    "\n",
    "print(\"Predictions:\", scaler.inverse_transform(predictions))"
   ]
  },
  {
   "cell_type": "code",
   "execution_count": 178,
   "id": "9976f7ce-c209-4142-8fb3-9e05cd397c4b",
   "metadata": {
    "tags": []
   },
   "outputs": [
    {
     "name": "stdout",
     "output_type": "stream",
     "text": [
      "[[27.75]\n",
      " [30.  ]\n",
      " [27.38]\n",
      " [29.  ]\n",
      " [28.72]\n",
      " [28.38]\n",
      " [31.69]\n",
      " [32.22]\n",
      " [32.13]\n",
      " [35.  ]\n",
      " [36.44]\n",
      " [40.13]\n",
      " [43.97]]\n"
     ]
    }
   ],
   "source": [
    "print(scaler.inverse_transform(y[0:13]))"
   ]
  },
  {
   "cell_type": "code",
   "execution_count": 183,
   "id": "7cd66331-870c-44cf-9162-a9f4b05511aa",
   "metadata": {
    "tags": []
   },
   "outputs": [
    {
     "name": "stdout",
     "output_type": "stream",
     "text": [
      "1/1 [==============================] - 0s 49ms/step\n",
      "1/1 [==============================] - 0s 10ms/step\n",
      "1/1 [==============================] - 0s 8ms/step\n",
      "1/1 [==============================] - 0s 7ms/step\n",
      "1/1 [==============================] - 0s 8ms/step\n",
      "1/1 [==============================] - 0s 7ms/step\n",
      "1/1 [==============================] - 0s 7ms/step\n",
      "1/1 [==============================] - 0s 7ms/step\n",
      "1/1 [==============================] - 0s 8ms/step\n",
      "1/1 [==============================] - 0s 8ms/step\n",
      "1/1 [==============================] - 0s 8ms/step\n",
      "1/1 [==============================] - 0s 7ms/step\n",
      "1/1 [==============================] - 0s 7ms/step\n",
      "Predictions: [[27.82926254]\n",
      " [29.64860993]\n",
      " [31.63509363]\n",
      " [30.87552054]\n",
      " [29.82236061]\n",
      " [31.228248  ]\n",
      " [30.45852506]\n",
      " [32.4418003 ]\n",
      " [34.82467743]\n",
      " [34.29239319]\n",
      " [35.94927505]\n",
      " [38.59399373]\n",
      " [41.12507724]]\n",
      "Actual values: [[27.75]\n",
      " [30.  ]\n",
      " [27.38]\n",
      " [29.  ]\n",
      " [28.72]\n",
      " [28.38]\n",
      " [31.69]\n",
      " [32.22]\n",
      " [32.13]\n",
      " [35.  ]\n",
      " [36.44]\n",
      " [40.13]\n",
      " [43.97]]\n"
     ]
    },
    {
     "data": {
      "image/png": "[encoded data removed]",
      "text/plain": [
       "<Figure size 1000x600 with 1 Axes>"
      ]
     },
     "metadata": {},
     "output_type": "display_data"
    }
   ],
   "source": [
    "import matplotlib.pyplot as plt\n",
    "\n",
    "# Assuming model is already defined and trained\n",
    "inputs = [X[i:i+1].reshape(1, -1) for i in range(13)]\n",
    "\n",
    "predictions = []\n",
    "\n",
    "for input in inputs:\n",
    "    pred = model.predict(input)\n",
    "    predictions.append(pred[0])\n",
    "\n",
    "# Apply inverse transformation to predictions\n",
    "predictions_inv = scaler.inverse_transform(predictions)\n",
    "\n",
    "print(\"Predictions:\", predictions_inv)\n",
    "\n",
    "# Apply inverse transformation to actual values\n",
    "y_inv = scaler.inverse_transform(y[0:13])\n",
    "\n",
    "print(\"Actual values:\", y_inv)\n",
    "\n",
    "# Create a plot\n",
    "plt.figure(figsize=(10, 6))\n",
    "\n",
    "plt.plot(predictions_inv, label='Predictions')\n",
    "plt.plot(y_inv, label='Actual values')\n",
    "\n",
    "plt.title('Predictions vs Actual Values')\n",
    "plt.xlabel('Time Step')\n",
    "plt.ylabel('Value')\n",
    "plt.legend()\n",
    "\n",
    "plt.show()\n"
   ]
  },
  {
   "cell_type": "code",
   "execution_count": 184,
   "id": "072559cd-e3af-4b48-971e-86915f12eb94",
   "metadata": {
    "tags": []
   },
   "outputs": [
    {
     "name": "stdout",
     "output_type": "stream",
     "text": [
      "Mean Absolute Error: 1.5568529880849218\n",
      "Mean Squared Error: 3.930946438560702\n",
      "Root Mean Squared Error: 1.9826614533401061\n"
     ]
    }
   ],
   "source": [
    "from sklearn.metrics import mean_absolute_error, mean_squared_error\n",
    "\n",
    "# Calculate the metrics\n",
    "mae = mean_absolute_error(y_inv, predictions_inv)\n",
    "mse = mean_squared_error(y_inv, predictions_inv)\n",
    "rmse = np.sqrt(mse)\n",
    "\n",
    "print(\"Mean Absolute Error:\", mae)\n",
    "print(\"Mean Squared Error:\", mse)\n",
    "print(\"Root Mean Squared Error:\", rmse)\n"
   ]
  },
  {
   "cell_type": "code",
   "execution_count": null,
   "id": "b74dd82f-6a39-45b0-8c63-3a11c2ee575d",
   "metadata": {},
   "outputs": [],
   "source": []
  }
 ],
 "metadata": {
  "kernelspec": {
   "display_name": "Python 3 (ipykernel)",
   "language": "python",
   "name": "python3"
  },
  "language_info": {
   "codemirror_mode": {
    "name": "ipython",
    "version": 3
   },
   "file_extension": ".py",
   "mimetype": "text/x-python",
   "name": "python",
   "nbconvert_exporter": "python",
   "pygments_lexer": "ipython3",
   "version": "3.10.5"
  }
 },
 "nbformat": 4,
 "nbformat_minor": 5
}
