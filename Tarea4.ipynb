{
  "nbformat": 4,
  "nbformat_minor": 0,
  "metadata": {
    "colab": {
      "provenance": [],
      "authorship_tag": "ABX9TyPCp7VagQyCJ7EUk/tvX7EF",
      "include_colab_link": true
    },
    "kernelspec": {
      "name": "python3",
      "display_name": "Python 3"
    },
    "language_info": {
      "name": "python"
    }
  },
  "cells": [
    {
      "cell_type": "markdown",
      "metadata": {
        "id": "view-in-github",
        "colab_type": "text"
      },
      "source": [
        "<a href=\"https://colab.research.google.com/github/marcgym2/MachineLearning/blob/main/Tarea4.ipynb\" target=\"_parent\"><img src=\"https://colab.research.google.com/assets/colab-badge.svg\" alt=\"Open In Colab\"/></a>"
      ]
    },
    {
      "cell_type": "markdown",
      "source": [
        "Tarea (8 puntos)\n",
        "\n",
        "- Aplica los modelos de selección de características cuidando los supuestos de cada modelo\n",
        "- Busca una o varias métricas para seleccionar características en literatura relacionada con tu problema (cita tus fuentes)\n",
        "- Con base en tu investigación, determina las características más relevantes de tu conjunto de datos\n",
        "- Discute por qué crees que las características seleccionadas son las más relevantes y por qué el resto quedaron excluidas en la selección"
      ],
      "metadata": {
        "id": "JgWm3Hq4ZY1C"
      }
    },
    {
      "cell_type": "markdown",
      "source": [
        "## Selección de características"
      ],
      "metadata": {
        "id": "pPtO73a4Zj00"
      }
    },
    {
      "cell_type": "markdown",
      "source": [
        "La selección de características es un paso crítico en el proceso de análisis de datos y puede tener un impacto significativo en el rendimiento de un modelo de aprendizaje automático. Consiste en identificar y seleccionar las características más relevantes de un conjunto de datos para mejorar la precisión y eficiencia del modelo. Python es un lenguaje de programación popular que ofrece una amplia gama de herramientas y bibliotecas."
      ],
      "metadata": {
        "id": "snRQMFLuQHKp"
      }
    },
    {
      "cell_type": "code",
      "execution_count": 1,
      "metadata": {
        "colab": {
          "base_uri": "https://localhost:8080/"
        },
        "id": "41BWhHHMZJ_6",
        "outputId": "dd3f24f3-de35-4b0e-b48f-0d3dc81cc944"
      },
      "outputs": [
        {
          "output_type": "stream",
          "name": "stdout",
          "text": [
            "Mounted at /content/drive\n"
          ]
        }
      ],
      "source": [
        "import pandas as pd\n",
        "import numpy as np\n",
        "from IPython.display import Markdown\n",
        "import matplotlib.pyplot as plt\n",
        "\n",
        "# Ignorar advertencias\n",
        "import warnings\n",
        "warnings.filterwarnings('ignore')\n",
        "\n",
        "from google.colab import drive\n",
        "drive.mount(\"/content/drive\")"
      ]
    },
    {
      "cell_type": "code",
      "source": [
        "df_measures = pd.read_csv(\"/content/drive/MyDrive/Colab Notebooks/measures_v2.csv\")\n"
      ],
      "metadata": {
        "id": "nUbhwtqOZOE9"
      },
      "execution_count": 2,
      "outputs": []
    },
    {
      "cell_type": "markdown",
      "source": [
        "## Métodos de Filtro\n",
        "\n",
        "Los métodos de filtro son una técnica de selección de características que evalúan la importancia de cada característica individual y la seleccionan en función de un criterio específico. Estos métodos no tienen en cuenta las interacciones entre las características y, por lo tanto, son considerados como métodos univariantes.\n",
        "\n",
        "Algunos ejemplos comunes de métodos de filtro incluyen:\n",
        "\n",
        "- Correlación: Evalúa la correlación lineal entre cada característica y la variable objetivo. Las características altamente correlacionadas se consideran importantes y se seleccionan.\n",
        "- Información mutua: Evalúa la relación entre cada característica y la variable objetivo mediante la medida de la información mutua. Las características con una mayor información mutua son consideradas importantes y se seleccionan.\n",
        "- Análisis de componentes principales (PCA): Una técnica de reducción de dimensionalidad que busca identificar las características más importantes en un conjunto de datos."
      ],
      "metadata": {
        "id": "w2LTiEnwZn0z"
      }
    },
    {
      "cell_type": "markdown",
      "source": [
        "## ANOVA de valor F"
      ],
      "metadata": {
        "id": "rghXn0bY0Ov-"
      }
    },
    {
      "cell_type": "markdown",
      "source": [
        "Primeramente, se utiliza el valor \"F\" para determinar si la varianza explicada por una característica es estadísticamente significativa en relación con la varianza residual. Si el valor \"F\" es alto, indica que la característica es un buen predictor de la variable objetivo y, por lo tanto, es importante para el modelo. "
      ],
      "metadata": {
        "id": "2uZkNQckRbEb"
      }
    },
    {
      "cell_type": "code",
      "source": [
        "from sklearn.feature_selection import r_regression # Calcula la r de Pearson para cada característica y el objetivo."
      ],
      "metadata": {
        "id": "cLAhlfq6Z8-b"
      },
      "execution_count": 4,
      "outputs": []
    },
    {
      "cell_type": "code",
      "source": [
        "# Definiendo feature y target variable para Regresión\n",
        "X_reg=df_measures.iloc[:,0:10] # Caracteristicas\n",
        "y_reg=df_measures.iloc[:,11] # Target variable: Torque"
      ],
      "metadata": {
        "id": "RS5gPNJ_ac32"
      },
      "execution_count": 5,
      "outputs": []
    },
    {
      "cell_type": "code",
      "source": [
        "# hipótesis nula: todos los coeficientes de regresión son iguales a cero. \n",
        "# hipótesis alternativa: el modelo tiene capacidad predictiva.\n",
        "f_value = f_regression(X_reg, y_reg)\n",
        "# Regresa arreglo de estadístico F y valor p\n",
        "f_value"
      ],
      "metadata": {
        "colab": {
          "base_uri": "https://localhost:8080/"
        },
        "id": "OgzoGXQLbQtC",
        "outputId": "cbd000d1-314b-48d6-f905-77656ede6733"
      },
      "execution_count": 13,
      "outputs": [
        {
          "output_type": "execute_result",
          "data": {
            "text/plain": [
              "(array([2.51594099e+04, 9.48874445e+04, 1.22516302e+04, 1.75107803e+06,\n",
              "        4.51351673e+02, 2.57001059e+03, 1.08105001e+05, 1.86825276e+08,\n",
              "        1.85146022e+04, 1.85082736e+04]),\n",
              " array([0.00000000e+000, 0.00000000e+000, 0.00000000e+000, 0.00000000e+000,\n",
              "        3.80754558e-100, 0.00000000e+000, 0.00000000e+000, 0.00000000e+000,\n",
              "        0.00000000e+000, 0.00000000e+000]))"
            ]
          },
          "metadata": {},
          "execution_count": 13
        }
      ]
    },
    {
      "cell_type": "code",
      "source": [
        "pass_test = []\n",
        "not_pass_test = []\n",
        "alpha = 0.05\n",
        "for i in range(len(f_value[1])):\n",
        "    print(X_reg.columns[i], f_value[1][i])\n",
        "    if f_value[1][i] < alpha:\n",
        "        pass_test.append(X_reg.columns[i])\n",
        "    else:\n",
        "        not_pass_test.append(X_reg.columns[i])"
      ],
      "metadata": {
        "colab": {
          "base_uri": "https://localhost:8080/"
        },
        "id": "EgXDo1_NbWWJ",
        "outputId": "13e0ec8f-1524-4d27-ff16-9eacd8add83a"
      },
      "execution_count": 15,
      "outputs": [
        {
          "output_type": "stream",
          "name": "stdout",
          "text": [
            "u_q 0.0\n",
            "coolant 0.0\n",
            "stator_winding 0.0\n",
            "u_d 0.0\n",
            "stator_tooth 3.807545578931197e-100\n",
            "motor_speed 0.0\n",
            "i_d 0.0\n",
            "i_q 0.0\n",
            "pm 0.0\n",
            "stator_yoke 0.0\n"
          ]
        }
      ]
    },
    {
      "cell_type": "markdown",
      "source": [
        "Los coeficientes de regresión iguales a cero pueden no aportar al modelo. "
      ],
      "metadata": {
        "id": "UweMZ1LV7kiS"
      }
    },
    {
      "cell_type": "code",
      "source": [
        "df_results = pd.DataFrame(f_value[0], index=X_reg.columns)\n",
        "df_results.columns = ['f_value']\n",
        "df_results.sort_values('f_value', inplace = True, ascending = False)\n",
        "df_results"
      ],
      "metadata": {
        "colab": {
          "base_uri": "https://localhost:8080/",
          "height": 359
        },
        "id": "h-GCredtbHI8",
        "outputId": "87de56bf-3fe1-4d39-9072-f81997ab9688"
      },
      "execution_count": 80,
      "outputs": [
        {
          "output_type": "execute_result",
          "data": {
            "text/plain": [
              "                     f_value\n",
              "i_q             1.868253e+08\n",
              "u_d             1.751078e+06\n",
              "i_d             1.081050e+05\n",
              "coolant         9.488744e+04\n",
              "u_q             2.515941e+04\n",
              "pm              1.851460e+04\n",
              "stator_yoke     1.850827e+04\n",
              "stator_winding  1.225163e+04\n",
              "motor_speed     2.570011e+03\n",
              "stator_tooth    4.513517e+02"
            ],
            "text/html": [
              "\n",
              "  <div id=\"df-e795b2cd-aeca-4ab6-a6e1-f5176f99c598\">\n",
              "    <div class=\"colab-df-container\">\n",
              "      <div>\n",
              "<style scoped>\n",
              "    .dataframe tbody tr th:only-of-type {\n",
              "        vertical-align: middle;\n",
              "    }\n",
              "\n",
              "    .dataframe tbody tr th {\n",
              "        vertical-align: top;\n",
              "    }\n",
              "\n",
              "    .dataframe thead th {\n",
              "        text-align: right;\n",
              "    }\n",
              "</style>\n",
              "<table border=\"1\" class=\"dataframe\">\n",
              "  <thead>\n",
              "    <tr style=\"text-align: right;\">\n",
              "      <th></th>\n",
              "      <th>f_value</th>\n",
              "    </tr>\n",
              "  </thead>\n",
              "  <tbody>\n",
              "    <tr>\n",
              "      <th>i_q</th>\n",
              "      <td>1.868253e+08</td>\n",
              "    </tr>\n",
              "    <tr>\n",
              "      <th>u_d</th>\n",
              "      <td>1.751078e+06</td>\n",
              "    </tr>\n",
              "    <tr>\n",
              "      <th>i_d</th>\n",
              "      <td>1.081050e+05</td>\n",
              "    </tr>\n",
              "    <tr>\n",
              "      <th>coolant</th>\n",
              "      <td>9.488744e+04</td>\n",
              "    </tr>\n",
              "    <tr>\n",
              "      <th>u_q</th>\n",
              "      <td>2.515941e+04</td>\n",
              "    </tr>\n",
              "    <tr>\n",
              "      <th>pm</th>\n",
              "      <td>1.851460e+04</td>\n",
              "    </tr>\n",
              "    <tr>\n",
              "      <th>stator_yoke</th>\n",
              "      <td>1.850827e+04</td>\n",
              "    </tr>\n",
              "    <tr>\n",
              "      <th>stator_winding</th>\n",
              "      <td>1.225163e+04</td>\n",
              "    </tr>\n",
              "    <tr>\n",
              "      <th>motor_speed</th>\n",
              "      <td>2.570011e+03</td>\n",
              "    </tr>\n",
              "    <tr>\n",
              "      <th>stator_tooth</th>\n",
              "      <td>4.513517e+02</td>\n",
              "    </tr>\n",
              "  </tbody>\n",
              "</table>\n",
              "</div>\n",
              "      <button class=\"colab-df-convert\" onclick=\"convertToInteractive('df-e795b2cd-aeca-4ab6-a6e1-f5176f99c598')\"\n",
              "              title=\"Convert this dataframe to an interactive table.\"\n",
              "              style=\"display:none;\">\n",
              "        \n",
              "  <svg xmlns=\"http://www.w3.org/2000/svg\" height=\"24px\"viewBox=\"0 0 24 24\"\n",
              "       width=\"24px\">\n",
              "    <path d=\"M0 0h24v24H0V0z\" fill=\"none\"/>\n",
              "    <path d=\"M18.56 5.44l.94 2.06.94-2.06 2.06-.94-2.06-.94-.94-2.06-.94 2.06-2.06.94zm-11 1L8.5 8.5l.94-2.06 2.06-.94-2.06-.94L8.5 2.5l-.94 2.06-2.06.94zm10 10l.94 2.06.94-2.06 2.06-.94-2.06-.94-.94-2.06-.94 2.06-2.06.94z\"/><path d=\"M17.41 7.96l-1.37-1.37c-.4-.4-.92-.59-1.43-.59-.52 0-1.04.2-1.43.59L10.3 9.45l-7.72 7.72c-.78.78-.78 2.05 0 2.83L4 21.41c.39.39.9.59 1.41.59.51 0 1.02-.2 1.41-.59l7.78-7.78 2.81-2.81c.8-.78.8-2.07 0-2.86zM5.41 20L4 18.59l7.72-7.72 1.47 1.35L5.41 20z\"/>\n",
              "  </svg>\n",
              "      </button>\n",
              "      \n",
              "  <style>\n",
              "    .colab-df-container {\n",
              "      display:flex;\n",
              "      flex-wrap:wrap;\n",
              "      gap: 12px;\n",
              "    }\n",
              "\n",
              "    .colab-df-convert {\n",
              "      background-color: #E8F0FE;\n",
              "      border: none;\n",
              "      border-radius: 50%;\n",
              "      cursor: pointer;\n",
              "      display: none;\n",
              "      fill: #1967D2;\n",
              "      height: 32px;\n",
              "      padding: 0 0 0 0;\n",
              "      width: 32px;\n",
              "    }\n",
              "\n",
              "    .colab-df-convert:hover {\n",
              "      background-color: #E2EBFA;\n",
              "      box-shadow: 0px 1px 2px rgba(60, 64, 67, 0.3), 0px 1px 3px 1px rgba(60, 64, 67, 0.15);\n",
              "      fill: #174EA6;\n",
              "    }\n",
              "\n",
              "    [theme=dark] .colab-df-convert {\n",
              "      background-color: #3B4455;\n",
              "      fill: #D2E3FC;\n",
              "    }\n",
              "\n",
              "    [theme=dark] .colab-df-convert:hover {\n",
              "      background-color: #434B5C;\n",
              "      box-shadow: 0px 1px 3px 1px rgba(0, 0, 0, 0.15);\n",
              "      filter: drop-shadow(0px 1px 2px rgba(0, 0, 0, 0.3));\n",
              "      fill: #FFFFFF;\n",
              "    }\n",
              "  </style>\n",
              "\n",
              "      <script>\n",
              "        const buttonEl =\n",
              "          document.querySelector('#df-e795b2cd-aeca-4ab6-a6e1-f5176f99c598 button.colab-df-convert');\n",
              "        buttonEl.style.display =\n",
              "          google.colab.kernel.accessAllowed ? 'block' : 'none';\n",
              "\n",
              "        async function convertToInteractive(key) {\n",
              "          const element = document.querySelector('#df-e795b2cd-aeca-4ab6-a6e1-f5176f99c598');\n",
              "          const dataTable =\n",
              "            await google.colab.kernel.invokeFunction('convertToInteractive',\n",
              "                                                     [key], {});\n",
              "          if (!dataTable) return;\n",
              "\n",
              "          const docLinkHtml = 'Like what you see? Visit the ' +\n",
              "            '<a target=\"_blank\" href=https://colab.research.google.com/notebooks/data_table.ipynb>data table notebook</a>'\n",
              "            + ' to learn more about interactive tables.';\n",
              "          element.innerHTML = '';\n",
              "          dataTable['output_type'] = 'display_data';\n",
              "          await google.colab.output.renderOutput(dataTable, element);\n",
              "          const docLink = document.createElement('div');\n",
              "          docLink.innerHTML = docLinkHtml;\n",
              "          element.appendChild(docLink);\n",
              "        }\n",
              "      </script>\n",
              "    </div>\n",
              "  </div>\n",
              "  "
            ]
          },
          "metadata": {},
          "execution_count": 80
        }
      ]
    },
    {
      "cell_type": "code",
      "source": [
        "plt.figure()\n",
        "plt.bar(df_results.drop(not_pass_test).index, df_results.drop(not_pass_test).f_value, color= \"m\")\n",
        "plt.xticks(rotation='vertical')\n",
        "plt.show()"
      ],
      "metadata": {
        "colab": {
          "base_uri": "https://localhost:8080/",
          "height": 340
        },
        "id": "Jm9E1KZ-bvGL",
        "outputId": "9908ffeb-1b1a-4093-efe0-47fad0de6a8b"
      },
      "execution_count": 82,
      "outputs": [
        {
          "output_type": "display_data",
          "data": {
            "text/plain": [
              "<Figure size 432x288 with 1 Axes>"
            ],
            "image/png": "[encoded data removed]"
          },
          "metadata": {
            "needs_background": "light"
          }
        }
      ]
    },
    {
      "cell_type": "markdown",
      "source": [
        "## Valor R de correlación"
      ],
      "metadata": {
        "id": "T-MtHp8MZ5rv"
      }
    },
    {
      "cell_type": "code",
      "source": [
        "from sklearn.feature_selection import f_regression"
      ],
      "metadata": {
        "id": "dz8VGNfdbN25"
      },
      "execution_count": 11,
      "outputs": []
    },
    {
      "cell_type": "code",
      "source": [
        "r_value = r_regression(X_reg, y_reg)\n",
        "r_value"
      ],
      "metadata": {
        "colab": {
          "base_uri": "https://localhost:8080/"
        },
        "id": "iOJpAVcrakE-",
        "outputId": "1454a506-1169-4a84-83e0-857fabe259a4"
      },
      "execution_count": 7,
      "outputs": [
        {
          "output_type": "execute_result",
          "data": {
            "text/plain": [
              "array([-0.13621491, -0.2579824 ,  0.09550988, -0.75377901, -0.01841303,\n",
              "       -0.04390256, -0.27409728,  0.99645726, -0.11713814, -0.11711839])"
            ]
          },
          "metadata": {},
          "execution_count": 7
        }
      ]
    },
    {
      "cell_type": "code",
      "source": [
        "df_results['r_value'] = r_value\n",
        "colors = []\n",
        "for v in df_results['r_value']:\n",
        "    if v > 0:\n",
        "        colors.append('g')\n",
        "    else:\n",
        "        colors.append('r')"
      ],
      "metadata": {
        "id": "CDWWkT3iau-m"
      },
      "execution_count": 91,
      "outputs": []
    },
    {
      "cell_type": "code",
      "source": [
        "df_results['r_value_abs'] = df_results['r_value'].abs()\n",
        "df_results.sort_values('r_value_abs', inplace = True, ascending = False)\n",
        "plt.figure()\n",
        "plt.bar(df_results.index, df_results.r_value_abs, color = colors)\n",
        "plt.xticks(rotation='vertical')\n",
        "plt.show()"
      ],
      "metadata": {
        "colab": {
          "base_uri": "https://localhost:8080/",
          "height": 329
        },
        "id": "MgVue9-ubMl5",
        "outputId": "639ff69e-873d-4661-b17f-f291145154d7"
      },
      "execution_count": 92,
      "outputs": [
        {
          "output_type": "display_data",
          "data": {
            "text/plain": [
              "<Figure size 432x288 with 1 Axes>"
            ],
            "image/png": "[encoded data removed]"
          },
          "metadata": {
            "needs_background": "light"
          }
        }
      ]
    },
    {
      "cell_type": "markdown",
      "source": [
        "# El 99% de la variación en el torque puede ser explicada por el devanado del estator"
      ],
      "metadata": {
        "id": "Q3itNiV18gz2"
      }
    },
    {
      "cell_type": "markdown",
      "source": [
        "## Umbral de varianza"
      ],
      "metadata": {
        "id": "ZahUwrY61TlX"
      }
    },
    {
      "cell_type": "markdown",
      "source": [
        "Este estimador escala y traduce cada característica individualmente de modo que esté en el rango dado en el conjunto de entrenamiento, p. entre cero y uno."
      ],
      "metadata": {
        "id": "-Q5vWyiqRr4q"
      }
    },
    {
      "cell_type": "code",
      "source": [
        "# Normalización de variables,\n",
        "from sklearn.preprocessing import MinMaxScaler\n",
        "scaler = MinMaxScaler()\n",
        "scaled = scaler.fit_transform(X_reg)\n",
        "x_scaled = pd.DataFrame(scaled, columns = X_reg.columns)\n",
        "x_scaled"
      ],
      "metadata": {
        "colab": {
          "base_uri": "https://localhost:8080/",
          "height": 419
        },
        "id": "BOToeP_e1XZV",
        "outputId": "5bb984d9-8263-464e-fabc-3126190fe22c"
      },
      "execution_count": 78,
      "outputs": [
        {
          "output_type": "execute_result",
          "data": {
            "text/plain": [
              "              u_q   coolant  stator_winding       u_d  stator_tooth  \\\n",
              "0        0.156891  0.089931        0.004079  0.498784      0.001697   \n",
              "1        0.157680  0.090078        0.004126  0.498953      0.001714   \n",
              "2        0.156953  0.090190        0.004101  0.498699      0.001707   \n",
              "3        0.157672  0.090265        0.004050  0.498913      0.001690   \n",
              "4        0.156762  0.090501        0.004046  0.498852      0.001678   \n",
              "...           ...       ...             ...       ...           ...   \n",
              "1330811  0.146145  0.220913        0.217375  0.503126      0.253702   \n",
              "1330812  0.145472  0.220914        0.217086  0.503077      0.253004   \n",
              "1330813  0.146283  0.220914        0.216863  0.503176      0.252321   \n",
              "1330814  0.145410  0.220914        0.216715  0.503017      0.251867   \n",
              "1330815  0.146473  0.220914        0.216217  0.503185      0.251574   \n",
              "\n",
              "         motor_speed       i_d       i_q        pm  stator_yoke  \n",
              "0           0.043909  0.999829  0.493043  0.039863     0.002887  \n",
              "1           0.043908  0.999816  0.493041  0.039689     0.002868  \n",
              "2           0.043909  0.999818  0.493043  0.039760     0.003005  \n",
              "3           0.043909  0.999813  0.493046  0.039861     0.003059  \n",
              "4           0.043909  0.999582  0.493105  0.039983     0.003009  \n",
              "...              ...       ...       ...       ...          ...  \n",
              "1330811     0.043908  0.992620  0.494887  0.445186     0.247703  \n",
              "1330812     0.043909  0.992619  0.494887  0.445130     0.247735  \n",
              "1330813     0.043909  0.992623  0.494889  0.445084     0.247670  \n",
              "1330814     0.043909  0.992617  0.494884  0.445031     0.247727  \n",
              "1330815     0.043909  0.992618  0.494885  0.445009     0.247783  \n",
              "\n",
              "[1330816 rows x 10 columns]"
            ],
            "text/html": [
              "\n",
              "  <div id=\"df-750598f3-57e4-423e-9b52-6818cfc47616\">\n",
              "    <div class=\"colab-df-container\">\n",
              "      <div>\n",
              "<style scoped>\n",
              "    .dataframe tbody tr th:only-of-type {\n",
              "        vertical-align: middle;\n",
              "    }\n",
              "\n",
              "    .dataframe tbody tr th {\n",
              "        vertical-align: top;\n",
              "    }\n",
              "\n",
              "    .dataframe thead th {\n",
              "        text-align: right;\n",
              "    }\n",
              "</style>\n",
              "<table border=\"1\" class=\"dataframe\">\n",
              "  <thead>\n",
              "    <tr style=\"text-align: right;\">\n",
              "      <th></th>\n",
              "      <th>u_q</th>\n",
              "      <th>coolant</th>\n",
              "      <th>stator_winding</th>\n",
              "      <th>u_d</th>\n",
              "      <th>stator_tooth</th>\n",
              "      <th>motor_speed</th>\n",
              "      <th>i_d</th>\n",
              "      <th>i_q</th>\n",
              "      <th>pm</th>\n",
              "      <th>stator_yoke</th>\n",
              "    </tr>\n",
              "  </thead>\n",
              "  <tbody>\n",
              "    <tr>\n",
              "      <th>0</th>\n",
              "      <td>0.156891</td>\n",
              "      <td>0.089931</td>\n",
              "      <td>0.004079</td>\n",
              "      <td>0.498784</td>\n",
              "      <td>0.001697</td>\n",
              "      <td>0.043909</td>\n",
              "      <td>0.999829</td>\n",
              "      <td>0.493043</td>\n",
              "      <td>0.039863</td>\n",
              "      <td>0.002887</td>\n",
              "    </tr>\n",
              "    <tr>\n",
              "      <th>1</th>\n",
              "      <td>0.157680</td>\n",
              "      <td>0.090078</td>\n",
              "      <td>0.004126</td>\n",
              "      <td>0.498953</td>\n",
              "      <td>0.001714</td>\n",
              "      <td>0.043908</td>\n",
              "      <td>0.999816</td>\n",
              "      <td>0.493041</td>\n",
              "      <td>0.039689</td>\n",
              "      <td>0.002868</td>\n",
              "    </tr>\n",
              "    <tr>\n",
              "      <th>2</th>\n",
              "      <td>0.156953</td>\n",
              "      <td>0.090190</td>\n",
              "      <td>0.004101</td>\n",
              "      <td>0.498699</td>\n",
              "      <td>0.001707</td>\n",
              "      <td>0.043909</td>\n",
              "      <td>0.999818</td>\n",
              "      <td>0.493043</td>\n",
              "      <td>0.039760</td>\n",
              "      <td>0.003005</td>\n",
              "    </tr>\n",
              "    <tr>\n",
              "      <th>3</th>\n",
              "      <td>0.157672</td>\n",
              "      <td>0.090265</td>\n",
              "      <td>0.004050</td>\n",
              "      <td>0.498913</td>\n",
              "      <td>0.001690</td>\n",
              "      <td>0.043909</td>\n",
              "      <td>0.999813</td>\n",
              "      <td>0.493046</td>\n",
              "      <td>0.039861</td>\n",
              "      <td>0.003059</td>\n",
              "    </tr>\n",
              "    <tr>\n",
              "      <th>4</th>\n",
              "      <td>0.156762</td>\n",
              "      <td>0.090501</td>\n",
              "      <td>0.004046</td>\n",
              "      <td>0.498852</td>\n",
              "      <td>0.001678</td>\n",
              "      <td>0.043909</td>\n",
              "      <td>0.999582</td>\n",
              "      <td>0.493105</td>\n",
              "      <td>0.039983</td>\n",
              "      <td>0.003009</td>\n",
              "    </tr>\n",
              "    <tr>\n",
              "      <th>...</th>\n",
              "      <td>...</td>\n",
              "      <td>...</td>\n",
              "      <td>...</td>\n",
              "      <td>...</td>\n",
              "      <td>...</td>\n",
              "      <td>...</td>\n",
              "      <td>...</td>\n",
              "      <td>...</td>\n",
              "      <td>...</td>\n",
              "      <td>...</td>\n",
              "    </tr>\n",
              "    <tr>\n",
              "      <th>1330811</th>\n",
              "      <td>0.146145</td>\n",
              "      <td>0.220913</td>\n",
              "      <td>0.217375</td>\n",
              "      <td>0.503126</td>\n",
              "      <td>0.253702</td>\n",
              "      <td>0.043908</td>\n",
              "      <td>0.992620</td>\n",
              "      <td>0.494887</td>\n",
              "      <td>0.445186</td>\n",
              "      <td>0.247703</td>\n",
              "    </tr>\n",
              "    <tr>\n",
              "      <th>1330812</th>\n",
              "      <td>0.145472</td>\n",
              "      <td>0.220914</td>\n",
              "      <td>0.217086</td>\n",
              "      <td>0.503077</td>\n",
              "      <td>0.253004</td>\n",
              "      <td>0.043909</td>\n",
              "      <td>0.992619</td>\n",
              "      <td>0.494887</td>\n",
              "      <td>0.445130</td>\n",
              "      <td>0.247735</td>\n",
              "    </tr>\n",
              "    <tr>\n",
              "      <th>1330813</th>\n",
              "      <td>0.146283</td>\n",
              "      <td>0.220914</td>\n",
              "      <td>0.216863</td>\n",
              "      <td>0.503176</td>\n",
              "      <td>0.252321</td>\n",
              "      <td>0.043909</td>\n",
              "      <td>0.992623</td>\n",
              "      <td>0.494889</td>\n",
              "      <td>0.445084</td>\n",
              "      <td>0.247670</td>\n",
              "    </tr>\n",
              "    <tr>\n",
              "      <th>1330814</th>\n",
              "      <td>0.145410</td>\n",
              "      <td>0.220914</td>\n",
              "      <td>0.216715</td>\n",
              "      <td>0.503017</td>\n",
              "      <td>0.251867</td>\n",
              "      <td>0.043909</td>\n",
              "      <td>0.992617</td>\n",
              "      <td>0.494884</td>\n",
              "      <td>0.445031</td>\n",
              "      <td>0.247727</td>\n",
              "    </tr>\n",
              "    <tr>\n",
              "      <th>1330815</th>\n",
              "      <td>0.146473</td>\n",
              "      <td>0.220914</td>\n",
              "      <td>0.216217</td>\n",
              "      <td>0.503185</td>\n",
              "      <td>0.251574</td>\n",
              "      <td>0.043909</td>\n",
              "      <td>0.992618</td>\n",
              "      <td>0.494885</td>\n",
              "      <td>0.445009</td>\n",
              "      <td>0.247783</td>\n",
              "    </tr>\n",
              "  </tbody>\n",
              "</table>\n",
              "<p>1330816 rows × 10 columns</p>\n",
              "</div>\n",
              "      <button class=\"colab-df-convert\" onclick=\"convertToInteractive('df-750598f3-57e4-423e-9b52-6818cfc47616')\"\n",
              "              title=\"Convert this dataframe to an interactive table.\"\n",
              "              style=\"display:none;\">\n",
              "        \n",
              "  <svg xmlns=\"http://www.w3.org/2000/svg\" height=\"24px\"viewBox=\"0 0 24 24\"\n",
              "       width=\"24px\">\n",
              "    <path d=\"M0 0h24v24H0V0z\" fill=\"none\"/>\n",
              "    <path d=\"M18.56 5.44l.94 2.06.94-2.06 2.06-.94-2.06-.94-.94-2.06-.94 2.06-2.06.94zm-11 1L8.5 8.5l.94-2.06 2.06-.94-2.06-.94L8.5 2.5l-.94 2.06-2.06.94zm10 10l.94 2.06.94-2.06 2.06-.94-2.06-.94-.94-2.06-.94 2.06-2.06.94z\"/><path d=\"M17.41 7.96l-1.37-1.37c-.4-.4-.92-.59-1.43-.59-.52 0-1.04.2-1.43.59L10.3 9.45l-7.72 7.72c-.78.78-.78 2.05 0 2.83L4 21.41c.39.39.9.59 1.41.59.51 0 1.02-.2 1.41-.59l7.78-7.78 2.81-2.81c.8-.78.8-2.07 0-2.86zM5.41 20L4 18.59l7.72-7.72 1.47 1.35L5.41 20z\"/>\n",
              "  </svg>\n",
              "      </button>\n",
              "      \n",
              "  <style>\n",
              "    .colab-df-container {\n",
              "      display:flex;\n",
              "      flex-wrap:wrap;\n",
              "      gap: 12px;\n",
              "    }\n",
              "\n",
              "    .colab-df-convert {\n",
              "      background-color: #E8F0FE;\n",
              "      border: none;\n",
              "      border-radius: 50%;\n",
              "      cursor: pointer;\n",
              "      display: none;\n",
              "      fill: #1967D2;\n",
              "      height: 32px;\n",
              "      padding: 0 0 0 0;\n",
              "      width: 32px;\n",
              "    }\n",
              "\n",
              "    .colab-df-convert:hover {\n",
              "      background-color: #E2EBFA;\n",
              "      box-shadow: 0px 1px 2px rgba(60, 64, 67, 0.3), 0px 1px 3px 1px rgba(60, 64, 67, 0.15);\n",
              "      fill: #174EA6;\n",
              "    }\n",
              "\n",
              "    [theme=dark] .colab-df-convert {\n",
              "      background-color: #3B4455;\n",
              "      fill: #D2E3FC;\n",
              "    }\n",
              "\n",
              "    [theme=dark] .colab-df-convert:hover {\n",
              "      background-color: #434B5C;\n",
              "      box-shadow: 0px 1px 3px 1px rgba(0, 0, 0, 0.15);\n",
              "      filter: drop-shadow(0px 1px 2px rgba(0, 0, 0, 0.3));\n",
              "      fill: #FFFFFF;\n",
              "    }\n",
              "  </style>\n",
              "\n",
              "      <script>\n",
              "        const buttonEl =\n",
              "          document.querySelector('#df-750598f3-57e4-423e-9b52-6818cfc47616 button.colab-df-convert');\n",
              "        buttonEl.style.display =\n",
              "          google.colab.kernel.accessAllowed ? 'block' : 'none';\n",
              "\n",
              "        async function convertToInteractive(key) {\n",
              "          const element = document.querySelector('#df-750598f3-57e4-423e-9b52-6818cfc47616');\n",
              "          const dataTable =\n",
              "            await google.colab.kernel.invokeFunction('convertToInteractive',\n",
              "                                                     [key], {});\n",
              "          if (!dataTable) return;\n",
              "\n",
              "          const docLinkHtml = 'Like what you see? Visit the ' +\n",
              "            '<a target=\"_blank\" href=https://colab.research.google.com/notebooks/data_table.ipynb>data table notebook</a>'\n",
              "            + ' to learn more about interactive tables.';\n",
              "          element.innerHTML = '';\n",
              "          dataTable['output_type'] = 'display_data';\n",
              "          await google.colab.output.renderOutput(dataTable, element);\n",
              "          const docLink = document.createElement('div');\n",
              "          docLink.innerHTML = docLinkHtml;\n",
              "          element.appendChild(docLink);\n",
              "        }\n",
              "      </script>\n",
              "    </div>\n",
              "  </div>\n",
              "  "
            ]
          },
          "metadata": {},
          "execution_count": 78
        }
      ]
    },
    {
      "cell_type": "code",
      "source": [
        "from sklearn.feature_selection import VarianceThreshold\n",
        "# Analiza solo las carácteristicas (X) "
      ],
      "metadata": {
        "id": "VdpmvMyK1e0Z"
      },
      "execution_count": 38,
      "outputs": []
    },
    {
      "cell_type": "code",
      "source": [
        "# Selector de funciones que elimina todas las funciones de baja varianza.\n",
        "selector = VarianceThreshold()\n",
        "selector.fit_transform(x_scaled)\n",
        "selector.variances_"
      ],
      "metadata": {
        "colab": {
          "base_uri": "https://localhost:8080/"
        },
        "id": "wKNgurwH1iVC",
        "outputId": "89f4ee9c-bc8e-4be9-e7a9-2649f4a68c99"
      },
      "execution_count": 39,
      "outputs": [
        {
          "output_type": "execute_result",
          "data": {
            "text/plain": [
              "array([0.07784004, 0.05734806, 0.05453596, 0.05754873, 0.05985889,\n",
              "       0.0878138 , 0.05453442, 0.02399166, 0.04197112, 0.05791181])"
            ]
          },
          "metadata": {},
          "execution_count": 39
        }
      ]
    },
    {
      "cell_type": "code",
      "source": [
        "# Se agregan las varianzas a los resultados y se ordenan de mandera descendente. \n",
        "df_results['variance'] = selector.variances_\n",
        "df_results.sort_values('variance', ascending = False, inplace = True)\n",
        "df_results"
      ],
      "metadata": {
        "colab": {
          "base_uri": "https://localhost:8080/",
          "height": 359
        },
        "id": "WHNhtYPA1kXD",
        "outputId": "e559529b-8691-4155-ae19-de266a8c2d79"
      },
      "execution_count": 95,
      "outputs": [
        {
          "output_type": "execute_result",
          "data": {
            "text/plain": [
              "                     f_value   r_value  r_value_abs  variance\n",
              "pm              1.851460e+04 -0.117138     0.117138  0.087814\n",
              "stator_tooth    4.513517e+02  0.996457     0.996457  0.077840\n",
              "stator_yoke     1.850827e+04 -0.136215     0.136215  0.059859\n",
              "i_d             1.081050e+05 -0.018413     0.018413  0.057912\n",
              "coolant         9.488744e+04 -0.257982     0.257982  0.057549\n",
              "u_d             1.751078e+06 -0.753779     0.753779  0.057348\n",
              "i_q             1.868253e+08 -0.274097     0.274097  0.054536\n",
              "stator_winding  1.225163e+04 -0.117118     0.117118  0.054534\n",
              "motor_speed     2.570011e+03 -0.043903     0.043903  0.041971\n",
              "u_q             2.515941e+04  0.095510     0.095510  0.023992"
            ],
            "text/html": [
              "\n",
              "  <div id=\"df-b2c44011-01f4-44a7-a2b5-b955ab1b82b8\">\n",
              "    <div class=\"colab-df-container\">\n",
              "      <div>\n",
              "<style scoped>\n",
              "    .dataframe tbody tr th:only-of-type {\n",
              "        vertical-align: middle;\n",
              "    }\n",
              "\n",
              "    .dataframe tbody tr th {\n",
              "        vertical-align: top;\n",
              "    }\n",
              "\n",
              "    .dataframe thead th {\n",
              "        text-align: right;\n",
              "    }\n",
              "</style>\n",
              "<table border=\"1\" class=\"dataframe\">\n",
              "  <thead>\n",
              "    <tr style=\"text-align: right;\">\n",
              "      <th></th>\n",
              "      <th>f_value</th>\n",
              "      <th>r_value</th>\n",
              "      <th>r_value_abs</th>\n",
              "      <th>variance</th>\n",
              "    </tr>\n",
              "  </thead>\n",
              "  <tbody>\n",
              "    <tr>\n",
              "      <th>pm</th>\n",
              "      <td>1.851460e+04</td>\n",
              "      <td>-0.117138</td>\n",
              "      <td>0.117138</td>\n",
              "      <td>0.087814</td>\n",
              "    </tr>\n",
              "    <tr>\n",
              "      <th>stator_tooth</th>\n",
              "      <td>4.513517e+02</td>\n",
              "      <td>0.996457</td>\n",
              "      <td>0.996457</td>\n",
              "      <td>0.077840</td>\n",
              "    </tr>\n",
              "    <tr>\n",
              "      <th>stator_yoke</th>\n",
              "      <td>1.850827e+04</td>\n",
              "      <td>-0.136215</td>\n",
              "      <td>0.136215</td>\n",
              "      <td>0.059859</td>\n",
              "    </tr>\n",
              "    <tr>\n",
              "      <th>i_d</th>\n",
              "      <td>1.081050e+05</td>\n",
              "      <td>-0.018413</td>\n",
              "      <td>0.018413</td>\n",
              "      <td>0.057912</td>\n",
              "    </tr>\n",
              "    <tr>\n",
              "      <th>coolant</th>\n",
              "      <td>9.488744e+04</td>\n",
              "      <td>-0.257982</td>\n",
              "      <td>0.257982</td>\n",
              "      <td>0.057549</td>\n",
              "    </tr>\n",
              "    <tr>\n",
              "      <th>u_d</th>\n",
              "      <td>1.751078e+06</td>\n",
              "      <td>-0.753779</td>\n",
              "      <td>0.753779</td>\n",
              "      <td>0.057348</td>\n",
              "    </tr>\n",
              "    <tr>\n",
              "      <th>i_q</th>\n",
              "      <td>1.868253e+08</td>\n",
              "      <td>-0.274097</td>\n",
              "      <td>0.274097</td>\n",
              "      <td>0.054536</td>\n",
              "    </tr>\n",
              "    <tr>\n",
              "      <th>stator_winding</th>\n",
              "      <td>1.225163e+04</td>\n",
              "      <td>-0.117118</td>\n",
              "      <td>0.117118</td>\n",
              "      <td>0.054534</td>\n",
              "    </tr>\n",
              "    <tr>\n",
              "      <th>motor_speed</th>\n",
              "      <td>2.570011e+03</td>\n",
              "      <td>-0.043903</td>\n",
              "      <td>0.043903</td>\n",
              "      <td>0.041971</td>\n",
              "    </tr>\n",
              "    <tr>\n",
              "      <th>u_q</th>\n",
              "      <td>2.515941e+04</td>\n",
              "      <td>0.095510</td>\n",
              "      <td>0.095510</td>\n",
              "      <td>0.023992</td>\n",
              "    </tr>\n",
              "  </tbody>\n",
              "</table>\n",
              "</div>\n",
              "      <button class=\"colab-df-convert\" onclick=\"convertToInteractive('df-b2c44011-01f4-44a7-a2b5-b955ab1b82b8')\"\n",
              "              title=\"Convert this dataframe to an interactive table.\"\n",
              "              style=\"display:none;\">\n",
              "        \n",
              "  <svg xmlns=\"http://www.w3.org/2000/svg\" height=\"24px\"viewBox=\"0 0 24 24\"\n",
              "       width=\"24px\">\n",
              "    <path d=\"M0 0h24v24H0V0z\" fill=\"none\"/>\n",
              "    <path d=\"M18.56 5.44l.94 2.06.94-2.06 2.06-.94-2.06-.94-.94-2.06-.94 2.06-2.06.94zm-11 1L8.5 8.5l.94-2.06 2.06-.94-2.06-.94L8.5 2.5l-.94 2.06-2.06.94zm10 10l.94 2.06.94-2.06 2.06-.94-2.06-.94-.94-2.06-.94 2.06-2.06.94z\"/><path d=\"M17.41 7.96l-1.37-1.37c-.4-.4-.92-.59-1.43-.59-.52 0-1.04.2-1.43.59L10.3 9.45l-7.72 7.72c-.78.78-.78 2.05 0 2.83L4 21.41c.39.39.9.59 1.41.59.51 0 1.02-.2 1.41-.59l7.78-7.78 2.81-2.81c.8-.78.8-2.07 0-2.86zM5.41 20L4 18.59l7.72-7.72 1.47 1.35L5.41 20z\"/>\n",
              "  </svg>\n",
              "      </button>\n",
              "      \n",
              "  <style>\n",
              "    .colab-df-container {\n",
              "      display:flex;\n",
              "      flex-wrap:wrap;\n",
              "      gap: 12px;\n",
              "    }\n",
              "\n",
              "    .colab-df-convert {\n",
              "      background-color: #E8F0FE;\n",
              "      border: none;\n",
              "      border-radius: 50%;\n",
              "      cursor: pointer;\n",
              "      display: none;\n",
              "      fill: #1967D2;\n",
              "      height: 32px;\n",
              "      padding: 0 0 0 0;\n",
              "      width: 32px;\n",
              "    }\n",
              "\n",
              "    .colab-df-convert:hover {\n",
              "      background-color: #E2EBFA;\n",
              "      box-shadow: 0px 1px 2px rgba(60, 64, 67, 0.3), 0px 1px 3px 1px rgba(60, 64, 67, 0.15);\n",
              "      fill: #174EA6;\n",
              "    }\n",
              "\n",
              "    [theme=dark] .colab-df-convert {\n",
              "      background-color: #3B4455;\n",
              "      fill: #D2E3FC;\n",
              "    }\n",
              "\n",
              "    [theme=dark] .colab-df-convert:hover {\n",
              "      background-color: #434B5C;\n",
              "      box-shadow: 0px 1px 3px 1px rgba(0, 0, 0, 0.15);\n",
              "      filter: drop-shadow(0px 1px 2px rgba(0, 0, 0, 0.3));\n",
              "      fill: #FFFFFF;\n",
              "    }\n",
              "  </style>\n",
              "\n",
              "      <script>\n",
              "        const buttonEl =\n",
              "          document.querySelector('#df-b2c44011-01f4-44a7-a2b5-b955ab1b82b8 button.colab-df-convert');\n",
              "        buttonEl.style.display =\n",
              "          google.colab.kernel.accessAllowed ? 'block' : 'none';\n",
              "\n",
              "        async function convertToInteractive(key) {\n",
              "          const element = document.querySelector('#df-b2c44011-01f4-44a7-a2b5-b955ab1b82b8');\n",
              "          const dataTable =\n",
              "            await google.colab.kernel.invokeFunction('convertToInteractive',\n",
              "                                                     [key], {});\n",
              "          if (!dataTable) return;\n",
              "\n",
              "          const docLinkHtml = 'Like what you see? Visit the ' +\n",
              "            '<a target=\"_blank\" href=https://colab.research.google.com/notebooks/data_table.ipynb>data table notebook</a>'\n",
              "            + ' to learn more about interactive tables.';\n",
              "          element.innerHTML = '';\n",
              "          dataTable['output_type'] = 'display_data';\n",
              "          await google.colab.output.renderOutput(dataTable, element);\n",
              "          const docLink = document.createElement('div');\n",
              "          docLink.innerHTML = docLinkHtml;\n",
              "          element.appendChild(docLink);\n",
              "        }\n",
              "      </script>\n",
              "    </div>\n",
              "  </div>\n",
              "  "
            ]
          },
          "metadata": {},
          "execution_count": 95
        }
      ]
    },
    {
      "cell_type": "code",
      "source": [
        "plt.figure()\n",
        "plt.bar(df_results.index, df_results.variance, color = \"dodgerblue\")\n",
        "plt.xticks(rotation='vertical')\n",
        "plt.show()"
      ],
      "metadata": {
        "colab": {
          "base_uri": "https://localhost:8080/",
          "height": 329
        },
        "id": "qKaTzz_s1nSG",
        "outputId": "ebee434d-86d8-4cc3-e218-890cb3609bfa"
      },
      "execution_count": 96,
      "outputs": [
        {
          "output_type": "display_data",
          "data": {
            "text/plain": [
              "<Figure size 432x288 with 1 Axes>"
            ],
            "image/png": "[encoded data removed]"
          },
          "metadata": {
            "needs_background": "light"
          }
        }
      ]
    },
    {
      "cell_type": "markdown",
      "source": [
        "## Información mutua"
      ],
      "metadata": {
        "id": "DEwUvZ1P2B5d"
      }
    },
    {
      "cell_type": "code",
      "source": [
        "from sklearn.feature_selection import mutual_info_regression"
      ],
      "metadata": {
        "id": "7iARHyn02FsR"
      },
      "execution_count": 43,
      "outputs": []
    },
    {
      "cell_type": "code",
      "source": [
        "mi = mutual_info_regression(X_reg, y_reg, random_state=0)\n",
        "mi"
      ],
      "metadata": {
        "colab": {
          "base_uri": "https://localhost:8080/"
        },
        "id": "jnSFx2hr2HoY",
        "outputId": "d8bea892-209c-414b-f21f-7e4981544562"
      },
      "execution_count": 44,
      "outputs": [
        {
          "output_type": "execute_result",
          "data": {
            "text/plain": [
              "array([2.98123315, 1.04965855, 1.65481358, 3.19604174, 1.62333745,\n",
              "       2.44849982, 2.88233283, 4.05855264, 1.41835752, 1.65881083])"
            ]
          },
          "metadata": {},
          "execution_count": 44
        }
      ]
    },
    {
      "cell_type": "code",
      "source": [
        "# Agregarlo a los resultados\n",
        "df_results['mi'] = mi\n",
        "df_results.sort_values('mi', ascending = False, inplace = True)\n",
        "\n",
        "plt.figure()\n",
        "plt.bar(df_results.index, df_results.mi, color =\"dodgerblue\")\n",
        "plt.xticks(rotation='vertical')\n",
        "plt.show()"
      ],
      "metadata": {
        "colab": {
          "base_uri": "https://localhost:8080/",
          "height": 329
        },
        "id": "TfMv2_gZ2OZe",
        "outputId": "c336a76f-d6c6-46fa-e04d-19b7623a829e"
      },
      "execution_count": 97,
      "outputs": [
        {
          "output_type": "display_data",
          "data": {
            "text/plain": [
              "<Figure size 432x288 with 1 Axes>"
            ],
            "image/png": "[encoded data removed]"
          },
          "metadata": {
            "needs_background": "light"
          }
        }
      ]
    },
    {
      "cell_type": "markdown",
      "source": [
        "Las características con una mayor información mutua son consideradas importantes y se seleccionan. Se agrega la media de los valores normalizados para facilitar la visualización."
      ],
      "metadata": {
        "id": "goMTi2c3R95h"
      }
    },
    {
      "cell_type": "code",
      "source": [
        "scaled = scaler.fit_transform(df_results)\n",
        "df_results_scaled = pd.DataFrame(scaled, columns = df_results.columns)\n",
        "df_results_scaled.set_index(df_results.index, inplace = True)\n",
        "df_results_scaled['norm_mean'] = df_results_scaled.mean(axis = 1)\n",
        "df_results_scaled.sort_values('norm_mean', ascending = False, inplace = True)\n",
        "\n",
        "plt.figure()\n",
        "plt.bar(df_results_scaled.index, df_results_scaled.mean(axis = 1), color =\"dodgerblue\")\n",
        "plt.xticks(rotation='vertical')\n",
        "plt.show()"
      ],
      "metadata": {
        "colab": {
          "base_uri": "https://localhost:8080/",
          "height": 329
        },
        "id": "nQ8fdYk32WKV",
        "outputId": "497baec9-6033-4400-95c9-d7277854c652"
      },
      "execution_count": 98,
      "outputs": [
        {
          "output_type": "display_data",
          "data": {
            "text/plain": [
              "<Figure size 432x288 with 1 Axes>"
            ],
            "image/png": "[encoded data removed]"
          },
          "metadata": {
            "needs_background": "light"
          }
        }
      ]
    },
    {
      "cell_type": "markdown",
      "source": [
        "Se concluye que las características que parecen ser importantes son:\n",
        "- i_q: Current medición del componente q en coordenadas dq.\n",
        "- pm: Temperatura de imán permanente (en °C) medida con termopares y transmitida de forma inalámbrica a través de una unidad de termografía.\n",
        "- stator_yoke: Temperatura del yugo del estator (en °C) medida con termopares\n",
        "- stator_tooth: Temperatura del diente del estator (en °C) medida con termopares\n",
        "\n",
        "Podemos observar que el estator es importante debido a que la función de un motor eléctrico es la de convertir energía eléctrica en energía cinética o movimiento. El estátor tiene la función de “trabajar” la energía eléctrica para crear con ella un campo magnético.\n",
        "\n"
      ],
      "metadata": {
        "id": "BR32s8gESPaG"
      }
    },
    {
      "cell_type": "markdown",
      "source": [
        "# Referencias bibliográficas\n",
        "\n",
        "G., & E. (2003). An introduction to variable and feature selection. Journal of Machine Learning Research. https://doi.org/10.5555/944919.944968"
      ],
      "metadata": {
        "id": "SPek06w6Ow_q"
      }
    }
  ]
}