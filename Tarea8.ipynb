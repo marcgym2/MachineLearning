{
  "cells": [
    {
      "cell_type": "markdown",
      "metadata": {
        "id": "view-in-github",
        "colab_type": "text"
      },
      "source": [
        "<a href=\"https://colab.research.google.com/github/marcgym2/MachineLearning/blob/main/Tarea8.ipynb\" target=\"_parent\"><img src=\"https://colab.research.google.com/assets/colab-badge.svg\" alt=\"Open In Colab\"/></a>"
      ]
    },
    {
      "cell_type": "markdown",
      "metadata": {
        "id": "7B7c_3XyQ4SW"
      },
      "source": [
        "## Tarea 8 (10 puntos)\n",
        "- Revisa en la literatura las métricas de desempeño que se utilizan en tu problema.\n",
        "- Elige al menos una métrica para aplicar a tus modelos.\n",
        "- Reporta estos hallazgos en el marco teórico de tu artículo."
      ]
    },
    {
      "cell_type": "code",
      "source": [
        "import pandas as pd\n",
        "import numpy as np\n",
        "from sklearn.preprocessing import MinMaxScaler\n",
        "import tensorflow as tf\n",
        "import tensorflow_probability as tfp\n",
        "from tensorflow.keras.models import Sequential\n",
        "from tensorflow.keras.layers import Dense, Activation, Dropout\n",
        "from tensorflow.keras import regularizers"
      ],
      "metadata": {
        "id": "w3TSyfAycLj-"
      },
      "execution_count": 42,
      "outputs": []
    },
    {
      "cell_type": "code",
      "execution_count": 1,
      "metadata": {
        "colab": {
          "base_uri": "https://localhost:8080/"
        },
        "id": "SUYBpNA1VdcJ",
        "outputId": "f3492b59-6d9f-41b0-c483-1bf111e33ad3"
      },
      "outputs": [
        {
          "output_type": "stream",
          "name": "stdout",
          "text": [
            "Mounted at /content/drive\n"
          ]
        }
      ],
      "source": [
        "# Cargar los datos\n",
        "from google.colab import drive\n",
        "drive.mount(\"/content/drive\")\n",
        "df_measures = pd.read_csv(\"/content/drive/MyDrive/Colab Notebooks/measures_v2.csv\")"
      ]
    },
    {
      "cell_type": "code",
      "source": [
        "# Definir variables predictoras y variable a predecir\n",
        "x_vars = [\"u_q\", \"coolant\", \"ambient\", \"u_d\", \"motor_speed\", \"i_q\", \"i_d\"]\n",
        "y_vars = [\"pm\", \"torque\", \"stator_yoke\", \"stator_tooth\", \"stator_winding\"]"
      ],
      "metadata": {
        "id": "Llc3dB9BcN2B"
      },
      "execution_count": 43,
      "outputs": []
    },
    {
      "cell_type": "code",
      "source": [
        "# Dividir los datos en conjunto de entrenamiento y prueba\n",
        "train_size = int(len(df_measures) * 0.7)\n",
        "train_set = df_measures.iloc[:train_size]\n",
        "test_set = df_measures.iloc[train_size:]"
      ],
      "metadata": {
        "id": "BGamGPRzcWNS"
      },
      "execution_count": 44,
      "outputs": []
    },
    {
      "cell_type": "code",
      "source": [
        "# Escalar los datos\n",
        "scaler = MinMaxScaler(feature_range=(0, 1))\n",
        "train_set[x_vars + y_vars] = scaler.fit_transform(train_set[x_vars + y_vars])\n",
        "test_set[x_vars + y_vars] = scaler.transform(test_set[x_vars + y_vars])"
      ],
      "metadata": {
        "id": "WXC-KdvO8W35",
        "outputId": "a60a2b4b-c046-4605-c76e-b5463a32245e",
        "colab": {
          "base_uri": "https://localhost:8080/"
        }
      },
      "execution_count": 45,
      "outputs": [
        {
          "output_type": "stream",
          "name": "stderr",
          "text": [
            "/usr/local/lib/python3.9/dist-packages/pandas/core/frame.py:3678: SettingWithCopyWarning: \n",
            "A value is trying to be set on a copy of a slice from a DataFrame.\n",
            "Try using .loc[row_indexer,col_indexer] = value instead\n",
            "\n",
            "See the caveats in the documentation: https://pandas.pydata.org/pandas-docs/stable/user_guide/indexing.html#returning-a-view-versus-a-copy\n",
            "  self[col] = igetitem(value, i)\n",
            "/usr/local/lib/python3.9/dist-packages/pandas/core/frame.py:3678: SettingWithCopyWarning: \n",
            "A value is trying to be set on a copy of a slice from a DataFrame.\n",
            "Try using .loc[row_indexer,col_indexer] = value instead\n",
            "\n",
            "See the caveats in the documentation: https://pandas.pydata.org/pandas-docs/stable/user_guide/indexing.html#returning-a-view-versus-a-copy\n",
            "  self[col] = igetitem(value, i)\n"
          ]
        }
      ]
    },
    {
      "cell_type": "code",
      "source": [
        "# Definir el modelo de red neuronal\n",
        "model = Sequential()\n",
        "\n",
        "# Añadir las capas ocultas\n",
        "model.add(Dense(128, input_dim=len(x_vars), activation='relu'))\n",
        "model.add(Dropout(0.2))\n",
        "model.add(Dense(64, activation='relu'))\n",
        "model.add(Dropout(0.2))\n",
        "model.add(Dense(32, activation='relu'))\n",
        "model.add(Dropout(0.2))"
      ],
      "metadata": {
        "id": "7s_oiJW9AsMd"
      },
      "execution_count": 46,
      "outputs": []
    },
    {
      "cell_type": "code",
      "source": [
        "# Añadir la capa de salida\n",
        "model.add(Dense(len(y_vars), activation='linear', \n",
        "                kernel_regularizer=regularizers.L1L2(l1=1e-5, l2=1e-4)))"
      ],
      "metadata": {
        "id": "dt4Q-L-BcZi7"
      },
      "execution_count": 47,
      "outputs": []
    },
    {
      "cell_type": "code",
      "source": [
        "# Definir el optimizador y la función de pérdida\n",
        "opt = tf.keras.optimizers.Adam(learning_rate=0.001)\n",
        "model.compile(loss='mse', optimizer=opt)"
      ],
      "metadata": {
        "id": "bpGlDFaBcgra"
      },
      "execution_count": 48,
      "outputs": []
    },
    {
      "cell_type": "code",
      "source": [
        "# Entrenar el modelo\n",
        "history = model.fit(train_set[x_vars], train_set[y_vars],\n",
        "                    validation_data=(test_set[x_vars], test_set[y_vars]),\n",
        "                    epochs=50, batch_size=32)"
      ],
      "metadata": {
        "id": "-0dS3mlnDvWk",
        "outputId": "50f40618-d0b5-411d-b6ee-601201aa5b56",
        "colab": {
          "base_uri": "https://localhost:8080/"
        }
      },
      "execution_count": 49,
      "outputs": [
        {
          "output_type": "stream",
          "name": "stdout",
          "text": [
            "Epoch 1/50\n",
            "29112/29112 [==============================] - 101s 3ms/step - loss: 0.0102 - val_loss: 0.0102\n",
            "Epoch 2/50\n",
            "29112/29112 [==============================] - 92s 3ms/step - loss: 0.0084 - val_loss: 0.0110\n",
            "Epoch 3/50\n",
            "29112/29112 [==============================] - 91s 3ms/step - loss: 0.0080 - val_loss: 0.0101\n",
            "Epoch 4/50\n",
            "29112/29112 [==============================] - 92s 3ms/step - loss: 0.0078 - val_loss: 0.0098\n",
            "Epoch 5/50\n",
            "29112/29112 [==============================] - 96s 3ms/step - loss: 0.0077 - val_loss: 0.0105\n",
            "Epoch 6/50\n",
            "29112/29112 [==============================] - 90s 3ms/step - loss: 0.0076 - val_loss: 0.0103\n",
            "Epoch 7/50\n",
            "29112/29112 [==============================] - 90s 3ms/step - loss: 0.0075 - val_loss: 0.0101\n",
            "Epoch 8/50\n",
            "29112/29112 [==============================] - 92s 3ms/step - loss: 0.0075 - val_loss: 0.0101\n",
            "Epoch 9/50\n",
            "29112/29112 [==============================] - 93s 3ms/step - loss: 0.0074 - val_loss: 0.0102\n",
            "Epoch 10/50\n",
            "29112/29112 [==============================] - 89s 3ms/step - loss: 0.0074 - val_loss: 0.0102\n",
            "Epoch 11/50\n",
            "29112/29112 [==============================] - 94s 3ms/step - loss: 0.0073 - val_loss: 0.0104\n",
            "Epoch 12/50\n",
            "29112/29112 [==============================] - 95s 3ms/step - loss: 0.0073 - val_loss: 0.0102\n",
            "Epoch 13/50\n",
            "29112/29112 [==============================] - 121s 4ms/step - loss: 0.0073 - val_loss: 0.0098\n",
            "Epoch 14/50\n",
            "29112/29112 [==============================] - 114s 4ms/step - loss: 0.0072 - val_loss: 0.0101\n",
            "Epoch 15/50\n",
            "29112/29112 [==============================] - 108s 4ms/step - loss: 0.0072 - val_loss: 0.0101\n",
            "Epoch 16/50\n",
            "29112/29112 [==============================] - 105s 4ms/step - loss: 0.0071 - val_loss: 0.0101\n",
            "Epoch 17/50\n",
            "29112/29112 [==============================] - 104s 4ms/step - loss: 0.0071 - val_loss: 0.0101\n",
            "Epoch 18/50\n",
            "29112/29112 [==============================] - 104s 4ms/step - loss: 0.0071 - val_loss: 0.0100\n",
            "Epoch 19/50\n",
            "29112/29112 [==============================] - 100s 3ms/step - loss: 0.0071 - val_loss: 0.0098\n",
            "Epoch 20/50\n",
            "29112/29112 [==============================] - 94s 3ms/step - loss: 0.0070 - val_loss: 0.0098\n",
            "Epoch 21/50\n",
            "29112/29112 [==============================] - 105s 4ms/step - loss: 0.0070 - val_loss: 0.0101\n",
            "Epoch 22/50\n",
            "29112/29112 [==============================] - 118s 4ms/step - loss: 0.0070 - val_loss: 0.0098\n",
            "Epoch 23/50\n",
            "29112/29112 [==============================] - 107s 4ms/step - loss: 0.0070 - val_loss: 0.0098\n",
            "Epoch 24/50\n",
            "29112/29112 [==============================] - 104s 4ms/step - loss: 0.0070 - val_loss: 0.0097\n",
            "Epoch 25/50\n",
            "29112/29112 [==============================] - 110s 4ms/step - loss: 0.0069 - val_loss: 0.0099\n",
            "Epoch 26/50\n",
            "29112/29112 [==============================] - 101s 3ms/step - loss: 0.0069 - val_loss: 0.0099\n",
            "Epoch 27/50\n",
            "29112/29112 [==============================] - 103s 4ms/step - loss: 0.0069 - val_loss: 0.0098\n",
            "Epoch 28/50\n",
            "29112/29112 [==============================] - 103s 4ms/step - loss: 0.0069 - val_loss: 0.0100\n",
            "Epoch 29/50\n",
            "29112/29112 [==============================] - 100s 3ms/step - loss: 0.0069 - val_loss: 0.0103\n",
            "Epoch 30/50\n",
            "29112/29112 [==============================] - 98s 3ms/step - loss: 0.0069 - val_loss: 0.0105\n",
            "Epoch 31/50\n",
            "29112/29112 [==============================] - 90s 3ms/step - loss: 0.0069 - val_loss: 0.0101\n",
            "Epoch 32/50\n",
            "29112/29112 [==============================] - 95s 3ms/step - loss: 0.0069 - val_loss: 0.0092\n",
            "Epoch 33/50\n",
            "29112/29112 [==============================] - 93s 3ms/step - loss: 0.0068 - val_loss: 0.0097\n",
            "Epoch 34/50\n",
            "29112/29112 [==============================] - 98s 3ms/step - loss: 0.0068 - val_loss: 0.0101\n",
            "Epoch 35/50\n",
            "29112/29112 [==============================] - 93s 3ms/step - loss: 0.0068 - val_loss: 0.0099\n",
            "Epoch 36/50\n",
            "29112/29112 [==============================] - 90s 3ms/step - loss: 0.0068 - val_loss: 0.0096\n",
            "Epoch 37/50\n",
            "29112/29112 [==============================] - 93s 3ms/step - loss: 0.0068 - val_loss: 0.0097\n",
            "Epoch 38/50\n",
            "29112/29112 [==============================] - 105s 4ms/step - loss: 0.0068 - val_loss: 0.0099\n",
            "Epoch 39/50\n",
            "29112/29112 [==============================] - 103s 4ms/step - loss: 0.0068 - val_loss: 0.0097\n",
            "Epoch 40/50\n",
            "29112/29112 [==============================] - 103s 4ms/step - loss: 0.0068 - val_loss: 0.0098\n",
            "Epoch 41/50\n",
            "29112/29112 [==============================] - 102s 3ms/step - loss: 0.0068 - val_loss: 0.0095\n",
            "Epoch 42/50\n",
            "29112/29112 [==============================] - 102s 4ms/step - loss: 0.0068 - val_loss: 0.0094\n",
            "Epoch 43/50\n",
            "29112/29112 [==============================] - 101s 3ms/step - loss: 0.0068 - val_loss: 0.0093\n",
            "Epoch 44/50\n",
            "29112/29112 [==============================] - 94s 3ms/step - loss: 0.0067 - val_loss: 0.0096\n",
            "Epoch 45/50\n",
            "29112/29112 [==============================] - 94s 3ms/step - loss: 0.0067 - val_loss: 0.0093\n",
            "Epoch 46/50\n",
            "29112/29112 [==============================] - 94s 3ms/step - loss: 0.0067 - val_loss: 0.0095\n",
            "Epoch 47/50\n",
            "29112/29112 [==============================] - 92s 3ms/step - loss: 0.0067 - val_loss: 0.0094\n",
            "Epoch 48/50\n",
            "29112/29112 [==============================] - 96s 3ms/step - loss: 0.0067 - val_loss: 0.0097\n",
            "Epoch 49/50\n",
            "29112/29112 [==============================] - 96s 3ms/step - loss: 0.0067 - val_loss: 0.0093\n",
            "Epoch 50/50\n",
            "29112/29112 [==============================] - 95s 3ms/step - loss: 0.0067 - val_loss: 0.0099\n"
          ]
        }
      ]
    },
    {
      "cell_type": "code",
      "source": [
        "# Obtener las predicciones en el conjunto de prueba\n",
        "predictions = model.predict(test_set[x_vars])"
      ],
      "metadata": {
        "colab": {
          "base_uri": "https://localhost:8080/"
        },
        "id": "i2Q1uKaW5IJv",
        "outputId": "42f8749b-ccb6-4a13-f09b-3bd0fe10ea57"
      },
      "execution_count": 52,
      "outputs": [
        {
          "output_type": "stream",
          "name": "stdout",
          "text": [
            "12477/12477 [==============================] - 33s 3ms/step\n"
          ]
        }
      ]
    },
    {
      "cell_type": "code",
      "source": [
        "# Calcular las métricas de evaluación en el conjunto de prueba\n",
        "mse = np.mean(np.square(predictions - test_set[y_vars]))\n",
        "rmse = np.sqrt(mse)\n",
        "mae = np.mean(np.abs(predictions - test_set[y_vars]))\n",
        "r2 = 1 - (np.sum(np.square(predictions - test_set[y_vars])) / \n",
        "          np.sum(np.square(test_set[y_vars] - np.mean(test_set[y_vars], axis=0))))\n",
        "\n",
        "print(\"RMSE en el conjunto de prueba:\", rmse)\n",
        "print(\"R^2 en el conjunto de prueba:\", r2)\n",
        "print(\"MAE en el conjunto de prueba:\", mae)\n",
        "print(\"MSE en el conjunto de prueba:\", mse)"
      ],
      "metadata": {
        "colab": {
          "base_uri": "https://localhost:8080/"
        },
        "id": "o8XZAWUF3Ms8",
        "outputId": "86638e5f-77ac-42a5-abc7-97c8b98c3166"
      },
      "execution_count": 53,
      "outputs": [
        {
          "output_type": "stream",
          "name": "stdout",
          "text": [
            "RMSE en el conjunto de prueba: pm                0.108869\n",
            "torque            0.036204\n",
            "stator_yoke       0.094262\n",
            "stator_tooth      0.115637\n",
            "stator_winding    0.117066\n",
            "dtype: float64\n",
            "R^2 en el conjunto de prueba: pm                0.480450\n",
            "torque            0.943500\n",
            "stator_yoke       0.836566\n",
            "stator_tooth      0.723499\n",
            "stator_winding    0.650030\n",
            "dtype: float64\n",
            "MAE en el conjunto de prueba: pm                0.086587\n",
            "torque            0.029574\n",
            "stator_yoke       0.073415\n",
            "stator_tooth      0.091478\n",
            "stator_winding    0.093699\n",
            "dtype: float64\n",
            "MSE en el conjunto de prueba: pm                0.011853\n",
            "torque            0.001311\n",
            "stator_yoke       0.008885\n",
            "stator_tooth      0.013372\n",
            "stator_winding    0.013704\n",
            "dtype: float64\n"
          ]
        }
      ]
    }
  ],
  "metadata": {
    "colab": {
      "provenance": [],
      "authorship_tag": "ABX9TyOhLoPM2Fvd9C9PU1uuDaLC",
      "include_colab_link": true
    },
    "kernelspec": {
      "display_name": "Python 3",
      "name": "python3"
    },
    "language_info": {
      "name": "python"
    }
  },
  "nbformat": 4,
  "nbformat_minor": 0
}