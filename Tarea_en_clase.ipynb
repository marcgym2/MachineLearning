{
  "nbformat": 4,
  "nbformat_minor": 0,
  "metadata": {
    "colab": {
      "provenance": [],
      "mount_file_id": "https://github.com/marcgym2/MachineLearning/blob/main/Tarea_en_clase.ipynb",
      "authorship_tag": "ABX9TyP0fpeJvep9qNcVyg2KpUy0",
      "include_colab_link": true
    },
    "kernelspec": {
      "name": "python3",
      "display_name": "Python 3"
    },
    "language_info": {
      "name": "python"
    }
  },
  "cells": [
    {
      "cell_type": "markdown",
      "metadata": {
        "id": "view-in-github",
        "colab_type": "text"
      },
      "source": [
        "<a href=\"https://colab.research.google.com/github/marcgym2/MachineLearning/blob/main/Tarea_en_clase.ipynb\" target=\"_parent\"><img src=\"https://colab.research.google.com/assets/colab-badge.svg\" alt=\"Open In Colab\"/></a>"
      ]
    },
    {
      "cell_type": "markdown",
      "source": [
        "Tarea en clase (2 puntos)\n",
        "\n",
        "- Crear funciones para calcular las medidas de tendencia central y de dispersión con Python puro (sin librerías)\n",
        "- Comprueba si tus variables de interés son conjuntos de datos paramétricos o no paramétricos"
      ],
      "metadata": {
        "id": "w25QyM7i4YCs"
      }
    },
    {
      "cell_type": "code",
      "execution_count": 14,
      "metadata": {
        "id": "0nnMZqwLwSvU",
        "outputId": "f16fb030-1319-480b-a6c9-879d08823a78",
        "colab": {
          "base_uri": "https://localhost:8080/"
        }
      },
      "outputs": [
        {
          "output_type": "stream",
          "name": "stdout",
          "text": [
            "Mounted at /content/drive\n"
          ]
        }
      ],
      "source": [
        "import math\n",
        "import pandas as pd\n",
        "# Permite mostrar markdown como saliuda en Jupyter\n",
        "from IPython.display import Markdown\n",
        "from google.colab import drive\n",
        "drive.mount(\"/content/drive\")"
      ]
    },
    {
      "cell_type": "code",
      "source": [
        "df_measures = pd.read_csv(\"/content/drive/MyDrive/Colab Notebooks/measures_v2.csv\")"
      ],
      "metadata": {
        "id": "kCQPIU6d-2si"
      },
      "execution_count": 15,
      "outputs": []
    },
    {
      "cell_type": "code",
      "source": [
        "df_measures.describe().T"
      ],
      "metadata": {
        "colab": {
          "base_uri": "https://localhost:8080/",
          "height": 452
        },
        "id": "tZgo4sIgBAY4",
        "outputId": "953cc300-f294-48aa-ee07-ac63e8e07354"
      },
      "execution_count": null,
      "outputs": [
        {
          "output_type": "execute_result",
          "data": {
            "text/plain": [
              "                    count         mean          std         min         25%  \\\n",
              "u_q             1330816.0    54.279005    44.173234  -25.290930   12.069925   \n",
              "coolant         1330816.0    36.229995    21.786149   10.623751   18.698135   \n",
              "stator_winding  1330816.0    66.342745    28.672061   18.585815   42.787957   \n",
              "u_d             1330816.0   -25.133809    63.091972 -131.530411  -78.690904   \n",
              "stator_tooth    1330816.0    56.878582    22.952233   18.133976   38.416012   \n",
              "motor_speed     1330816.0  2202.080728  1859.663350 -275.549144  317.110665   \n",
              "i_d             1330816.0   -68.716810    64.933233 -278.003632 -115.406060   \n",
              "i_q             1330816.0    37.412782    92.181880 -293.426793    1.095863   \n",
              "pm              1330816.0    58.506776    19.001498   20.856956   43.151582   \n",
              "stator_yoke     1330816.0    48.187965    19.991004   18.076689   31.990333   \n",
              "ambient         1330816.0    24.565256     1.929522    8.783478   23.184804   \n",
              "torque          1330816.0    31.106032    77.135755 -246.466663   -0.137427   \n",
              "profile_id      1330816.0    40.793062    25.045494    2.000000   17.000000   \n",
              "\n",
              "                        50%          75%          max  \n",
              "u_q               48.938181    90.034393   133.036994  \n",
              "coolant           26.900141    49.857487   101.598512  \n",
              "stator_winding    65.110129    88.141137   141.362885  \n",
              "u_d               -7.429755     1.470271   131.469788  \n",
              "stator_tooth      56.036345    75.586682   111.946423  \n",
              "motor_speed     1999.976685  3760.639058  6000.015137  \n",
              "i_d              -51.093763    -2.979688     0.051897  \n",
              "i_q               15.774007   100.612150   301.707855  \n",
              "pm                60.266287    72.008371   113.606628  \n",
              "stator_yoke       45.625509    61.460828   101.147964  \n",
              "ambient           24.797327    26.217019    30.714205  \n",
              "torque            10.860354    91.597176   261.005707  \n",
              "profile_id        43.000000    65.000000    81.000000  "
            ],
            "text/html": [
              "\n",
              "  <div id=\"df-256b554b-d9ba-49ef-9ecf-9acf0b2a0bf8\">\n",
              "    <div class=\"colab-df-container\">\n",
              "      <div>\n",
              "<style scoped>\n",
              "    .dataframe tbody tr th:only-of-type {\n",
              "        vertical-align: middle;\n",
              "    }\n",
              "\n",
              "    .dataframe tbody tr th {\n",
              "        vertical-align: top;\n",
              "    }\n",
              "\n",
              "    .dataframe thead th {\n",
              "        text-align: right;\n",
              "    }\n",
              "</style>\n",
              "<table border=\"1\" class=\"dataframe\">\n",
              "  <thead>\n",
              "    <tr style=\"text-align: right;\">\n",
              "      <th></th>\n",
              "      <th>count</th>\n",
              "      <th>mean</th>\n",
              "      <th>std</th>\n",
              "      <th>min</th>\n",
              "      <th>25%</th>\n",
              "      <th>50%</th>\n",
              "      <th>75%</th>\n",
              "      <th>max</th>\n",
              "    </tr>\n",
              "  </thead>\n",
              "  <tbody>\n",
              "    <tr>\n",
              "      <th>u_q</th>\n",
              "      <td>1330816.0</td>\n",
              "      <td>54.279005</td>\n",
              "      <td>44.173234</td>\n",
              "      <td>-25.290930</td>\n",
              "      <td>12.069925</td>\n",
              "      <td>48.938181</td>\n",
              "      <td>90.034393</td>\n",
              "      <td>133.036994</td>\n",
              "    </tr>\n",
              "    <tr>\n",
              "      <th>coolant</th>\n",
              "      <td>1330816.0</td>\n",
              "      <td>36.229995</td>\n",
              "      <td>21.786149</td>\n",
              "      <td>10.623751</td>\n",
              "      <td>18.698135</td>\n",
              "      <td>26.900141</td>\n",
              "      <td>49.857487</td>\n",
              "      <td>101.598512</td>\n",
              "    </tr>\n",
              "    <tr>\n",
              "      <th>stator_winding</th>\n",
              "      <td>1330816.0</td>\n",
              "      <td>66.342745</td>\n",
              "      <td>28.672061</td>\n",
              "      <td>18.585815</td>\n",
              "      <td>42.787957</td>\n",
              "      <td>65.110129</td>\n",
              "      <td>88.141137</td>\n",
              "      <td>141.362885</td>\n",
              "    </tr>\n",
              "    <tr>\n",
              "      <th>u_d</th>\n",
              "      <td>1330816.0</td>\n",
              "      <td>-25.133809</td>\n",
              "      <td>63.091972</td>\n",
              "      <td>-131.530411</td>\n",
              "      <td>-78.690904</td>\n",
              "      <td>-7.429755</td>\n",
              "      <td>1.470271</td>\n",
              "      <td>131.469788</td>\n",
              "    </tr>\n",
              "    <tr>\n",
              "      <th>stator_tooth</th>\n",
              "      <td>1330816.0</td>\n",
              "      <td>56.878582</td>\n",
              "      <td>22.952233</td>\n",
              "      <td>18.133976</td>\n",
              "      <td>38.416012</td>\n",
              "      <td>56.036345</td>\n",
              "      <td>75.586682</td>\n",
              "      <td>111.946423</td>\n",
              "    </tr>\n",
              "    <tr>\n",
              "      <th>motor_speed</th>\n",
              "      <td>1330816.0</td>\n",
              "      <td>2202.080728</td>\n",
              "      <td>1859.663350</td>\n",
              "      <td>-275.549144</td>\n",
              "      <td>317.110665</td>\n",
              "      <td>1999.976685</td>\n",
              "      <td>3760.639058</td>\n",
              "      <td>6000.015137</td>\n",
              "    </tr>\n",
              "    <tr>\n",
              "      <th>i_d</th>\n",
              "      <td>1330816.0</td>\n",
              "      <td>-68.716810</td>\n",
              "      <td>64.933233</td>\n",
              "      <td>-278.003632</td>\n",
              "      <td>-115.406060</td>\n",
              "      <td>-51.093763</td>\n",
              "      <td>-2.979688</td>\n",
              "      <td>0.051897</td>\n",
              "    </tr>\n",
              "    <tr>\n",
              "      <th>i_q</th>\n",
              "      <td>1330816.0</td>\n",
              "      <td>37.412782</td>\n",
              "      <td>92.181880</td>\n",
              "      <td>-293.426793</td>\n",
              "      <td>1.095863</td>\n",
              "      <td>15.774007</td>\n",
              "      <td>100.612150</td>\n",
              "      <td>301.707855</td>\n",
              "    </tr>\n",
              "    <tr>\n",
              "      <th>pm</th>\n",
              "      <td>1330816.0</td>\n",
              "      <td>58.506776</td>\n",
              "      <td>19.001498</td>\n",
              "      <td>20.856956</td>\n",
              "      <td>43.151582</td>\n",
              "      <td>60.266287</td>\n",
              "      <td>72.008371</td>\n",
              "      <td>113.606628</td>\n",
              "    </tr>\n",
              "    <tr>\n",
              "      <th>stator_yoke</th>\n",
              "      <td>1330816.0</td>\n",
              "      <td>48.187965</td>\n",
              "      <td>19.991004</td>\n",
              "      <td>18.076689</td>\n",
              "      <td>31.990333</td>\n",
              "      <td>45.625509</td>\n",
              "      <td>61.460828</td>\n",
              "      <td>101.147964</td>\n",
              "    </tr>\n",
              "    <tr>\n",
              "      <th>ambient</th>\n",
              "      <td>1330816.0</td>\n",
              "      <td>24.565256</td>\n",
              "      <td>1.929522</td>\n",
              "      <td>8.783478</td>\n",
              "      <td>23.184804</td>\n",
              "      <td>24.797327</td>\n",
              "      <td>26.217019</td>\n",
              "      <td>30.714205</td>\n",
              "    </tr>\n",
              "    <tr>\n",
              "      <th>torque</th>\n",
              "      <td>1330816.0</td>\n",
              "      <td>31.106032</td>\n",
              "      <td>77.135755</td>\n",
              "      <td>-246.466663</td>\n",
              "      <td>-0.137427</td>\n",
              "      <td>10.860354</td>\n",
              "      <td>91.597176</td>\n",
              "      <td>261.005707</td>\n",
              "    </tr>\n",
              "    <tr>\n",
              "      <th>profile_id</th>\n",
              "      <td>1330816.0</td>\n",
              "      <td>40.793062</td>\n",
              "      <td>25.045494</td>\n",
              "      <td>2.000000</td>\n",
              "      <td>17.000000</td>\n",
              "      <td>43.000000</td>\n",
              "      <td>65.000000</td>\n",
              "      <td>81.000000</td>\n",
              "    </tr>\n",
              "  </tbody>\n",
              "</table>\n",
              "</div>\n",
              "      <button class=\"colab-df-convert\" onclick=\"convertToInteractive('df-256b554b-d9ba-49ef-9ecf-9acf0b2a0bf8')\"\n",
              "              title=\"Convert this dataframe to an interactive table.\"\n",
              "              style=\"display:none;\">\n",
              "        \n",
              "  <svg xmlns=\"http://www.w3.org/2000/svg\" height=\"24px\"viewBox=\"0 0 24 24\"\n",
              "       width=\"24px\">\n",
              "    <path d=\"M0 0h24v24H0V0z\" fill=\"none\"/>\n",
              "    <path d=\"M18.56 5.44l.94 2.06.94-2.06 2.06-.94-2.06-.94-.94-2.06-.94 2.06-2.06.94zm-11 1L8.5 8.5l.94-2.06 2.06-.94-2.06-.94L8.5 2.5l-.94 2.06-2.06.94zm10 10l.94 2.06.94-2.06 2.06-.94-2.06-.94-.94-2.06-.94 2.06-2.06.94z\"/><path d=\"M17.41 7.96l-1.37-1.37c-.4-.4-.92-.59-1.43-.59-.52 0-1.04.2-1.43.59L10.3 9.45l-7.72 7.72c-.78.78-.78 2.05 0 2.83L4 21.41c.39.39.9.59 1.41.59.51 0 1.02-.2 1.41-.59l7.78-7.78 2.81-2.81c.8-.78.8-2.07 0-2.86zM5.41 20L4 18.59l7.72-7.72 1.47 1.35L5.41 20z\"/>\n",
              "  </svg>\n",
              "      </button>\n",
              "      \n",
              "  <style>\n",
              "    .colab-df-container {\n",
              "      display:flex;\n",
              "      flex-wrap:wrap;\n",
              "      gap: 12px;\n",
              "    }\n",
              "\n",
              "    .colab-df-convert {\n",
              "      background-color: #E8F0FE;\n",
              "      border: none;\n",
              "      border-radius: 50%;\n",
              "      cursor: pointer;\n",
              "      display: none;\n",
              "      fill: #1967D2;\n",
              "      height: 32px;\n",
              "      padding: 0 0 0 0;\n",
              "      width: 32px;\n",
              "    }\n",
              "\n",
              "    .colab-df-convert:hover {\n",
              "      background-color: #E2EBFA;\n",
              "      box-shadow: 0px 1px 2px rgba(60, 64, 67, 0.3), 0px 1px 3px 1px rgba(60, 64, 67, 0.15);\n",
              "      fill: #174EA6;\n",
              "    }\n",
              "\n",
              "    [theme=dark] .colab-df-convert {\n",
              "      background-color: #3B4455;\n",
              "      fill: #D2E3FC;\n",
              "    }\n",
              "\n",
              "    [theme=dark] .colab-df-convert:hover {\n",
              "      background-color: #434B5C;\n",
              "      box-shadow: 0px 1px 3px 1px rgba(0, 0, 0, 0.15);\n",
              "      filter: drop-shadow(0px 1px 2px rgba(0, 0, 0, 0.3));\n",
              "      fill: #FFFFFF;\n",
              "    }\n",
              "  </style>\n",
              "\n",
              "      <script>\n",
              "        const buttonEl =\n",
              "          document.querySelector('#df-256b554b-d9ba-49ef-9ecf-9acf0b2a0bf8 button.colab-df-convert');\n",
              "        buttonEl.style.display =\n",
              "          google.colab.kernel.accessAllowed ? 'block' : 'none';\n",
              "\n",
              "        async function convertToInteractive(key) {\n",
              "          const element = document.querySelector('#df-256b554b-d9ba-49ef-9ecf-9acf0b2a0bf8');\n",
              "          const dataTable =\n",
              "            await google.colab.kernel.invokeFunction('convertToInteractive',\n",
              "                                                     [key], {});\n",
              "          if (!dataTable) return;\n",
              "\n",
              "          const docLinkHtml = 'Like what you see? Visit the ' +\n",
              "            '<a target=\"_blank\" href=https://colab.research.google.com/notebooks/data_table.ipynb>data table notebook</a>'\n",
              "            + ' to learn more about interactive tables.';\n",
              "          element.innerHTML = '';\n",
              "          dataTable['output_type'] = 'display_data';\n",
              "          await google.colab.output.renderOutput(dataTable, element);\n",
              "          const docLink = document.createElement('div');\n",
              "          docLink.innerHTML = docLinkHtml;\n",
              "          element.appendChild(docLink);\n",
              "        }\n",
              "      </script>\n",
              "    </div>\n",
              "  </div>\n",
              "  "
            ]
          },
          "metadata": {},
          "execution_count": 13
        }
      ]
    },
    {
      "cell_type": "code",
      "source": [
        "df_measures_mod_2.describe().T"
      ],
      "metadata": {
        "id": "XgZULMUmFGns",
        "outputId": "8e2136a6-925c-477a-aee3-c8ee07018966",
        "colab": {
          "base_uri": "https://localhost:8080/",
          "height": 452
        }
      },
      "execution_count": 63,
      "outputs": [
        {
          "output_type": "execute_result",
          "data": {
            "text/plain": [
              "                  count        mean         std         min         25%  \\\n",
              "u_q             19357.0    5.894508    2.231838    3.919605    4.142478   \n",
              "coolant         19357.0   18.542054    0.328558   15.594865   18.353586   \n",
              "stator_winding  19357.0   51.110270   37.978699   19.428793   19.723171   \n",
              "u_d             19357.0   -2.815422    5.474471   -9.820481   -9.799939   \n",
              "stator_tooth    19357.0   39.106455   23.995088   18.618843   19.133394   \n",
              "motor_speed     19357.0  100.000216    0.026217   99.422050   99.983826   \n",
              "i_d             19357.0  -48.212822   58.754778 -122.974426 -122.971855   \n",
              "i_q             19357.0   93.315905  117.213201   -0.003094    1.096946   \n",
              "pm              19357.0   32.759597    7.544091   22.970417   25.651463   \n",
              "stator_yoke     19357.0   31.642673   15.183870   18.299831   19.013332   \n",
              "ambient         19357.0   22.170210    0.621277   19.692505   21.936565   \n",
              "torque          19357.0   79.148595  100.303048   -0.619861    0.239095   \n",
              "profile_id      19357.0    2.000000    0.000000    2.000000    2.000000   \n",
              "\n",
              "                      50%         75%         max  \n",
              "u_q              4.175154    8.747538    8.798512  \n",
              "coolant         18.526077   18.705246   19.774647  \n",
              "stator_winding  19.880793  101.761406  103.282516  \n",
              "u_d              1.468360    1.496622    1.701082  \n",
              "stator_tooth    19.850620   71.133781   72.121727  \n",
              "motor_speed     99.999466  100.016319  100.552002  \n",
              "i_d             -2.001389   -2.000436    0.001466  \n",
              "i_q              1.098519  242.423538  242.425613  \n",
              "pm              31.252665   39.810726   45.985561  \n",
              "stator_yoke     19.744173   51.965973   52.602722  \n",
              "ambient         22.304092   22.510565   23.391573  \n",
              "torque           0.254300  206.438416  208.290604  \n",
              "profile_id       2.000000    2.000000    2.000000  "
            ],
            "text/html": [
              "\n",
              "  <div id=\"df-fc3c171f-5eb0-42e5-badb-cb861e04256b\">\n",
              "    <div class=\"colab-df-container\">\n",
              "      <div>\n",
              "<style scoped>\n",
              "    .dataframe tbody tr th:only-of-type {\n",
              "        vertical-align: middle;\n",
              "    }\n",
              "\n",
              "    .dataframe tbody tr th {\n",
              "        vertical-align: top;\n",
              "    }\n",
              "\n",
              "    .dataframe thead th {\n",
              "        text-align: right;\n",
              "    }\n",
              "</style>\n",
              "<table border=\"1\" class=\"dataframe\">\n",
              "  <thead>\n",
              "    <tr style=\"text-align: right;\">\n",
              "      <th></th>\n",
              "      <th>count</th>\n",
              "      <th>mean</th>\n",
              "      <th>std</th>\n",
              "      <th>min</th>\n",
              "      <th>25%</th>\n",
              "      <th>50%</th>\n",
              "      <th>75%</th>\n",
              "      <th>max</th>\n",
              "    </tr>\n",
              "  </thead>\n",
              "  <tbody>\n",
              "    <tr>\n",
              "      <th>u_q</th>\n",
              "      <td>19357.0</td>\n",
              "      <td>5.894508</td>\n",
              "      <td>2.231838</td>\n",
              "      <td>3.919605</td>\n",
              "      <td>4.142478</td>\n",
              "      <td>4.175154</td>\n",
              "      <td>8.747538</td>\n",
              "      <td>8.798512</td>\n",
              "    </tr>\n",
              "    <tr>\n",
              "      <th>coolant</th>\n",
              "      <td>19357.0</td>\n",
              "      <td>18.542054</td>\n",
              "      <td>0.328558</td>\n",
              "      <td>15.594865</td>\n",
              "      <td>18.353586</td>\n",
              "      <td>18.526077</td>\n",
              "      <td>18.705246</td>\n",
              "      <td>19.774647</td>\n",
              "    </tr>\n",
              "    <tr>\n",
              "      <th>stator_winding</th>\n",
              "      <td>19357.0</td>\n",
              "      <td>51.110270</td>\n",
              "      <td>37.978699</td>\n",
              "      <td>19.428793</td>\n",
              "      <td>19.723171</td>\n",
              "      <td>19.880793</td>\n",
              "      <td>101.761406</td>\n",
              "      <td>103.282516</td>\n",
              "    </tr>\n",
              "    <tr>\n",
              "      <th>u_d</th>\n",
              "      <td>19357.0</td>\n",
              "      <td>-2.815422</td>\n",
              "      <td>5.474471</td>\n",
              "      <td>-9.820481</td>\n",
              "      <td>-9.799939</td>\n",
              "      <td>1.468360</td>\n",
              "      <td>1.496622</td>\n",
              "      <td>1.701082</td>\n",
              "    </tr>\n",
              "    <tr>\n",
              "      <th>stator_tooth</th>\n",
              "      <td>19357.0</td>\n",
              "      <td>39.106455</td>\n",
              "      <td>23.995088</td>\n",
              "      <td>18.618843</td>\n",
              "      <td>19.133394</td>\n",
              "      <td>19.850620</td>\n",
              "      <td>71.133781</td>\n",
              "      <td>72.121727</td>\n",
              "    </tr>\n",
              "    <tr>\n",
              "      <th>motor_speed</th>\n",
              "      <td>19357.0</td>\n",
              "      <td>100.000216</td>\n",
              "      <td>0.026217</td>\n",
              "      <td>99.422050</td>\n",
              "      <td>99.983826</td>\n",
              "      <td>99.999466</td>\n",
              "      <td>100.016319</td>\n",
              "      <td>100.552002</td>\n",
              "    </tr>\n",
              "    <tr>\n",
              "      <th>i_d</th>\n",
              "      <td>19357.0</td>\n",
              "      <td>-48.212822</td>\n",
              "      <td>58.754778</td>\n",
              "      <td>-122.974426</td>\n",
              "      <td>-122.971855</td>\n",
              "      <td>-2.001389</td>\n",
              "      <td>-2.000436</td>\n",
              "      <td>0.001466</td>\n",
              "    </tr>\n",
              "    <tr>\n",
              "      <th>i_q</th>\n",
              "      <td>19357.0</td>\n",
              "      <td>93.315905</td>\n",
              "      <td>117.213201</td>\n",
              "      <td>-0.003094</td>\n",
              "      <td>1.096946</td>\n",
              "      <td>1.098519</td>\n",
              "      <td>242.423538</td>\n",
              "      <td>242.425613</td>\n",
              "    </tr>\n",
              "    <tr>\n",
              "      <th>pm</th>\n",
              "      <td>19357.0</td>\n",
              "      <td>32.759597</td>\n",
              "      <td>7.544091</td>\n",
              "      <td>22.970417</td>\n",
              "      <td>25.651463</td>\n",
              "      <td>31.252665</td>\n",
              "      <td>39.810726</td>\n",
              "      <td>45.985561</td>\n",
              "    </tr>\n",
              "    <tr>\n",
              "      <th>stator_yoke</th>\n",
              "      <td>19357.0</td>\n",
              "      <td>31.642673</td>\n",
              "      <td>15.183870</td>\n",
              "      <td>18.299831</td>\n",
              "      <td>19.013332</td>\n",
              "      <td>19.744173</td>\n",
              "      <td>51.965973</td>\n",
              "      <td>52.602722</td>\n",
              "    </tr>\n",
              "    <tr>\n",
              "      <th>ambient</th>\n",
              "      <td>19357.0</td>\n",
              "      <td>22.170210</td>\n",
              "      <td>0.621277</td>\n",
              "      <td>19.692505</td>\n",
              "      <td>21.936565</td>\n",
              "      <td>22.304092</td>\n",
              "      <td>22.510565</td>\n",
              "      <td>23.391573</td>\n",
              "    </tr>\n",
              "    <tr>\n",
              "      <th>torque</th>\n",
              "      <td>19357.0</td>\n",
              "      <td>79.148595</td>\n",
              "      <td>100.303048</td>\n",
              "      <td>-0.619861</td>\n",
              "      <td>0.239095</td>\n",
              "      <td>0.254300</td>\n",
              "      <td>206.438416</td>\n",
              "      <td>208.290604</td>\n",
              "    </tr>\n",
              "    <tr>\n",
              "      <th>profile_id</th>\n",
              "      <td>19357.0</td>\n",
              "      <td>2.000000</td>\n",
              "      <td>0.000000</td>\n",
              "      <td>2.000000</td>\n",
              "      <td>2.000000</td>\n",
              "      <td>2.000000</td>\n",
              "      <td>2.000000</td>\n",
              "      <td>2.000000</td>\n",
              "    </tr>\n",
              "  </tbody>\n",
              "</table>\n",
              "</div>\n",
              "      <button class=\"colab-df-convert\" onclick=\"convertToInteractive('df-fc3c171f-5eb0-42e5-badb-cb861e04256b')\"\n",
              "              title=\"Convert this dataframe to an interactive table.\"\n",
              "              style=\"display:none;\">\n",
              "        \n",
              "  <svg xmlns=\"http://www.w3.org/2000/svg\" height=\"24px\"viewBox=\"0 0 24 24\"\n",
              "       width=\"24px\">\n",
              "    <path d=\"M0 0h24v24H0V0z\" fill=\"none\"/>\n",
              "    <path d=\"M18.56 5.44l.94 2.06.94-2.06 2.06-.94-2.06-.94-.94-2.06-.94 2.06-2.06.94zm-11 1L8.5 8.5l.94-2.06 2.06-.94-2.06-.94L8.5 2.5l-.94 2.06-2.06.94zm10 10l.94 2.06.94-2.06 2.06-.94-2.06-.94-.94-2.06-.94 2.06-2.06.94z\"/><path d=\"M17.41 7.96l-1.37-1.37c-.4-.4-.92-.59-1.43-.59-.52 0-1.04.2-1.43.59L10.3 9.45l-7.72 7.72c-.78.78-.78 2.05 0 2.83L4 21.41c.39.39.9.59 1.41.59.51 0 1.02-.2 1.41-.59l7.78-7.78 2.81-2.81c.8-.78.8-2.07 0-2.86zM5.41 20L4 18.59l7.72-7.72 1.47 1.35L5.41 20z\"/>\n",
              "  </svg>\n",
              "      </button>\n",
              "      \n",
              "  <style>\n",
              "    .colab-df-container {\n",
              "      display:flex;\n",
              "      flex-wrap:wrap;\n",
              "      gap: 12px;\n",
              "    }\n",
              "\n",
              "    .colab-df-convert {\n",
              "      background-color: #E8F0FE;\n",
              "      border: none;\n",
              "      border-radius: 50%;\n",
              "      cursor: pointer;\n",
              "      display: none;\n",
              "      fill: #1967D2;\n",
              "      height: 32px;\n",
              "      padding: 0 0 0 0;\n",
              "      width: 32px;\n",
              "    }\n",
              "\n",
              "    .colab-df-convert:hover {\n",
              "      background-color: #E2EBFA;\n",
              "      box-shadow: 0px 1px 2px rgba(60, 64, 67, 0.3), 0px 1px 3px 1px rgba(60, 64, 67, 0.15);\n",
              "      fill: #174EA6;\n",
              "    }\n",
              "\n",
              "    [theme=dark] .colab-df-convert {\n",
              "      background-color: #3B4455;\n",
              "      fill: #D2E3FC;\n",
              "    }\n",
              "\n",
              "    [theme=dark] .colab-df-convert:hover {\n",
              "      background-color: #434B5C;\n",
              "      box-shadow: 0px 1px 3px 1px rgba(0, 0, 0, 0.15);\n",
              "      filter: drop-shadow(0px 1px 2px rgba(0, 0, 0, 0.3));\n",
              "      fill: #FFFFFF;\n",
              "    }\n",
              "  </style>\n",
              "\n",
              "      <script>\n",
              "        const buttonEl =\n",
              "          document.querySelector('#df-fc3c171f-5eb0-42e5-badb-cb861e04256b button.colab-df-convert');\n",
              "        buttonEl.style.display =\n",
              "          google.colab.kernel.accessAllowed ? 'block' : 'none';\n",
              "\n",
              "        async function convertToInteractive(key) {\n",
              "          const element = document.querySelector('#df-fc3c171f-5eb0-42e5-badb-cb861e04256b');\n",
              "          const dataTable =\n",
              "            await google.colab.kernel.invokeFunction('convertToInteractive',\n",
              "                                                     [key], {});\n",
              "          if (!dataTable) return;\n",
              "\n",
              "          const docLinkHtml = 'Like what you see? Visit the ' +\n",
              "            '<a target=\"_blank\" href=https://colab.research.google.com/notebooks/data_table.ipynb>data table notebook</a>'\n",
              "            + ' to learn more about interactive tables.';\n",
              "          element.innerHTML = '';\n",
              "          dataTable['output_type'] = 'display_data';\n",
              "          await google.colab.output.renderOutput(dataTable, element);\n",
              "          const docLink = document.createElement('div');\n",
              "          docLink.innerHTML = docLinkHtml;\n",
              "          element.appendChild(docLink);\n",
              "        }\n",
              "      </script>\n",
              "    </div>\n",
              "  </div>\n",
              "  "
            ]
          },
          "metadata": {},
          "execution_count": 63
        }
      ]
    },
    {
      "cell_type": "code",
      "source": [
        "# Función para calcular la media tomando como input un DataFrame y Columna de Interes. \n",
        "def fn_mean(df, col):\n",
        "    return (sum(df[col])/df.count()).iloc[0]\n",
        "\n",
        "# Calculando la media del torque del motor en el DataFrame df_measures.\n",
        "print(fn_mean(df_measures, 'torque'))"
      ],
      "metadata": {
        "id": "KkSUqQp41fbt",
        "outputId": "744b63a1-2280-4b45-e468-f3bc8d212b1e",
        "colab": {
          "base_uri": "https://localhost:8080/"
        }
      },
      "execution_count": 19,
      "outputs": [
        {
          "output_type": "stream",
          "name": "stdout",
          "text": [
            "31.1060323797327\n"
          ]
        }
      ]
    },
    {
      "cell_type": "code",
      "source": [
        "\n",
        "# Utilizando solamente los datos de la segunda sesión. \n",
        "in_2 = df_measures['profile_id'] == 2\n",
        "df_measures_mod_2 = df_measures[in_2]\n"
      ],
      "metadata": {
        "id": "6ew6CgjH7t8c"
      },
      "execution_count": 61,
      "outputs": []
    },
    {
      "cell_type": "code",
      "source": [
        "# Función para la calcular la mediana utilizando como input un DataFrame y su columna\n",
        "def fn_median(df, col):\n",
        "    new_array = df[col].array\n",
        "    ordered_array = sorted(new_array)\n",
        "    if len(ordered_array) % 2 != 0:\n",
        "      return ordered_array[len(ordered_array)//2] # floor division\n",
        "    else:\n",
        "      return (ordered_array[len(ordered_array)-1] + ordered_array[len(ordered_array)+1])/2  \n",
        "\n",
        "# Calculando la mediana de velocidad del motor de los datos obtenidos en la sesión 2. \n",
        "print(fn_median(df_measures_mod_2, 'motor_speed'))"
      ],
      "metadata": {
        "id": "6UvqZvXW43_8",
        "outputId": "3fd378ec-be38-4732-e553-ed992fcf9e40",
        "colab": {
          "base_uri": "https://localhost:8080/"
        }
      },
      "execution_count": 51,
      "outputs": [
        {
          "output_type": "stream",
          "name": "stdout",
          "text": [
            "99.9994659423828\n"
          ]
        }
      ]
    },
    {
      "cell_type": "code",
      "source": [
        "def fn_stddev(ls):\n",
        "    n = len(ls)\n",
        "    mean = sum(ls) / n\n",
        "    var = sum((x - mean)**2 for x in ls) / n\n",
        "    std_dev = var ** 0.5\n",
        "    return std_dev\n",
        "# create a list of data points\n",
        "ls = [7, 2, 4, 3, 9, 12, 10, 2]\n",
        "print(fn_stddev(ls))"
      ],
      "metadata": {
        "id": "Z2w1N_GUCy-v",
        "outputId": "1f5514a2-1959-47ba-8b92-069eef381174",
        "colab": {
          "base_uri": "https://localhost:8080/"
        }
      },
      "execution_count": 53,
      "outputs": [
        {
          "output_type": "stream",
          "name": "stdout",
          "text": [
            "3.6550478793033614\n"
          ]
        }
      ]
    },
    {
      "cell_type": "code",
      "source": [
        "# Función para calcular la desviación estándar utilizando como input DataFrame y Columna. \n",
        "def fn_stddev(df, col):\n",
        "    new_array = df[col].array\n",
        "    n = len(new_array)\n",
        "    mean = sum(new_array) / n\n",
        "    var = sum((x - mean)**2 for x in new_array) / n\n",
        "    std_dev = var ** 0.5\n",
        "    return std_dev\n",
        "\n",
        "# Calculando la desviación estándar del torque. \n",
        "print(fn_stddev(df_measures, 'torque'))\n",
        "\n"
      ],
      "metadata": {
        "id": "spvgSvHvDV6H",
        "outputId": "34cd0040-7861-4c87-8a81-5e08d3f84ece",
        "colab": {
          "base_uri": "https://localhost:8080/"
        }
      },
      "execution_count": 58,
      "outputs": [
        {
          "output_type": "stream",
          "name": "stdout",
          "text": [
            "77.13572583057403\n"
          ]
        }
      ]
    },
    {
      "cell_type": "code",
      "source": [
        "# Función para calcular la varianza utilizando como input DataFrame y Columna. \n",
        "def fn_stddev(df, col):\n",
        "    new_array = df[col].array\n",
        "    n = len(new_array)\n",
        "    mean = sum(new_array) / n\n",
        "    var = sum((x - mean)**2 for x in new_array) / n\n",
        "    return var\n",
        "\n",
        "# Calculando la varianza del torque. \n",
        "print(fn_stddev(df_measures, 'torque'))\n",
        "\n"
      ],
      "metadata": {
        "id": "9Zf1c3qKE0cd",
        "outputId": "c082ce9a-3f64-4d17-8803-d914887438e3",
        "colab": {
          "base_uri": "https://localhost:8080/"
        }
      },
      "execution_count": 59,
      "outputs": [
        {
          "output_type": "stream",
          "name": "stdout",
          "text": [
            "5949.9201994094865\n"
          ]
        }
      ]
    },
    {
      "cell_type": "code",
      "source": [
        "df_measures.torque.hist(bins = 9)\n"
      ],
      "metadata": {
        "id": "Dmvn1RtmFkw4",
        "outputId": "9629e83e-d6e2-42db-ea39-9509d70cf19b",
        "colab": {
          "base_uri": "https://localhost:8080/",
          "height": 282
        }
      },
      "execution_count": 71,
      "outputs": [
        {
          "output_type": "execute_result",
          "data": {
            "text/plain": [
              "<matplotlib.axes._subplots.AxesSubplot at 0x7f490998e0a0>"
            ]
          },
          "metadata": {},
          "execution_count": 71
        },
        {
          "output_type": "display_data",
          "data": {
            "text/plain": [
              "<Figure size 432x288 with 1 Axes>"
            ],
            "image/png": "[encoded data removed]"
          },
          "metadata": {
            "needs_background": "light"
          }
        }
      ]
    },
    {
      "cell_type": "code",
      "source": [
        "# Comprando si la variable de interés, torque, son conjuntos de datos paramétricos o no paramétricos\n",
        "\n",
        "from scipy.stats import shapiro\n",
        "data = df_measures.torque.sample(50) # La prueba de Shapiro-Wilk es el método más apropiado para tamaños de muestra pequeños (<50 muestras)\n",
        "stat, p = shapiro(data)\n",
        "alpha = 0.05\n",
        "if p < alpha:\n",
        "    print(f'Asumimos que la distribución de nuestra variable no es normal/gaussiana con p = {round(p, 4)}')\n",
        "else:\n",
        "    print(f'Asumimos que la distribución de nuestra variable es normal/gaussiana con p = {round(p, 4)} ')\n",
        "     "
      ],
      "metadata": {
        "id": "0xRUBn_xGEei",
        "outputId": "fe009118-0624-4348-bde5-bef2b3385565",
        "colab": {
          "base_uri": "https://localhost:8080/"
        }
      },
      "execution_count": 80,
      "outputs": [
        {
          "output_type": "stream",
          "name": "stdout",
          "text": [
            "Asumimos que la distribución de nuestra variable no es normal/gaussiana con p = 0.0129\n"
          ]
        }
      ]
    }
  ]
}