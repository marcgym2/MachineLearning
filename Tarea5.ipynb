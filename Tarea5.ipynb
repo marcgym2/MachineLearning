{
  "nbformat": 4,
  "nbformat_minor": 0,
  "metadata": {
    "colab": {
      "provenance": [],
      "mount_file_id": "https://github.com/marcgym2/MachineLearning/blob/main/Tarea5.ipynb",
      "authorship_tag": "ABX9TyMZ+NegklkOxfc0OmwY5ty3",
      "include_colab_link": true
    },
    "kernelspec": {
      "name": "python3",
      "display_name": "Python 3"
    },
    "language_info": {
      "name": "python"
    }
  },
  "cells": [
    {
      "cell_type": "markdown",
      "metadata": {
        "id": "view-in-github",
        "colab_type": "text"
      },
      "source": [
        "<a href=\"https://colab.research.google.com/github/marcgym2/MachineLearning/blob/main/Tarea5.ipynb\" target=\"_parent\"><img src=\"https://colab.research.google.com/assets/colab-badge.svg\" alt=\"Open In Colab\"/></a>"
      ]
    },
    {
      "cell_type": "markdown",
      "source": [
        "## Tarea en clase (2 puntos)\n",
        "- Investigar sobre algún otro algoritmo no supervisado que pueda usarse en tu código. Da un panorama sobre el modelo matemático que emplea y explica por qué conviene aplicarlo a tus datos. Algunos modelos que no se vieron en clase son Affinity Propagation, BIRCH, DBSCAN, Mean Shift, Nearest Neighbors, OPTICS, Spectral Clustering, TSNE, entre otros\n",
        "- Investigar otras estrategias para determinar número de grupos en estos algoritmos (como los índices de Calinski-Harabasz o de Davies-Bouldin), elegir la más adecuada al método que elegiste\n"
      ],
      "metadata": {
        "id": "QGph-1fWqgdN"
      }
    },
    {
      "cell_type": "markdown",
      "source": [
        "# **DBSCAN**:  (Density-Based Spatial Clustering of Applications with Noise)\n",
        "\n",
        "Este algoritmo conviene aplicarlo para nuestros datos, ya que trabajamos con una gran cantidad de variables continuas y puede identificar clústeres de diferentes formas y tamaños.\n",
        "\n",
        "Utiliza un modelo matemático de densidad para identificar clústeres en un conjunto de datos. El modelo matemático se basa en la definición de densidad en el espacio de características, y el algoritmo trata de identificar regiones con alta densidad en el espacio de características que corresponden a los clústeres.\n",
        "\n",
        "Funciona de la siguiente manera: se define un radio epsilón y un número mínimo de puntos que deben estar dentro de un radio epsilón alrededor de un punto para ser considerado una región densa. Cualquier punto que se encuentre en una región densa se considera un punto de núcleo, y los clústeres se identifican conectando puntos de núcleo que están dentro de un radio epsilón uno del otro."
      ],
      "metadata": {
        "id": "ucGy30uMvzEq"
      }
    },
    {
      "cell_type": "markdown",
      "source": [
        "## Métricas para evaluar la calidad de los clústeres \n",
        "\n",
        "Los índices de Calinski-Harabasz y Davies-Bouldin son métricas comúnmente utilizadas para evaluar la calidad de los clústeres generados por algoritmos de clustering. Ambos índices se basan en la idea de medir la separación entre los clústeres y la homogeneidad dentro de los clústeres.\n",
        "\n",
        "Sin embargo, cuando se trata de variables continuas, el índice de **Calinski-Harabasz** suele ser el más adecuado. \n",
        "\n",
        "También conocido como el índice de varianza explicada, mide la razón entre la suma de las varianzas intra-clúster y la suma de las varianzas inter-clúster. Un valor más alto de este índice indica una mejor separación entre los clústeres y una mayor homogeneidad dentro de los clústeres.\n",
        "\n",
        "Las variables continuas suelen tener una estructura subyacente más compleja que las variables categóricas o discretas, y es importante evaluar la calidad de los clústeres en términos de la distribución de los datos. Además, el índice de Calinski-Harabasz es sensible a la cantidad de clústeres, por lo que es una buena métrica para evaluar la cantidad óptima de clústeres en un conjunto de datos. "
      ],
      "metadata": {
        "id": "6cbb_VerxJMo"
      }
    },
    {
      "cell_type": "markdown",
      "source": [
        "## Tarea (8 puntos)\n",
        "- Aplicar al menos un algoritmo no supervisado a tus datos para encontrar estructuras subyacentes\n",
        "- Elegir alguna métrica para determinar número de grupos, usarla y discutirla\n",
        "- Busca alguna revista científica que publique trabajos relacionados con el tuyo\n",
        "- Crea artículo mediante Latex con base en los lineamientos de la revista elegida y redacta ahí tus resultados, discusiones y bibliografía\n",
        "- Sube el código de tu tarea, los archivos de Latex y el PDF del artículo en tu repositorio, claramente diferenciados"
      ],
      "metadata": {
        "id": "cvCu_ZqmqsUH"
      }
    },
    {
      "cell_type": "code",
      "source": [
        "import pandas as pd\n",
        "import numpy as np\n",
        "from sklearn.cluster import DBSCAN # Algoritmo no supervisado\n",
        "import matplotlib.pyplot as plt # Visualización\n",
        "from sklearn.preprocessing import StandardScaler # Normalizar datos\n"
      ],
      "metadata": {
        "id": "3TVThdQeQGxR"
      },
      "execution_count": 1,
      "outputs": []
    },
    {
      "cell_type": "code",
      "source": [
        "from google.colab import drive\n",
        "drive.mount(\"/content/drive\")"
      ],
      "metadata": {
        "id": "VH1tjUx_O3Jz",
        "outputId": "bdf9e4b7-c53e-4534-9eb5-a008e1b188bc",
        "colab": {
          "base_uri": "https://localhost:8080/"
        }
      },
      "execution_count": 8,
      "outputs": [
        {
          "output_type": "stream",
          "name": "stdout",
          "text": [
            "Drive already mounted at /content/drive; to attempt to forcibly remount, call drive.mount(\"/content/drive\", force_remount=True).\n"
          ]
        }
      ]
    },
    {
      "cell_type": "code",
      "source": [
        "# Cargamos los datos en un DataFrame de pandas\n",
        "df_measures = pd.read_csv(\"/content/drive/MyDrive/Colab Notebooks/measures_v2.csv\")"
      ],
      "metadata": {
        "id": "vsu0xg7dORcA"
      },
      "execution_count": 2,
      "outputs": []
    },
    {
      "cell_type": "code",
      "source": [
        "# Seleccionamos las columnas que deseamos utilizar para clustering, descartando las sesiones de tiempo\n",
        "X = df_measures[['u_q', 'coolant', 'stator_winding', 'u_d', 'stator_tooth', \n",
        "                 'motor_speed', 'i_d', 'i_q', 'pm', 'stator_yoke', 'ambient']]"
      ],
      "metadata": {
        "id": "gVt8DRzJQPk8"
      },
      "execution_count": 3,
      "outputs": []
    },
    {
      "cell_type": "code",
      "source": [
        "# Normalizar las variables\n",
        "scaler = StandardScaler()\n",
        "X_norm = scaler.fit_transform(X)"
      ],
      "metadata": {
        "id": "g-JgKkoBTrhM"
      },
      "execution_count": 4,
      "outputs": []
    },
    {
      "cell_type": "code",
      "source": [
        "# Definir el modelo DBSCAN con los parámetros eps y min_samples\n",
        "# eps: radio máximo de la vecindad de un punto (distancia euclidiana)\n",
        "# min_samples: número mínimo de puntos que deben estar dentro del radio eps\n",
        "dbscan = DBSCAN(eps=0.5, min_samples=5)"
      ],
      "metadata": {
        "id": "NewMxL7PQYrO"
      },
      "execution_count": 5,
      "outputs": []
    },
    {
      "cell_type": "code",
      "source": [
        "# Entrenar el modelo con los datos normalizados\n",
        "dbscan.fit(X_norm)"
      ],
      "metadata": {
        "id": "B9pCG-6KQaak"
      },
      "execution_count": null,
      "outputs": []
    },
    {
      "cell_type": "code",
      "source": [
        "# Obtenemos las etiquetas de cada punto, -1 indica ruido\n",
        "labels = dbscan.labels_"
      ],
      "metadata": {
        "id": "oU59pz0QQd24"
      },
      "execution_count": 16,
      "outputs": []
    },
    {
      "cell_type": "code",
      "source": [
        "# Imprimimos el número de clusters y puntos ruido\n",
        "n_clusters_ = len(set(labels)) - (1 if -1 in labels else 0)\n",
        "n_noise_ = list(labels).count(-1)\n",
        "print('Número de clusters encontrados:', n_clusters_)\n",
        "print('Número de puntos considerados como ruido:', n_noise_)"
      ],
      "metadata": {
        "id": "H1sRETSeQf3k",
        "outputId": "73d20572-87c4-4e20-d969-52134378a5b6",
        "colab": {
          "base_uri": "https://localhost:8080/"
        }
      },
      "execution_count": 17,
      "outputs": [
        {
          "output_type": "stream",
          "name": "stdout",
          "text": [
            "Número de clusters encontrados: 3060\n",
            "Número de puntos considerados como ruido: 487178\n"
          ]
        }
      ]
    },
    {
      "cell_type": "code",
      "source": [
        "# Añadimos las etiquetas al DataFrame\n",
        "df_measures['cluster'] = labels\n",
        "\n",
        "# Mostramos los resultados\n",
        "print(df_measures.head())\n"
      ],
      "metadata": {
        "id": "q27yW3_sQkfG",
        "outputId": "abf8b169-56fd-49f1-98cf-23519899baad",
        "colab": {
          "base_uri": "https://localhost:8080/"
        }
      },
      "execution_count": 19,
      "outputs": [
        {
          "output_type": "stream",
          "name": "stdout",
          "text": [
            "        u_q    coolant  stator_winding       u_d  stator_tooth  motor_speed  \\\n",
            "0 -0.450682  18.805172       19.086670 -0.350055     18.293219     0.002866   \n",
            "1 -0.325737  18.818571       19.092390 -0.305803     18.294807     0.000257   \n",
            "2 -0.440864  18.828770       19.089380 -0.372503     18.294094     0.002355   \n",
            "3 -0.327026  18.835567       19.083031 -0.316199     18.292542     0.006105   \n",
            "4 -0.471150  18.857033       19.082525 -0.332272     18.291428     0.003133   \n",
            "\n",
            "        i_d       i_q         pm  stator_yoke    ambient    torque  \\\n",
            "0  0.004419  0.000328  24.554214    18.316547  19.850691  0.187101   \n",
            "1  0.000606 -0.000785  24.538078    18.314955  19.850672  0.245417   \n",
            "2  0.001290  0.000386  24.544693    18.326307  19.850657  0.176615   \n",
            "3  0.000026  0.002046  24.554018    18.330833  19.850647  0.238303   \n",
            "4 -0.064317  0.037184  24.565397    18.326662  19.850639  0.208197   \n",
            "\n",
            "   profile_id  cluster  \n",
            "0          17        0  \n",
            "1          17        0  \n",
            "2          17        0  \n",
            "3          17        0  \n",
            "4          17        0  \n"
          ]
        }
      ]
    },
    {
      "cell_type": "code",
      "source": [
        "# Creamos un array de colores para los puntos\n",
        "colors = ['red', 'blue', 'green', 'yellow', 'purple', 'pink', 'orange']\n",
        "unique_labels = set(labels)\n",
        "for label in unique_labels:\n",
        "    if label == -1:\n",
        "        # Pintamos los puntos ruido de negro\n",
        "        color = 'black'\n",
        "    else:\n",
        "        color = colors[label % len(colors)]\n",
        "    # Seleccionamos los puntos con esta etiqueta y los pintamos\n",
        "    x = X_db[labels == label]\n",
        "    plt.scatter(x.iloc[:, 0], x.iloc[:, 1], color=color)"
      ],
      "metadata": {
        "id": "wysF973GRgpW",
        "outputId": "9d4cab84-295e-4bdd-b1b8-6a40dc8d0939",
        "colab": {
          "base_uri": "https://localhost:8080/",
          "height": 265
        }
      },
      "execution_count": 20,
      "outputs": [
        {
          "output_type": "display_data",
          "data": {
            "text/plain": [
              "<Figure size 432x288 with 1 Axes>"
            ],
            "image/png": "[encoded data removed]"
          },
          "metadata": {
            "needs_background": "light"
          }
        }
      ]
    },
    {
      "cell_type": "code",
      "source": [
        "# Mostramos el gráfico\n",
        "plt.title('DBSCAN')\n",
        "plt.show()\n"
      ],
      "metadata": {
        "id": "3B0BxgL1QChx"
      },
      "execution_count": null,
      "outputs": []
    }
  ]
}