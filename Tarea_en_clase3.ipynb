{
  "nbformat": 4,
  "nbformat_minor": 0,
  "metadata": {
    "colab": {
      "provenance": [],
      "authorship_tag": "ABX9TyPXVqpbld2pIWDN4D/7KZtN",
      "include_colab_link": true
    },
    "kernelspec": {
      "name": "python3",
      "display_name": "Python 3"
    },
    "language_info": {
      "name": "python"
    }
  },
  "cells": [
    {
      "cell_type": "markdown",
      "metadata": {
        "id": "view-in-github",
        "colab_type": "text"
      },
      "source": [
        "<a href=\"https://colab.research.google.com/github/marcgym2/MachineLearning/blob/main/Tarea_en_clase3.ipynb\" target=\"_parent\"><img src=\"https://colab.research.google.com/assets/colab-badge.svg\" alt=\"Open In Colab\"/></a>"
      ]
    },
    {
      "cell_type": "code",
      "execution_count": 1,
      "metadata": {
        "colab": {
          "base_uri": "https://localhost:8080/"
        },
        "id": "JI3FwMivIpcB",
        "outputId": "07a3d7e4-09f8-42ae-84eb-285dc0824bd2"
      },
      "outputs": [
        {
          "output_type": "stream",
          "name": "stdout",
          "text": [
            "Mounted at /content/drive\n"
          ]
        }
      ],
      "source": [
        "import pandas as pd\n",
        "import numpy as np\n",
        "from IPython.display import Markdown\n",
        "\n",
        "from google.colab import drive\n",
        "drive.mount(\"/content/drive\")"
      ]
    },
    {
      "cell_type": "code",
      "source": [
        "df_measures = pd.read_csv(\"/content/drive/MyDrive/Colab Notebooks/measures_v2.csv\")\n"
      ],
      "metadata": {
        "id": "HPrAjWZ4JB6D"
      },
      "execution_count": 2,
      "outputs": []
    },
    {
      "cell_type": "code",
      "source": [
        "df_measures.info()"
      ],
      "metadata": {
        "colab": {
          "base_uri": "https://localhost:8080/"
        },
        "id": "MLj7W6ywsBkf",
        "outputId": "dd09d9fa-76d1-4299-b891-ac56803188da"
      },
      "execution_count": 5,
      "outputs": [
        {
          "output_type": "stream",
          "name": "stdout",
          "text": [
            "<class 'pandas.core.frame.DataFrame'>\n",
            "RangeIndex: 1330816 entries, 0 to 1330815\n",
            "Data columns (total 13 columns):\n",
            " #   Column          Non-Null Count    Dtype  \n",
            "---  ------          --------------    -----  \n",
            " 0   u_q             1330816 non-null  float64\n",
            " 1   coolant         1330816 non-null  float64\n",
            " 2   stator_winding  1330816 non-null  float64\n",
            " 3   u_d             1330816 non-null  float64\n",
            " 4   stator_tooth    1330816 non-null  float64\n",
            " 5   motor_speed     1330816 non-null  float64\n",
            " 6   i_d             1330816 non-null  float64\n",
            " 7   i_q             1330816 non-null  float64\n",
            " 8   pm              1330816 non-null  float64\n",
            " 9   stator_yoke     1330816 non-null  float64\n",
            " 10  ambient         1330816 non-null  float64\n",
            " 11  torque          1330816 non-null  float64\n",
            " 12  profile_id      1330816 non-null  int64  \n",
            "dtypes: float64(12), int64(1)\n",
            "memory usage: 132.0 MB\n"
          ]
        }
      ]
    },
    {
      "cell_type": "code",
      "source": [
        "# Definiendo feature y target variable para Regresión\n",
        "X_reg=df_measures.iloc[:,0:10] # features ...\n",
        "y_reg=df_measures.iloc[:,11] # Target variable: Torque"
      ],
      "metadata": {
        "colab": {
          "base_uri": "https://localhost:8080/",
          "height": 419
        },
        "id": "EsA4thPusNw8",
        "outputId": "c4d02e15-6181-4e81-b623-fdecaff9340f"
      },
      "execution_count": 13,
      "outputs": [
        {
          "output_type": "execute_result",
          "data": {
            "text/plain": [
              "              u_q    coolant  stator_winding       u_d  stator_tooth  \\\n",
              "0       -0.450682  18.805172       19.086670 -0.350055     18.293219   \n",
              "1       -0.325737  18.818571       19.092390 -0.305803     18.294807   \n",
              "2       -0.440864  18.828770       19.089380 -0.372503     18.294094   \n",
              "3       -0.327026  18.835567       19.083031 -0.316199     18.292542   \n",
              "4       -0.471150  18.857033       19.082525 -0.332272     18.291428   \n",
              "...           ...        ...             ...       ...           ...   \n",
              "1330811 -2.152128  30.721298       45.274497  0.791801     41.934347   \n",
              "1330812 -2.258684  30.721306       45.239017  0.778900     41.868923   \n",
              "1330813 -2.130312  30.721312       45.211576  0.804914     41.804819   \n",
              "1330814 -2.268498  30.721316       45.193508  0.763091     41.762220   \n",
              "1330815 -2.100158  30.721319       45.132307  0.807309     41.734763   \n",
              "\n",
              "         motor_speed       i_d       i_q         pm  stator_yoke  \n",
              "0           0.002866  0.004419  0.000328  24.554214    18.316547  \n",
              "1           0.000257  0.000606 -0.000785  24.538078    18.314955  \n",
              "2           0.002355  0.001290  0.000386  24.544693    18.326307  \n",
              "3           0.006105  0.000026  0.002046  24.554018    18.330833  \n",
              "4           0.003133 -0.064317  0.037184  24.565397    18.326662  \n",
              "...              ...       ...       ...        ...          ...  \n",
              "1330811     0.000380 -2.000169  1.097528  62.147780    38.653720  \n",
              "1330812     0.002985 -2.000499  1.097569  62.142646    38.656328  \n",
              "1330813     0.002301 -1.999268  1.098765  62.138387    38.650923  \n",
              "1330814     0.005662 -2.000999  1.095696  62.133422    38.655686  \n",
              "1330815     0.004395 -2.000792  1.096487  62.131429    38.660370  \n",
              "\n",
              "[1330816 rows x 10 columns]"
            ],
            "text/html": [
              "\n",
              "  <div id=\"df-281b6622-9a08-4eb7-8d7f-aef6614cee18\">\n",
              "    <div class=\"colab-df-container\">\n",
              "      <div>\n",
              "<style scoped>\n",
              "    .dataframe tbody tr th:only-of-type {\n",
              "        vertical-align: middle;\n",
              "    }\n",
              "\n",
              "    .dataframe tbody tr th {\n",
              "        vertical-align: top;\n",
              "    }\n",
              "\n",
              "    .dataframe thead th {\n",
              "        text-align: right;\n",
              "    }\n",
              "</style>\n",
              "<table border=\"1\" class=\"dataframe\">\n",
              "  <thead>\n",
              "    <tr style=\"text-align: right;\">\n",
              "      <th></th>\n",
              "      <th>u_q</th>\n",
              "      <th>coolant</th>\n",
              "      <th>stator_winding</th>\n",
              "      <th>u_d</th>\n",
              "      <th>stator_tooth</th>\n",
              "      <th>motor_speed</th>\n",
              "      <th>i_d</th>\n",
              "      <th>i_q</th>\n",
              "      <th>pm</th>\n",
              "      <th>stator_yoke</th>\n",
              "    </tr>\n",
              "  </thead>\n",
              "  <tbody>\n",
              "    <tr>\n",
              "      <th>0</th>\n",
              "      <td>-0.450682</td>\n",
              "      <td>18.805172</td>\n",
              "      <td>19.086670</td>\n",
              "      <td>-0.350055</td>\n",
              "      <td>18.293219</td>\n",
              "      <td>0.002866</td>\n",
              "      <td>0.004419</td>\n",
              "      <td>0.000328</td>\n",
              "      <td>24.554214</td>\n",
              "      <td>18.316547</td>\n",
              "    </tr>\n",
              "    <tr>\n",
              "      <th>1</th>\n",
              "      <td>-0.325737</td>\n",
              "      <td>18.818571</td>\n",
              "      <td>19.092390</td>\n",
              "      <td>-0.305803</td>\n",
              "      <td>18.294807</td>\n",
              "      <td>0.000257</td>\n",
              "      <td>0.000606</td>\n",
              "      <td>-0.000785</td>\n",
              "      <td>24.538078</td>\n",
              "      <td>18.314955</td>\n",
              "    </tr>\n",
              "    <tr>\n",
              "      <th>2</th>\n",
              "      <td>-0.440864</td>\n",
              "      <td>18.828770</td>\n",
              "      <td>19.089380</td>\n",
              "      <td>-0.372503</td>\n",
              "      <td>18.294094</td>\n",
              "      <td>0.002355</td>\n",
              "      <td>0.001290</td>\n",
              "      <td>0.000386</td>\n",
              "      <td>24.544693</td>\n",
              "      <td>18.326307</td>\n",
              "    </tr>\n",
              "    <tr>\n",
              "      <th>3</th>\n",
              "      <td>-0.327026</td>\n",
              "      <td>18.835567</td>\n",
              "      <td>19.083031</td>\n",
              "      <td>-0.316199</td>\n",
              "      <td>18.292542</td>\n",
              "      <td>0.006105</td>\n",
              "      <td>0.000026</td>\n",
              "      <td>0.002046</td>\n",
              "      <td>24.554018</td>\n",
              "      <td>18.330833</td>\n",
              "    </tr>\n",
              "    <tr>\n",
              "      <th>4</th>\n",
              "      <td>-0.471150</td>\n",
              "      <td>18.857033</td>\n",
              "      <td>19.082525</td>\n",
              "      <td>-0.332272</td>\n",
              "      <td>18.291428</td>\n",
              "      <td>0.003133</td>\n",
              "      <td>-0.064317</td>\n",
              "      <td>0.037184</td>\n",
              "      <td>24.565397</td>\n",
              "      <td>18.326662</td>\n",
              "    </tr>\n",
              "    <tr>\n",
              "      <th>...</th>\n",
              "      <td>...</td>\n",
              "      <td>...</td>\n",
              "      <td>...</td>\n",
              "      <td>...</td>\n",
              "      <td>...</td>\n",
              "      <td>...</td>\n",
              "      <td>...</td>\n",
              "      <td>...</td>\n",
              "      <td>...</td>\n",
              "      <td>...</td>\n",
              "    </tr>\n",
              "    <tr>\n",
              "      <th>1330811</th>\n",
              "      <td>-2.152128</td>\n",
              "      <td>30.721298</td>\n",
              "      <td>45.274497</td>\n",
              "      <td>0.791801</td>\n",
              "      <td>41.934347</td>\n",
              "      <td>0.000380</td>\n",
              "      <td>-2.000169</td>\n",
              "      <td>1.097528</td>\n",
              "      <td>62.147780</td>\n",
              "      <td>38.653720</td>\n",
              "    </tr>\n",
              "    <tr>\n",
              "      <th>1330812</th>\n",
              "      <td>-2.258684</td>\n",
              "      <td>30.721306</td>\n",
              "      <td>45.239017</td>\n",
              "      <td>0.778900</td>\n",
              "      <td>41.868923</td>\n",
              "      <td>0.002985</td>\n",
              "      <td>-2.000499</td>\n",
              "      <td>1.097569</td>\n",
              "      <td>62.142646</td>\n",
              "      <td>38.656328</td>\n",
              "    </tr>\n",
              "    <tr>\n",
              "      <th>1330813</th>\n",
              "      <td>-2.130312</td>\n",
              "      <td>30.721312</td>\n",
              "      <td>45.211576</td>\n",
              "      <td>0.804914</td>\n",
              "      <td>41.804819</td>\n",
              "      <td>0.002301</td>\n",
              "      <td>-1.999268</td>\n",
              "      <td>1.098765</td>\n",
              "      <td>62.138387</td>\n",
              "      <td>38.650923</td>\n",
              "    </tr>\n",
              "    <tr>\n",
              "      <th>1330814</th>\n",
              "      <td>-2.268498</td>\n",
              "      <td>30.721316</td>\n",
              "      <td>45.193508</td>\n",
              "      <td>0.763091</td>\n",
              "      <td>41.762220</td>\n",
              "      <td>0.005662</td>\n",
              "      <td>-2.000999</td>\n",
              "      <td>1.095696</td>\n",
              "      <td>62.133422</td>\n",
              "      <td>38.655686</td>\n",
              "    </tr>\n",
              "    <tr>\n",
              "      <th>1330815</th>\n",
              "      <td>-2.100158</td>\n",
              "      <td>30.721319</td>\n",
              "      <td>45.132307</td>\n",
              "      <td>0.807309</td>\n",
              "      <td>41.734763</td>\n",
              "      <td>0.004395</td>\n",
              "      <td>-2.000792</td>\n",
              "      <td>1.096487</td>\n",
              "      <td>62.131429</td>\n",
              "      <td>38.660370</td>\n",
              "    </tr>\n",
              "  </tbody>\n",
              "</table>\n",
              "<p>1330816 rows × 10 columns</p>\n",
              "</div>\n",
              "      <button class=\"colab-df-convert\" onclick=\"convertToInteractive('df-281b6622-9a08-4eb7-8d7f-aef6614cee18')\"\n",
              "              title=\"Convert this dataframe to an interactive table.\"\n",
              "              style=\"display:none;\">\n",
              "        \n",
              "  <svg xmlns=\"http://www.w3.org/2000/svg\" height=\"24px\"viewBox=\"0 0 24 24\"\n",
              "       width=\"24px\">\n",
              "    <path d=\"M0 0h24v24H0V0z\" fill=\"none\"/>\n",
              "    <path d=\"M18.56 5.44l.94 2.06.94-2.06 2.06-.94-2.06-.94-.94-2.06-.94 2.06-2.06.94zm-11 1L8.5 8.5l.94-2.06 2.06-.94-2.06-.94L8.5 2.5l-.94 2.06-2.06.94zm10 10l.94 2.06.94-2.06 2.06-.94-2.06-.94-.94-2.06-.94 2.06-2.06.94z\"/><path d=\"M17.41 7.96l-1.37-1.37c-.4-.4-.92-.59-1.43-.59-.52 0-1.04.2-1.43.59L10.3 9.45l-7.72 7.72c-.78.78-.78 2.05 0 2.83L4 21.41c.39.39.9.59 1.41.59.51 0 1.02-.2 1.41-.59l7.78-7.78 2.81-2.81c.8-.78.8-2.07 0-2.86zM5.41 20L4 18.59l7.72-7.72 1.47 1.35L5.41 20z\"/>\n",
              "  </svg>\n",
              "      </button>\n",
              "      \n",
              "  <style>\n",
              "    .colab-df-container {\n",
              "      display:flex;\n",
              "      flex-wrap:wrap;\n",
              "      gap: 12px;\n",
              "    }\n",
              "\n",
              "    .colab-df-convert {\n",
              "      background-color: #E8F0FE;\n",
              "      border: none;\n",
              "      border-radius: 50%;\n",
              "      cursor: pointer;\n",
              "      display: none;\n",
              "      fill: #1967D2;\n",
              "      height: 32px;\n",
              "      padding: 0 0 0 0;\n",
              "      width: 32px;\n",
              "    }\n",
              "\n",
              "    .colab-df-convert:hover {\n",
              "      background-color: #E2EBFA;\n",
              "      box-shadow: 0px 1px 2px rgba(60, 64, 67, 0.3), 0px 1px 3px 1px rgba(60, 64, 67, 0.15);\n",
              "      fill: #174EA6;\n",
              "    }\n",
              "\n",
              "    [theme=dark] .colab-df-convert {\n",
              "      background-color: #3B4455;\n",
              "      fill: #D2E3FC;\n",
              "    }\n",
              "\n",
              "    [theme=dark] .colab-df-convert:hover {\n",
              "      background-color: #434B5C;\n",
              "      box-shadow: 0px 1px 3px 1px rgba(0, 0, 0, 0.15);\n",
              "      filter: drop-shadow(0px 1px 2px rgba(0, 0, 0, 0.3));\n",
              "      fill: #FFFFFF;\n",
              "    }\n",
              "  </style>\n",
              "\n",
              "      <script>\n",
              "        const buttonEl =\n",
              "          document.querySelector('#df-281b6622-9a08-4eb7-8d7f-aef6614cee18 button.colab-df-convert');\n",
              "        buttonEl.style.display =\n",
              "          google.colab.kernel.accessAllowed ? 'block' : 'none';\n",
              "\n",
              "        async function convertToInteractive(key) {\n",
              "          const element = document.querySelector('#df-281b6622-9a08-4eb7-8d7f-aef6614cee18');\n",
              "          const dataTable =\n",
              "            await google.colab.kernel.invokeFunction('convertToInteractive',\n",
              "                                                     [key], {});\n",
              "          if (!dataTable) return;\n",
              "\n",
              "          const docLinkHtml = 'Like what you see? Visit the ' +\n",
              "            '<a target=\"_blank\" href=https://colab.research.google.com/notebooks/data_table.ipynb>data table notebook</a>'\n",
              "            + ' to learn more about interactive tables.';\n",
              "          element.innerHTML = '';\n",
              "          dataTable['output_type'] = 'display_data';\n",
              "          await google.colab.output.renderOutput(dataTable, element);\n",
              "          const docLink = document.createElement('div');\n",
              "          docLink.innerHTML = docLinkHtml;\n",
              "          element.appendChild(docLink);\n",
              "        }\n",
              "      </script>\n",
              "    </div>\n",
              "  </div>\n",
              "  "
            ]
          },
          "metadata": {},
          "execution_count": 13
        }
      ]
    },
    {
      "cell_type": "code",
      "source": [
        "# Import SelectKBest, f_regression \n",
        "from sklearn.feature_selection import SelectKBest, f_regression"
      ],
      "metadata": {
        "id": "blA1Xxzysh25"
      },
      "execution_count": 14,
      "outputs": []
    },
    {
      "cell_type": "code",
      "source": [
        "# fit and transform \n",
        "# k numero de features (min 1, max 4)\n",
        "X_reg_new=SelectKBest(score_func=f_regression, k=3).fit_transform(X_reg,y_reg)\n"
      ],
      "metadata": {
        "id": "m7XwUkIFtCHd"
      },
      "execution_count": 16,
      "outputs": []
    },
    {
      "cell_type": "code",
      "source": [
        "# Mejores features\n",
        "print(X_reg_new[:5])"
      ],
      "metadata": {
        "colab": {
          "base_uri": "https://localhost:8080/"
        },
        "id": "KQPnQMXhtSHs",
        "outputId": "e96c80fd-8854-4bc8-dc09-2ee23789a084"
      },
      "execution_count": 17,
      "outputs": [
        {
          "output_type": "stream",
          "name": "stdout",
          "text": [
            "[[-3.50054592e-01  4.41913679e-03  3.28102178e-04]\n",
            " [-3.05803001e-01  6.05872367e-04 -7.85352662e-04]\n",
            " [-3.72502625e-01  1.28958712e-03  3.86468193e-04]\n",
            " [-3.16198707e-01  2.55843261e-05  2.04566098e-03]\n",
            " [-3.32272142e-01 -6.43167794e-02  3.71837765e-02]]\n"
          ]
        }
      ]
    },
    {
      "cell_type": "code",
      "source": [
        "# Con lo anterior, podemos relacionar que los mejores features son u_d, i_d, i_q\n",
        "print(X_reg.head())"
      ],
      "metadata": {
        "colab": {
          "base_uri": "https://localhost:8080/"
        },
        "id": "E1ZV-CbttVLP",
        "outputId": "03344fc6-c68b-4332-e2e4-454bfc9c29c5"
      },
      "execution_count": 18,
      "outputs": [
        {
          "output_type": "stream",
          "name": "stdout",
          "text": [
            "        u_q    coolant  stator_winding       u_d  stator_tooth  motor_speed  \\\n",
            "0 -0.450682  18.805172       19.086670 -0.350055     18.293219     0.002866   \n",
            "1 -0.325737  18.818571       19.092390 -0.305803     18.294807     0.000257   \n",
            "2 -0.440864  18.828770       19.089380 -0.372503     18.294094     0.002355   \n",
            "3 -0.327026  18.835567       19.083031 -0.316199     18.292542     0.006105   \n",
            "4 -0.471150  18.857033       19.082525 -0.332272     18.291428     0.003133   \n",
            "\n",
            "        i_d       i_q         pm  stator_yoke  \n",
            "0  0.004419  0.000328  24.554214    18.316547  \n",
            "1  0.000606 -0.000785  24.538078    18.314955  \n",
            "2  0.001290  0.000386  24.544693    18.326307  \n",
            "3  0.000026  0.002046  24.554018    18.330833  \n",
            "4 -0.064317  0.037184  24.565397    18.326662  \n"
          ]
        }
      ]
    }
  ]
}